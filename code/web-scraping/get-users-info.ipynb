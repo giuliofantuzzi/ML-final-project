{
 "cells": [
  {
   "cell_type": "code",
   "execution_count": 1,
   "metadata": {},
   "outputs": [],
   "source": [
    "import pandas as pd\n",
    "import numpy as np"
   ]
  },
  {
   "cell_type": "markdown",
   "metadata": {},
   "source": [
    "# (1) ADD EMPTY USER COLUMNS"
   ]
  },
  {
   "cell_type": "code",
   "execution_count": 2,
   "metadata": {},
   "outputs": [
    {
     "name": "stdout",
     "output_type": "stream",
     "text": [
      "(4993, 11)\n"
     ]
    },
    {
     "data": {
      "text/html": [
       "<div>\n",
       "<style scoped>\n",
       "    .dataframe tbody tr th:only-of-type {\n",
       "        vertical-align: middle;\n",
       "    }\n",
       "\n",
       "    .dataframe tbody tr th {\n",
       "        vertical-align: top;\n",
       "    }\n",
       "\n",
       "    .dataframe thead th {\n",
       "        text-align: right;\n",
       "    }\n",
       "</style>\n",
       "<table border=\"1\" class=\"dataframe\">\n",
       "  <thead>\n",
       "    <tr style=\"text-align: right;\">\n",
       "      <th></th>\n",
       "      <th>text</th>\n",
       "      <th>username</th>\n",
       "      <th>likes</th>\n",
       "      <th>comments</th>\n",
       "      <th>retweets</th>\n",
       "      <th>quotes</th>\n",
       "      <th>is-retweet</th>\n",
       "      <th>external-link</th>\n",
       "      <th>pictures</th>\n",
       "      <th>videos</th>\n",
       "      <th>gifs</th>\n",
       "    </tr>\n",
       "  </thead>\n",
       "  <tbody>\n",
       "    <tr>\n",
       "      <th>0</th>\n",
       "      <td>Fried Chicken with Hot 🔥 Sauce Corn Muffin and...</td>\n",
       "      <td>@homevsfastfood</td>\n",
       "      <td>125</td>\n",
       "      <td>2</td>\n",
       "      <td>33</td>\n",
       "      <td>1</td>\n",
       "      <td>True</td>\n",
       "      <td>NaN</td>\n",
       "      <td>['https://pbs.twimg.com/media/GBRPAZvXcAATBXG....</td>\n",
       "      <td>[]</td>\n",
       "      <td>[]</td>\n",
       "    </tr>\n",
       "    <tr>\n",
       "      <th>1</th>\n",
       "      <td>#Morel #mushrooms at center of #food #poisonin...</td>\n",
       "      <td>@MicrobesInfo</td>\n",
       "      <td>0</td>\n",
       "      <td>0</td>\n",
       "      <td>0</td>\n",
       "      <td>0</td>\n",
       "      <td>False</td>\n",
       "      <td>NaN</td>\n",
       "      <td>[]</td>\n",
       "      <td>[]</td>\n",
       "      <td>[]</td>\n",
       "    </tr>\n",
       "    <tr>\n",
       "      <th>2</th>\n",
       "      <td>My Blog::  Obama Legacy Facing REVISIT ... Ian...</td>\n",
       "      <td>@IanRMackintosh</td>\n",
       "      <td>1</td>\n",
       "      <td>0</td>\n",
       "      <td>0</td>\n",
       "      <td>0</td>\n",
       "      <td>False</td>\n",
       "      <td>NaN</td>\n",
       "      <td>[]</td>\n",
       "      <td>[]</td>\n",
       "      <td>[]</td>\n",
       "    </tr>\n",
       "    <tr>\n",
       "      <th>3</th>\n",
       "      <td>Craving sushi but tired of expensive takeout? ...</td>\n",
       "      <td>@boxnipUK</td>\n",
       "      <td>0</td>\n",
       "      <td>0</td>\n",
       "      <td>0</td>\n",
       "      <td>0</td>\n",
       "      <td>False</td>\n",
       "      <td>NaN</td>\n",
       "      <td>[]</td>\n",
       "      <td>[]</td>\n",
       "      <td>[]</td>\n",
       "    </tr>\n",
       "    <tr>\n",
       "      <th>4</th>\n",
       "      <td>Potato Pancakes should not be a rare side dish...</td>\n",
       "      <td>@LifestyleSoln</td>\n",
       "      <td>0</td>\n",
       "      <td>0</td>\n",
       "      <td>0</td>\n",
       "      <td>0</td>\n",
       "      <td>False</td>\n",
       "      <td>NaN</td>\n",
       "      <td>['https://pbs.twimg.com/media/GBVywFMWkAE5vLY....</td>\n",
       "      <td>[]</td>\n",
       "      <td>[]</td>\n",
       "    </tr>\n",
       "  </tbody>\n",
       "</table>\n",
       "</div>"
      ],
      "text/plain": [
       "                                                text         username  likes  \\\n",
       "0  Fried Chicken with Hot 🔥 Sauce Corn Muffin and...  @homevsfastfood    125   \n",
       "1  #Morel #mushrooms at center of #food #poisonin...    @MicrobesInfo      0   \n",
       "2  My Blog::  Obama Legacy Facing REVISIT ... Ian...  @IanRMackintosh      1   \n",
       "3  Craving sushi but tired of expensive takeout? ...        @boxnipUK      0   \n",
       "4  Potato Pancakes should not be a rare side dish...   @LifestyleSoln      0   \n",
       "\n",
       "   comments  retweets  quotes  is-retweet external-link  \\\n",
       "0         2        33       1        True           NaN   \n",
       "1         0         0       0       False           NaN   \n",
       "2         0         0       0       False           NaN   \n",
       "3         0         0       0       False           NaN   \n",
       "4         0         0       0       False           NaN   \n",
       "\n",
       "                                            pictures videos gifs  \n",
       "0  ['https://pbs.twimg.com/media/GBRPAZvXcAATBXG....     []   []  \n",
       "1                                                 []     []   []  \n",
       "2                                                 []     []   []  \n",
       "3                                                 []     []   []  \n",
       "4  ['https://pbs.twimg.com/media/GBVywFMWkAE5vLY....     []   []  "
      ]
     },
     "execution_count": 2,
     "metadata": {},
     "output_type": "execute_result"
    }
   ],
   "source": [
    "tweets_df = pd.read_csv('../../datasets/tweets-data-merged.csv')\n",
    "print(tweets_df.shape)\n",
    "tweets_df.head(5)"
   ]
  },
  {
   "cell_type": "markdown",
   "metadata": {},
   "source": [
    "**We still don't have information related to the users!!!**\n",
    "\n",
    "Firstly we add some empty columns, and we will fill them later"
   ]
  },
  {
   "cell_type": "code",
   "execution_count": 3,
   "metadata": {},
   "outputs": [
    {
     "data": {
      "text/html": [
       "<div>\n",
       "<style scoped>\n",
       "    .dataframe tbody tr th:only-of-type {\n",
       "        vertical-align: middle;\n",
       "    }\n",
       "\n",
       "    .dataframe tbody tr th {\n",
       "        vertical-align: top;\n",
       "    }\n",
       "\n",
       "    .dataframe thead th {\n",
       "        text-align: right;\n",
       "    }\n",
       "</style>\n",
       "<table border=\"1\" class=\"dataframe\">\n",
       "  <thead>\n",
       "    <tr style=\"text-align: right;\">\n",
       "      <th></th>\n",
       "      <th>text</th>\n",
       "      <th>username</th>\n",
       "      <th>likes</th>\n",
       "      <th>comments</th>\n",
       "      <th>retweets</th>\n",
       "      <th>quotes</th>\n",
       "      <th>is-retweet</th>\n",
       "      <th>external-link</th>\n",
       "      <th>pictures</th>\n",
       "      <th>videos</th>\n",
       "      <th>gifs</th>\n",
       "      <th>user-image</th>\n",
       "      <th>user-bio</th>\n",
       "      <th>user-website</th>\n",
       "      <th>user-tweets</th>\n",
       "      <th>user-following</th>\n",
       "      <th>user-followers</th>\n",
       "      <th>user-likes</th>\n",
       "      <th>user-media</th>\n",
       "    </tr>\n",
       "  </thead>\n",
       "  <tbody>\n",
       "    <tr>\n",
       "      <th>0</th>\n",
       "      <td>Fried Chicken with Hot 🔥 Sauce Corn Muffin and...</td>\n",
       "      <td>@homevsfastfood</td>\n",
       "      <td>125</td>\n",
       "      <td>2</td>\n",
       "      <td>33</td>\n",
       "      <td>1</td>\n",
       "      <td>True</td>\n",
       "      <td>NaN</td>\n",
       "      <td>['https://pbs.twimg.com/media/GBRPAZvXcAATBXG....</td>\n",
       "      <td>[]</td>\n",
       "      <td>[]</td>\n",
       "      <td>NaN</td>\n",
       "      <td>NaN</td>\n",
       "      <td>NaN</td>\n",
       "      <td>NaN</td>\n",
       "      <td>NaN</td>\n",
       "      <td>NaN</td>\n",
       "      <td>NaN</td>\n",
       "      <td>NaN</td>\n",
       "    </tr>\n",
       "    <tr>\n",
       "      <th>1</th>\n",
       "      <td>#Morel #mushrooms at center of #food #poisonin...</td>\n",
       "      <td>@MicrobesInfo</td>\n",
       "      <td>0</td>\n",
       "      <td>0</td>\n",
       "      <td>0</td>\n",
       "      <td>0</td>\n",
       "      <td>False</td>\n",
       "      <td>NaN</td>\n",
       "      <td>[]</td>\n",
       "      <td>[]</td>\n",
       "      <td>[]</td>\n",
       "      <td>NaN</td>\n",
       "      <td>NaN</td>\n",
       "      <td>NaN</td>\n",
       "      <td>NaN</td>\n",
       "      <td>NaN</td>\n",
       "      <td>NaN</td>\n",
       "      <td>NaN</td>\n",
       "      <td>NaN</td>\n",
       "    </tr>\n",
       "    <tr>\n",
       "      <th>2</th>\n",
       "      <td>My Blog::  Obama Legacy Facing REVISIT ... Ian...</td>\n",
       "      <td>@IanRMackintosh</td>\n",
       "      <td>1</td>\n",
       "      <td>0</td>\n",
       "      <td>0</td>\n",
       "      <td>0</td>\n",
       "      <td>False</td>\n",
       "      <td>NaN</td>\n",
       "      <td>[]</td>\n",
       "      <td>[]</td>\n",
       "      <td>[]</td>\n",
       "      <td>NaN</td>\n",
       "      <td>NaN</td>\n",
       "      <td>NaN</td>\n",
       "      <td>NaN</td>\n",
       "      <td>NaN</td>\n",
       "      <td>NaN</td>\n",
       "      <td>NaN</td>\n",
       "      <td>NaN</td>\n",
       "    </tr>\n",
       "    <tr>\n",
       "      <th>3</th>\n",
       "      <td>Craving sushi but tired of expensive takeout? ...</td>\n",
       "      <td>@boxnipUK</td>\n",
       "      <td>0</td>\n",
       "      <td>0</td>\n",
       "      <td>0</td>\n",
       "      <td>0</td>\n",
       "      <td>False</td>\n",
       "      <td>NaN</td>\n",
       "      <td>[]</td>\n",
       "      <td>[]</td>\n",
       "      <td>[]</td>\n",
       "      <td>NaN</td>\n",
       "      <td>NaN</td>\n",
       "      <td>NaN</td>\n",
       "      <td>NaN</td>\n",
       "      <td>NaN</td>\n",
       "      <td>NaN</td>\n",
       "      <td>NaN</td>\n",
       "      <td>NaN</td>\n",
       "    </tr>\n",
       "    <tr>\n",
       "      <th>4</th>\n",
       "      <td>Potato Pancakes should not be a rare side dish...</td>\n",
       "      <td>@LifestyleSoln</td>\n",
       "      <td>0</td>\n",
       "      <td>0</td>\n",
       "      <td>0</td>\n",
       "      <td>0</td>\n",
       "      <td>False</td>\n",
       "      <td>NaN</td>\n",
       "      <td>['https://pbs.twimg.com/media/GBVywFMWkAE5vLY....</td>\n",
       "      <td>[]</td>\n",
       "      <td>[]</td>\n",
       "      <td>NaN</td>\n",
       "      <td>NaN</td>\n",
       "      <td>NaN</td>\n",
       "      <td>NaN</td>\n",
       "      <td>NaN</td>\n",
       "      <td>NaN</td>\n",
       "      <td>NaN</td>\n",
       "      <td>NaN</td>\n",
       "    </tr>\n",
       "  </tbody>\n",
       "</table>\n",
       "</div>"
      ],
      "text/plain": [
       "                                                text         username  likes  \\\n",
       "0  Fried Chicken with Hot 🔥 Sauce Corn Muffin and...  @homevsfastfood    125   \n",
       "1  #Morel #mushrooms at center of #food #poisonin...    @MicrobesInfo      0   \n",
       "2  My Blog::  Obama Legacy Facing REVISIT ... Ian...  @IanRMackintosh      1   \n",
       "3  Craving sushi but tired of expensive takeout? ...        @boxnipUK      0   \n",
       "4  Potato Pancakes should not be a rare side dish...   @LifestyleSoln      0   \n",
       "\n",
       "   comments  retweets  quotes  is-retweet external-link  \\\n",
       "0         2        33       1        True           NaN   \n",
       "1         0         0       0       False           NaN   \n",
       "2         0         0       0       False           NaN   \n",
       "3         0         0       0       False           NaN   \n",
       "4         0         0       0       False           NaN   \n",
       "\n",
       "                                            pictures videos gifs  user-image  \\\n",
       "0  ['https://pbs.twimg.com/media/GBRPAZvXcAATBXG....     []   []         NaN   \n",
       "1                                                 []     []   []         NaN   \n",
       "2                                                 []     []   []         NaN   \n",
       "3                                                 []     []   []         NaN   \n",
       "4  ['https://pbs.twimg.com/media/GBVywFMWkAE5vLY....     []   []         NaN   \n",
       "\n",
       "   user-bio  user-website  user-tweets  user-following  user-followers  \\\n",
       "0       NaN           NaN          NaN             NaN             NaN   \n",
       "1       NaN           NaN          NaN             NaN             NaN   \n",
       "2       NaN           NaN          NaN             NaN             NaN   \n",
       "3       NaN           NaN          NaN             NaN             NaN   \n",
       "4       NaN           NaN          NaN             NaN             NaN   \n",
       "\n",
       "   user-likes  user-media  \n",
       "0         NaN         NaN  \n",
       "1         NaN         NaN  \n",
       "2         NaN         NaN  \n",
       "3         NaN         NaN  \n",
       "4         NaN         NaN  "
      ]
     },
     "execution_count": 3,
     "metadata": {},
     "output_type": "execute_result"
    }
   ],
   "source": [
    "user_features= ['image','bio','website']\n",
    "user_stats= ['tweets','following','followers','likes','media']\n",
    "\n",
    "for feature in (user_features+user_stats):\n",
    "    tweets_df['user-'+feature]= np.nan\n",
    "    \n",
    "tweets_df.head(5)"
   ]
  },
  {
   "cell_type": "code",
   "execution_count": 4,
   "metadata": {},
   "outputs": [],
   "source": [
    "tweets_df.to_csv('../../datasets/tweets&users-data-merged.csv', index=False)"
   ]
  },
  {
   "cell_type": "markdown",
   "metadata": {},
   "source": [
    "Now the idea is to iterate over *users_set*, scrape their profile information and update the dataset with their info"
   ]
  },
  {
   "cell_type": "markdown",
   "metadata": {},
   "source": [
    "# (2) GET USERS DATA"
   ]
  },
  {
   "cell_type": "markdown",
   "metadata": {},
   "source": [
    "### Iteration over users (SERIAL BAD WAY)"
   ]
  },
  {
   "cell_type": "code",
   "execution_count": null,
   "metadata": {},
   "outputs": [],
   "source": [
    "# for usr in users_set:\n",
    "#     # Scrape usr info \n",
    "#     user_data= scraper.get_profile_info(usr)\n",
    "#     # Update all the rows associated to the current user\n",
    "#     for feature in user_features:\n",
    "#         tweets_df.loc[tweets_df['username']== usr,['user-'+feature] ] = user_data[feature]\n",
    "#     for stat in user_stats:\n",
    "#         tweets_df.loc[tweets_df['username']==usr,['user-'+stat] ] = user_data['stats'][stat]"
   ]
  },
  {
   "cell_type": "markdown",
   "metadata": {},
   "source": [
    "### GET USERS DATA IN PARALLEL :)"
   ]
  },
  {
   "cell_type": "code",
   "execution_count": 2,
   "metadata": {},
   "outputs": [
    {
     "data": {
      "text/plain": [
       "(4979, 19)"
      ]
     },
     "execution_count": 2,
     "metadata": {},
     "output_type": "execute_result"
    }
   ],
   "source": [
    "tweets_df = pd.read_csv('../../datasets/tweets&users-data-merged.csv')\n",
    "tweets_df.shape"
   ]
  },
  {
   "cell_type": "code",
   "execution_count": 3,
   "metadata": {},
   "outputs": [
    {
     "name": "stdout",
     "output_type": "stream",
     "text": [
      "Among the 4981 there are 3472 unique users!\n"
     ]
    }
   ],
   "source": [
    "#type(tweets_df.loc[:,\"username\"]) -->pd.Series\n",
    "users_set = tweets_df.loc[:,\"username\"].unique()\n",
    "print(\"Among the\",tweets_df.shape[0],\"there are\",len(users_set),\"unique users!\")"
   ]
  },
  {
   "cell_type": "code",
   "execution_count": 8,
   "metadata": {},
   "outputs": [
    {
     "data": {
      "text/html": [
       "<div>\n",
       "<style scoped>\n",
       "    .dataframe tbody tr th:only-of-type {\n",
       "        vertical-align: middle;\n",
       "    }\n",
       "\n",
       "    .dataframe tbody tr th {\n",
       "        vertical-align: top;\n",
       "    }\n",
       "\n",
       "    .dataframe thead th {\n",
       "        text-align: right;\n",
       "    }\n",
       "</style>\n",
       "<table border=\"1\" class=\"dataframe\">\n",
       "  <thead>\n",
       "    <tr style=\"text-align: right;\">\n",
       "      <th></th>\n",
       "      <th>text</th>\n",
       "      <th>username</th>\n",
       "      <th>likes</th>\n",
       "      <th>comments</th>\n",
       "      <th>retweets</th>\n",
       "      <th>quotes</th>\n",
       "      <th>is-retweet</th>\n",
       "      <th>external-link</th>\n",
       "      <th>pictures</th>\n",
       "      <th>videos</th>\n",
       "      <th>gifs</th>\n",
       "      <th>user-image</th>\n",
       "      <th>user-bio</th>\n",
       "      <th>user-website</th>\n",
       "      <th>user-tweets</th>\n",
       "      <th>user-following</th>\n",
       "      <th>user-followers</th>\n",
       "      <th>user-likes</th>\n",
       "      <th>user-media</th>\n",
       "    </tr>\n",
       "  </thead>\n",
       "  <tbody>\n",
       "    <tr>\n",
       "      <th>4980</th>\n",
       "      <td>I need food to fix up</td>\n",
       "      <td>@adeboye_j</td>\n",
       "      <td>0</td>\n",
       "      <td>1</td>\n",
       "      <td>0</td>\n",
       "      <td>0</td>\n",
       "      <td>False</td>\n",
       "      <td>NaN</td>\n",
       "      <td>[]</td>\n",
       "      <td>[]</td>\n",
       "      <td>['https://video.twimg.com/tweet_video/GBYZZfSX...</td>\n",
       "      <td>NaN</td>\n",
       "      <td>NaN</td>\n",
       "      <td>NaN</td>\n",
       "      <td>NaN</td>\n",
       "      <td>NaN</td>\n",
       "      <td>NaN</td>\n",
       "      <td>NaN</td>\n",
       "      <td>NaN</td>\n",
       "    </tr>\n",
       "  </tbody>\n",
       "</table>\n",
       "</div>"
      ],
      "text/plain": [
       "                       text    username  likes  comments  retweets  quotes  \\\n",
       "4980  I need food to fix up  @adeboye_j      0         1         0       0   \n",
       "\n",
       "      is-retweet external-link pictures videos  \\\n",
       "4980       False           NaN       []     []   \n",
       "\n",
       "                                                   gifs user-image user-bio  \\\n",
       "4980  ['https://video.twimg.com/tweet_video/GBYZZfSX...        NaN      NaN   \n",
       "\n",
       "     user-website  user-tweets  user-following  user-followers  user-likes  \\\n",
       "4980          NaN          NaN             NaN             NaN         NaN   \n",
       "\n",
       "      user-media  \n",
       "4980         NaN  "
      ]
     },
     "execution_count": 8,
     "metadata": {},
     "output_type": "execute_result"
    }
   ],
   "source": [
    "tweets_df[tweets_df['username']==users_set[3471]].head()"
   ]
  },
  {
   "cell_type": "code",
   "execution_count": 9,
   "metadata": {},
   "outputs": [],
   "source": [
    "from ntscraper import Nitter\n",
    "import concurrent.futures"
   ]
  },
  {
   "cell_type": "code",
   "execution_count": 19,
   "metadata": {},
   "outputs": [
    {
     "name": "stderr",
     "output_type": "stream",
     "text": [
      "Testing instances: 100%|██████████| 31/31 [00:55<00:00,  1.78s/it]\n"
     ]
    }
   ],
   "source": [
    "scraper = Nitter()"
   ]
  },
  {
   "cell_type": "code",
   "execution_count": 11,
   "metadata": {},
   "outputs": [],
   "source": [
    "user_features = ['image', 'bio', 'website']\n",
    "user_stats = ['tweets', 'following', 'followers', 'likes', 'media']\n",
    "\n",
    "def fetch_user_info(username):\n",
    "    user_data = scraper.get_profile_info(username)\n",
    "    return username, user_data\n",
    "\n",
    "# Function to update DataFrame with user information\n",
    "def update_dataframe(result):\n",
    "    username, user_data = result\n",
    "    for feature in user_features:\n",
    "        tweets_df.loc[tweets_df['username'] == username, ['user-' + feature]] = user_data[feature]\n",
    "    for stat in user_stats:\n",
    "        tweets_df.loc[tweets_df['username'] == username, ['user-' + stat]] = user_data['stats'][stat]\n"
   ]
  },
  {
   "cell_type": "code",
   "execution_count": null,
   "metadata": {},
   "outputs": [],
   "source": [
    "# Number of concurrent threads (adjust as needed)\n",
    "num_threads = 10\n",
    "# Set of users for which the scraping fails\n",
    "failed_users=set()\n",
    "successful_users=set()\n",
    "\n",
    "with concurrent.futures.ThreadPoolExecutor(max_workers=num_threads) as executor:\n",
    "    # Submit tasks to the thread pool\n",
    "    future_to_user = {executor.submit(fetch_user_info, username): username for username in users_set[3400:3471]} #eventualmente fare pezzettini di users_set\n",
    "    # Process results as they become available\n",
    "    for future in concurrent.futures.as_completed(future_to_user):\n",
    "        username = future_to_user[future]\n",
    "        try:\n",
    "            result = future.result()\n",
    "            update_dataframe(result)\n",
    "            successful_users.add(username)\n",
    "        except:\n",
    "            failed_users.add(username)"
   ]
  },
  {
   "cell_type": "code",
   "execution_count": 20,
   "metadata": {},
   "outputs": [
    {
     "name": "stdout",
     "output_type": "stream",
     "text": [
      "success:  69\n",
      "failed:  2\n"
     ]
    }
   ],
   "source": [
    "print('success: ',len(successful_users))\n",
    "print('failed: ',len(failed_users))"
   ]
  },
  {
   "cell_type": "code",
   "execution_count": null,
   "metadata": {},
   "outputs": [],
   "source": [
    "with concurrent.futures.ThreadPoolExecutor(max_workers=num_threads) as executor:\n",
    "    # Submit tasks to the thread pool\n",
    "    future_to_user = {executor.submit(fetch_user_info, username): username for username in failed_users}\n",
    "    # Process results as they become available\n",
    "    for future in concurrent.futures.as_completed(future_to_user):\n",
    "        username = future_to_user[future]\n",
    "        try:\n",
    "            result = future.result()\n",
    "            update_dataframe(result)\n",
    "            successful_users.add(username)\n",
    "            failed_users.remove(username)\n",
    "        except:\n",
    "            continue\n",
    "            "
   ]
  },
  {
   "cell_type": "code",
   "execution_count": 22,
   "metadata": {},
   "outputs": [
    {
     "name": "stdout",
     "output_type": "stream",
     "text": [
      "success:  69\n",
      "failed:  2\n"
     ]
    }
   ],
   "source": [
    "print('success: ',len(successful_users))\n",
    "print('failed: ',len(failed_users))"
   ]
  },
  {
   "cell_type": "code",
   "execution_count": 26,
   "metadata": {},
   "outputs": [
    {
     "data": {
      "text/plain": [
       "(4979, 19)"
      ]
     },
     "execution_count": 26,
     "metadata": {},
     "output_type": "execute_result"
    }
   ],
   "source": [
    "tweets_df.shape"
   ]
  },
  {
   "cell_type": "markdown",
   "metadata": {},
   "source": [
    "# (3) SAVE THE DATASET"
   ]
  },
  {
   "cell_type": "markdown",
   "metadata": {},
   "source": [
    "Export to CSV"
   ]
  },
  {
   "cell_type": "code",
   "execution_count": 73,
   "metadata": {},
   "outputs": [],
   "source": [
    "tweets_df.to_csv('../../datasets/tweets&users-data-merged.csv', index=False)"
   ]
  }
 ],
 "metadata": {
  "kernelspec": {
   "display_name": "Python 3",
   "language": "python",
   "name": "python3"
  },
  "language_info": {
   "codemirror_mode": {
    "name": "ipython",
    "version": 3
   },
   "file_extension": ".py",
   "mimetype": "text/x-python",
   "name": "python",
   "nbconvert_exporter": "python",
   "pygments_lexer": "ipython3",
   "version": "3.11.5"
  }
 },
 "nbformat": 4,
 "nbformat_minor": 2
}
