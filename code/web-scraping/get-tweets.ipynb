{
 "cells": [
  {
   "cell_type": "markdown",
   "metadata": {},
   "source": [
    "# Web scraping"
   ]
  },
  {
   "cell_type": "code",
   "execution_count": 1,
   "metadata": {},
   "outputs": [],
   "source": [
    "import pandas as pd\n",
    "import numpy as np\n",
    "#pip install ntscraper\n",
    "from ntscraper import Nitter"
   ]
  },
  {
   "cell_type": "code",
   "execution_count": 2,
   "metadata": {},
   "outputs": [
    {
     "name": "stderr",
     "output_type": "stream",
     "text": [
      "Testing instances: 100%|██████████| 29/29 [00:59<00:00,  2.04s/it]\n"
     ]
    }
   ],
   "source": [
    "scraper = Nitter()"
   ]
  },
  {
   "cell_type": "markdown",
   "metadata": {},
   "source": [
    "## (1) Get tweets\n",
    "Now we can get the tweets"
   ]
  },
  {
   "cell_type": "code",
   "execution_count": 3,
   "metadata": {},
   "outputs": [
    {
     "name": "stdout",
     "output_type": "stream",
     "text": [
      "15-Dec-23 10:20:32 - No instance specified, using random instance https://nitter.poast.org\n",
      "15-Dec-23 10:20:39 - Current stats for food: 13 tweets, 0 threads...\n",
      "15-Dec-23 10:20:43 - Current stats for food: 27 tweets, 0 threads...\n",
      "15-Dec-23 10:20:48 - Current stats for food: 39 tweets, 0 threads...\n",
      "15-Dec-23 10:20:52 - Current stats for food: 45 tweets, 0 threads...\n",
      "15-Dec-23 10:20:56 - Current stats for food: 53 tweets, 0 threads...\n",
      "15-Dec-23 10:21:01 - Current stats for food: 63 tweets, 0 threads...\n",
      "15-Dec-23 10:21:05 - Current stats for food: 73 tweets, 0 threads...\n",
      "15-Dec-23 10:21:10 - Current stats for food: 85 tweets, 0 threads...\n",
      "15-Dec-23 10:21:14 - Current stats for food: 97 tweets, 0 threads...\n",
      "15-Dec-23 10:21:18 - Current stats for food: 101 tweets, 0 threads...\n",
      "15-Dec-23 10:21:23 - Current stats for food: 110 tweets, 0 threads...\n",
      "15-Dec-23 10:21:27 - Current stats for food: 118 tweets, 0 threads...\n",
      "15-Dec-23 10:21:32 - Current stats for food: 122 tweets, 0 threads...\n",
      "15-Dec-23 10:21:36 - Current stats for food: 129 tweets, 0 threads...\n",
      "15-Dec-23 10:21:41 - Current stats for food: 136 tweets, 0 threads...\n",
      "15-Dec-23 10:21:45 - Current stats for food: 146 tweets, 0 threads...\n",
      "15-Dec-23 10:21:50 - Current stats for food: 152 tweets, 0 threads...\n",
      "15-Dec-23 10:21:55 - Current stats for food: 165 tweets, 0 threads...\n",
      "15-Dec-23 10:21:59 - Current stats for food: 176 tweets, 0 threads...\n",
      "15-Dec-23 10:22:03 - Current stats for food: 187 tweets, 0 threads...\n",
      "15-Dec-23 10:22:08 - Current stats for food: 195 tweets, 0 threads...\n",
      "15-Dec-23 10:22:13 - Current stats for food: 211 tweets, 0 threads...\n",
      "15-Dec-23 10:22:17 - Current stats for food: 222 tweets, 0 threads...\n",
      "15-Dec-23 10:22:21 - Current stats for food: 226 tweets, 0 threads...\n",
      "15-Dec-23 10:22:26 - Current stats for food: 233 tweets, 0 threads...\n",
      "15-Dec-23 10:22:31 - Current stats for food: 243 tweets, 0 threads...\n",
      "15-Dec-23 10:22:35 - Current stats for food: 255 tweets, 0 threads...\n",
      "15-Dec-23 10:22:40 - Current stats for food: 264 tweets, 0 threads...\n",
      "15-Dec-23 10:22:44 - Current stats for food: 272 tweets, 0 threads...\n",
      "15-Dec-23 10:22:48 - Current stats for food: 279 tweets, 0 threads...\n",
      "15-Dec-23 10:22:53 - Current stats for food: 286 tweets, 0 threads...\n",
      "15-Dec-23 10:22:58 - Current stats for food: 294 tweets, 0 threads...\n",
      "15-Dec-23 10:23:03 - Current stats for food: 300 tweets, 0 threads...\n",
      "15-Dec-23 10:23:08 - Current stats for food: 312 tweets, 0 threads...\n",
      "15-Dec-23 10:23:13 - Current stats for food: 323 tweets, 0 threads...\n",
      "15-Dec-23 10:23:18 - Current stats for food: 332 tweets, 0 threads...\n",
      "15-Dec-23 10:23:23 - Current stats for food: 342 tweets, 0 threads...\n",
      "15-Dec-23 10:23:27 - Current stats for food: 353 tweets, 0 threads...\n",
      "15-Dec-23 10:23:32 - Current stats for food: 359 tweets, 0 threads...\n",
      "15-Dec-23 10:23:37 - Current stats for food: 367 tweets, 0 threads...\n",
      "15-Dec-23 10:23:41 - Current stats for food: 371 tweets, 0 threads...\n",
      "15-Dec-23 10:23:45 - Current stats for food: 376 tweets, 0 threads...\n",
      "15-Dec-23 10:23:50 - Current stats for food: 382 tweets, 0 threads...\n",
      "15-Dec-23 10:23:55 - Current stats for food: 392 tweets, 0 threads...\n",
      "15-Dec-23 10:23:59 - Current stats for food: 398 tweets, 0 threads...\n",
      "15-Dec-23 10:24:03 - Current stats for food: 407 tweets, 0 threads...\n",
      "15-Dec-23 10:24:08 - Current stats for food: 418 tweets, 0 threads...\n",
      "15-Dec-23 10:24:13 - Current stats for food: 430 tweets, 0 threads...\n",
      "15-Dec-23 10:24:17 - Current stats for food: 434 tweets, 0 threads...\n",
      "15-Dec-23 10:24:21 - Current stats for food: 441 tweets, 0 threads...\n",
      "15-Dec-23 10:24:25 - Current stats for food: 449 tweets, 0 threads...\n",
      "15-Dec-23 10:24:30 - Current stats for food: 457 tweets, 0 threads...\n",
      "15-Dec-23 10:24:35 - Current stats for food: 467 tweets, 0 threads...\n",
      "15-Dec-23 10:24:39 - Current stats for food: 474 tweets, 0 threads...\n",
      "15-Dec-23 10:24:44 - Current stats for food: 480 tweets, 0 threads...\n",
      "15-Dec-23 10:24:49 - Current stats for food: 491 tweets, 0 threads...\n",
      "15-Dec-23 10:24:54 - Current stats for food: 505 tweets, 0 threads...\n",
      "15-Dec-23 10:24:59 - Current stats for food: 515 tweets, 0 threads...\n",
      "15-Dec-23 10:25:04 - Current stats for food: 523 tweets, 0 threads...\n",
      "15-Dec-23 10:25:09 - Current stats for food: 530 tweets, 0 threads...\n",
      "15-Dec-23 10:25:14 - Current stats for food: 538 tweets, 0 threads...\n",
      "15-Dec-23 10:25:18 - Current stats for food: 546 tweets, 0 threads...\n",
      "15-Dec-23 10:25:23 - Current stats for food: 552 tweets, 0 threads...\n",
      "15-Dec-23 10:25:27 - Current stats for food: 554 tweets, 0 threads...\n",
      "15-Dec-23 10:25:32 - Current stats for food: 559 tweets, 0 threads...\n",
      "15-Dec-23 10:25:36 - Current stats for food: 563 tweets, 0 threads...\n",
      "15-Dec-23 10:25:40 - Current stats for food: 568 tweets, 0 threads...\n",
      "15-Dec-23 10:25:45 - Current stats for food: 574 tweets, 0 threads...\n",
      "15-Dec-23 10:25:50 - Current stats for food: 579 tweets, 0 threads...\n",
      "15-Dec-23 10:25:54 - Current stats for food: 592 tweets, 0 threads...\n",
      "15-Dec-23 10:25:58 - Current stats for food: 597 tweets, 0 threads...\n",
      "15-Dec-23 10:26:03 - Current stats for food: 609 tweets, 0 threads...\n",
      "15-Dec-23 10:26:08 - Current stats for food: 618 tweets, 0 threads...\n",
      "15-Dec-23 10:26:13 - Current stats for food: 624 tweets, 0 threads...\n",
      "15-Dec-23 10:26:17 - Current stats for food: 631 tweets, 0 threads...\n",
      "15-Dec-23 10:26:22 - Current stats for food: 642 tweets, 0 threads...\n",
      "15-Dec-23 10:26:27 - Current stats for food: 651 tweets, 0 threads...\n",
      "15-Dec-23 10:26:31 - Current stats for food: 661 tweets, 0 threads...\n",
      "15-Dec-23 10:26:35 - Current stats for food: 667 tweets, 0 threads...\n",
      "15-Dec-23 10:26:40 - Current stats for food: 674 tweets, 0 threads...\n",
      "15-Dec-23 10:26:45 - Current stats for food: 684 tweets, 0 threads...\n",
      "15-Dec-23 10:26:49 - Current stats for food: 692 tweets, 0 threads...\n",
      "15-Dec-23 10:26:53 - Current stats for food: 701 tweets, 0 threads...\n",
      "15-Dec-23 10:26:58 - Current stats for food: 708 tweets, 0 threads...\n",
      "15-Dec-23 10:27:03 - Current stats for food: 715 tweets, 0 threads...\n",
      "15-Dec-23 10:27:08 - Current stats for food: 725 tweets, 0 threads...\n",
      "15-Dec-23 10:27:13 - Current stats for food: 731 tweets, 0 threads...\n",
      "15-Dec-23 10:27:17 - Current stats for food: 735 tweets, 0 threads...\n",
      "15-Dec-23 10:27:22 - Current stats for food: 740 tweets, 0 threads...\n",
      "15-Dec-23 10:27:26 - Current stats for food: 746 tweets, 0 threads...\n",
      "15-Dec-23 10:27:31 - Current stats for food: 755 tweets, 0 threads...\n",
      "15-Dec-23 10:27:36 - Current stats for food: 762 tweets, 0 threads...\n",
      "15-Dec-23 10:27:41 - Current stats for food: 770 tweets, 0 threads...\n",
      "15-Dec-23 10:27:45 - Current stats for food: 781 tweets, 0 threads...\n",
      "15-Dec-23 10:27:50 - Current stats for food: 791 tweets, 0 threads...\n",
      "15-Dec-23 10:27:55 - Current stats for food: 798 tweets, 0 threads...\n",
      "15-Dec-23 10:28:00 - Current stats for food: 804 tweets, 0 threads...\n",
      "15-Dec-23 10:28:05 - Current stats for food: 811 tweets, 0 threads...\n",
      "15-Dec-23 10:28:09 - Current stats for food: 820 tweets, 0 threads...\n",
      "15-Dec-23 10:28:14 - Current stats for food: 826 tweets, 0 threads...\n",
      "15-Dec-23 10:28:18 - Current stats for food: 831 tweets, 0 threads...\n",
      "15-Dec-23 10:28:23 - Current stats for food: 841 tweets, 0 threads...\n",
      "15-Dec-23 10:28:27 - Current stats for food: 846 tweets, 0 threads...\n",
      "15-Dec-23 10:28:31 - Current stats for food: 851 tweets, 0 threads...\n",
      "15-Dec-23 10:28:35 - Current stats for food: 860 tweets, 0 threads...\n",
      "15-Dec-23 10:28:40 - Current stats for food: 866 tweets, 0 threads...\n",
      "15-Dec-23 10:28:45 - Current stats for food: 874 tweets, 0 threads...\n",
      "15-Dec-23 10:28:49 - Current stats for food: 880 tweets, 0 threads...\n",
      "15-Dec-23 10:28:54 - Current stats for food: 887 tweets, 0 threads...\n",
      "15-Dec-23 10:28:59 - Current stats for food: 894 tweets, 0 threads...\n",
      "15-Dec-23 10:29:04 - Current stats for food: 901 tweets, 0 threads...\n",
      "15-Dec-23 10:29:08 - Current stats for food: 910 tweets, 0 threads...\n",
      "15-Dec-23 10:29:13 - Current stats for food: 918 tweets, 0 threads...\n",
      "15-Dec-23 10:29:17 - Current stats for food: 925 tweets, 0 threads...\n",
      "15-Dec-23 10:29:22 - Current stats for food: 933 tweets, 0 threads...\n",
      "15-Dec-23 10:29:27 - Current stats for food: 944 tweets, 0 threads...\n",
      "15-Dec-23 10:29:31 - Current stats for food: 949 tweets, 0 threads...\n",
      "15-Dec-23 10:29:36 - Current stats for food: 957 tweets, 0 threads...\n",
      "15-Dec-23 10:29:41 - Current stats for food: 965 tweets, 0 threads...\n",
      "15-Dec-23 10:29:46 - Current stats for food: 973 tweets, 0 threads...\n",
      "15-Dec-23 10:29:50 - Current stats for food: 981 tweets, 0 threads...\n",
      "15-Dec-23 10:29:54 - Current stats for food: 986 tweets, 0 threads...\n",
      "15-Dec-23 10:29:58 - Current stats for food: 992 tweets, 0 threads...\n",
      "15-Dec-23 10:30:03 - Current stats for food: 1000 tweets, 0 threads...\n"
     ]
    }
   ],
   "source": [
    "tweets_food_term=scraper.get_tweets(\"food\",mode=\"term\",number=1000)"
   ]
  },
  {
   "cell_type": "code",
   "execution_count": 4,
   "metadata": {},
   "outputs": [
    {
     "data": {
      "text/plain": [
       "2"
      ]
     },
     "execution_count": 4,
     "metadata": {},
     "output_type": "execute_result"
    }
   ],
   "source": [
    "len(tweets_food_term) #2"
   ]
  },
  {
   "cell_type": "markdown",
   "metadata": {},
   "source": [
    "### (1a) Small trials to discover tweets structure"
   ]
  },
  {
   "cell_type": "code",
   "execution_count": 124,
   "metadata": {},
   "outputs": [
    {
     "name": "stdout",
     "output_type": "stream",
     "text": [
      "<class 'dict'>\n",
      "tweets\n",
      "threads\n"
     ]
    }
   ],
   "source": [
    "print(type(tweets_food_hashtag))\n",
    "for k in tweets_food_hashtag:\n",
    "    print(k)\n",
    "#type(tweets_food_hashtag[\"tweets\"])"
   ]
  },
  {
   "cell_type": "markdown",
   "metadata": {},
   "source": [
    "Threads is an empty list, since tweets seems interesting!"
   ]
  },
  {
   "cell_type": "code",
   "execution_count": 5,
   "metadata": {},
   "outputs": [
    {
     "data": {
      "text/plain": [
       "list"
      ]
     },
     "execution_count": 5,
     "metadata": {},
     "output_type": "execute_result"
    }
   ],
   "source": [
    "type(tweets_food_term[\"tweets\"])"
   ]
  },
  {
   "cell_type": "markdown",
   "metadata": {},
   "source": [
    "It is a list...inspect its elements"
   ]
  },
  {
   "cell_type": "code",
   "execution_count": 6,
   "metadata": {},
   "outputs": [
    {
     "data": {
      "text/plain": [
       "{'link': 'https://twitter.com/Christoo1972/status/1735590654275641745#m',\n",
       " 'text': 'Boss please we need food stuffs badly I beg u. 8037565099 Opay Christopher Onochie. #Drbillsxmasgiveaway',\n",
       " 'user': {'name': 'Chrstoo',\n",
       "  'username': '@Christoo1972',\n",
       "  'profile_id': '1699130734143746048',\n",
       "  'avatar': 'https://pbs.twimg.com/profile_images/1699130734143746048/Y2AhjMDL_bigger.jpg'},\n",
       " 'date': 'Dec 15, 2023 · 9:20 AM UTC',\n",
       " 'is-retweet': False,\n",
       " 'external-link': '',\n",
       " 'quoted-post': {},\n",
       " 'stats': {'comments': 0, 'retweets': 0, 'quotes': 0, 'likes': 0},\n",
       " 'pictures': [],\n",
       " 'videos': [],\n",
       " 'gifs': []}"
      ]
     },
     "execution_count": 6,
     "metadata": {},
     "output_type": "execute_result"
    }
   ],
   "source": [
    "tweets_food_term[\"tweets\"][2]"
   ]
  },
  {
   "cell_type": "markdown",
   "metadata": {},
   "source": [
    "### (1b) Create a dataframe of tweets (and their info) "
   ]
  },
  {
   "cell_type": "code",
   "execution_count": 9,
   "metadata": {},
   "outputs": [
    {
     "data": {
      "text/plain": [
       "dict"
      ]
     },
     "execution_count": 9,
     "metadata": {},
     "output_type": "execute_result"
    }
   ],
   "source": [
    "type(tweets_food_term)"
   ]
  },
  {
   "cell_type": "code",
   "execution_count": null,
   "metadata": {},
   "outputs": [],
   "source": []
  },
  {
   "cell_type": "code",
   "execution_count": 10,
   "metadata": {},
   "outputs": [],
   "source": [
    "final_tweets=[]\n",
    "for tweet in tweets_food_term['tweets']:\n",
    "    useful_data=[ #tweet text and username\n",
    "                  tweet['text'],\n",
    "                  tweet['user']['username'],\n",
    "                  #stats of the tweet\n",
    "                  tweet['stats']['likes'],\n",
    "                  tweet['stats']['comments'],\n",
    "                  tweet['stats']['retweets'],\n",
    "                  tweet['stats']['quotes'],\n",
    "                  tweet['is-retweet'],\n",
    "                  tweet['external-link'], #useful: an external link might have a bad influence on eng rate!\n",
    "                  #maybe these vars will be encoded in a has/has not binary label\n",
    "                  tweet['pictures'], \n",
    "                  tweet['videos'],\n",
    "                  tweet['gifs']                 \n",
    "                ]       \n",
    "    final_tweets.append(useful_data)"
   ]
  },
  {
   "cell_type": "code",
   "execution_count": 11,
   "metadata": {},
   "outputs": [
    {
     "name": "stdout",
     "output_type": "stream",
     "text": [
      "Df dims:  (1000, 11)\n"
     ]
    }
   ],
   "source": [
    "tweets_df= pd.DataFrame(final_tweets,columns= ['text','username','likes','comments','retweets','quotes','is-retweet','external-link','pictures','videos','gifs'])\n",
    "print(\"Df dims: \",tweets_df.shape)"
   ]
  },
  {
   "cell_type": "markdown",
   "metadata": {},
   "source": [
    "# Export dataset to CSV"
   ]
  },
  {
   "cell_type": "code",
   "execution_count": 12,
   "metadata": {},
   "outputs": [],
   "source": [
    "# Remove duplicates\n",
    "unique_tweets=tweets_df.drop_duplicates(subset=['text','username','likes','comments','retweets','quotes','is-retweet','external-link'],\n",
    "                                        keep='first')"
   ]
  },
  {
   "cell_type": "code",
   "execution_count": 13,
   "metadata": {},
   "outputs": [
    {
     "name": "stdout",
     "output_type": "stream",
     "text": [
      "Df dims:  (989, 11)\n"
     ]
    }
   ],
   "source": [
    "print(\"Df dims: \",unique_tweets.shape)"
   ]
  },
  {
   "cell_type": "code",
   "execution_count": 15,
   "metadata": {},
   "outputs": [
    {
     "name": "stdout",
     "output_type": "stream",
     "text": [
      "Df dims:  (152, 11)\n"
     ]
    }
   ],
   "source": [
    "dati_vecchi= pd.read_csv('../../datasets/tweets-data-giu.csv')\n",
    "print(\"Df dims: \",dati_vecchi.shape)"
   ]
  },
  {
   "cell_type": "code",
   "execution_count": 16,
   "metadata": {},
   "outputs": [],
   "source": [
    "dati_nuovi= pd.concat([dati_vecchi,unique_tweets],ignore_index=True)"
   ]
  },
  {
   "cell_type": "code",
   "execution_count": 18,
   "metadata": {},
   "outputs": [
    {
     "name": "stdout",
     "output_type": "stream",
     "text": [
      "Df dims:  (1141, 11)\n",
      "Df nuovo:  (1141, 11)\n"
     ]
    }
   ],
   "source": [
    "print(\"Df dims: \",dati_nuovi.shape)\n",
    "dati_nuovi=dati_nuovi.drop_duplicates(subset=['text','username','likes','comments','retweets','quotes','is-retweet','external-link'],\n",
    "                                        keep='first')\n",
    "print(\"Df nuovo: \",dati_nuovi.shape)"
   ]
  },
  {
   "cell_type": "code",
   "execution_count": 19,
   "metadata": {},
   "outputs": [],
   "source": [
    "dati_nuovi.to_csv('../../datasets/tweets-data-giu.csv', index=False)"
   ]
  }
 ],
 "metadata": {
  "kernelspec": {
   "display_name": "Python 3",
   "language": "python",
   "name": "python3"
  },
  "language_info": {
   "codemirror_mode": {
    "name": "ipython",
    "version": 3
   },
   "file_extension": ".py",
   "mimetype": "text/x-python",
   "name": "python",
   "nbconvert_exporter": "python",
   "pygments_lexer": "ipython3",
   "version": "3.11.5"
  }
 },
 "nbformat": 4,
 "nbformat_minor": 2
}
