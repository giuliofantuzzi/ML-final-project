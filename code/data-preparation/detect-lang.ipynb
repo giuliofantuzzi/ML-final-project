{
 "cells": [
  {
   "cell_type": "code",
   "execution_count": 2,
   "metadata": {},
   "outputs": [],
   "source": [
    "#pip install langdetect"
   ]
  },
  {
   "cell_type": "code",
   "execution_count": 6,
   "metadata": {},
   "outputs": [],
   "source": [
    "from langdetect import detect\n",
    "import pandas as pd\n",
    "import numpy as np"
   ]
  },
  {
   "cell_type": "code",
   "execution_count": 8,
   "metadata": {},
   "outputs": [
    {
     "data": {
      "text/html": [
       "<div>\n",
       "<style scoped>\n",
       "    .dataframe tbody tr th:only-of-type {\n",
       "        vertical-align: middle;\n",
       "    }\n",
       "\n",
       "    .dataframe tbody tr th {\n",
       "        vertical-align: top;\n",
       "    }\n",
       "\n",
       "    .dataframe thead th {\n",
       "        text-align: right;\n",
       "    }\n",
       "</style>\n",
       "<table border=\"1\" class=\"dataframe\">\n",
       "  <thead>\n",
       "    <tr style=\"text-align: right;\">\n",
       "      <th></th>\n",
       "      <th>text</th>\n",
       "      <th>quotes</th>\n",
       "      <th>is.retweet</th>\n",
       "      <th>external.link</th>\n",
       "      <th>pictures</th>\n",
       "      <th>videos</th>\n",
       "      <th>gifs</th>\n",
       "      <th>multimedial_content</th>\n",
       "      <th>user.image</th>\n",
       "      <th>user.bio</th>\n",
       "      <th>user.website</th>\n",
       "      <th>user.tweets</th>\n",
       "      <th>user.following</th>\n",
       "      <th>user.media</th>\n",
       "      <th>engagement.rate</th>\n",
       "      <th>n_hashtags</th>\n",
       "    </tr>\n",
       "  </thead>\n",
       "  <tbody>\n",
       "    <tr>\n",
       "      <th>0</th>\n",
       "      <td>Fried Chicken with Hot 🔥 Sauce Corn Muffin and...</td>\n",
       "      <td>1</td>\n",
       "      <td>True</td>\n",
       "      <td>False</td>\n",
       "      <td>True</td>\n",
       "      <td>False</td>\n",
       "      <td>False</td>\n",
       "      <td>True</td>\n",
       "      <td>True</td>\n",
       "      <td>True</td>\n",
       "      <td>True</td>\n",
       "      <td>16213</td>\n",
       "      <td>549</td>\n",
       "      <td>15698</td>\n",
       "      <td>0.571817</td>\n",
       "      <td>8</td>\n",
       "    </tr>\n",
       "    <tr>\n",
       "      <th>1</th>\n",
       "      <td>#Morel #mushrooms at center of #food #poisonin...</td>\n",
       "      <td>0</td>\n",
       "      <td>False</td>\n",
       "      <td>False</td>\n",
       "      <td>False</td>\n",
       "      <td>False</td>\n",
       "      <td>False</td>\n",
       "      <td>False</td>\n",
       "      <td>True</td>\n",
       "      <td>True</td>\n",
       "      <td>True</td>\n",
       "      <td>50098</td>\n",
       "      <td>513</td>\n",
       "      <td>1962</td>\n",
       "      <td>0.000000</td>\n",
       "      <td>10</td>\n",
       "    </tr>\n",
       "    <tr>\n",
       "      <th>2</th>\n",
       "      <td>My Blog::  Obama Legacy Facing REVISIT ... Ian...</td>\n",
       "      <td>0</td>\n",
       "      <td>False</td>\n",
       "      <td>False</td>\n",
       "      <td>False</td>\n",
       "      <td>False</td>\n",
       "      <td>False</td>\n",
       "      <td>False</td>\n",
       "      <td>True</td>\n",
       "      <td>True</td>\n",
       "      <td>True</td>\n",
       "      <td>5174</td>\n",
       "      <td>9022</td>\n",
       "      <td>0</td>\n",
       "      <td>0.008527</td>\n",
       "      <td>11</td>\n",
       "    </tr>\n",
       "    <tr>\n",
       "      <th>3</th>\n",
       "      <td>Craving sushi but tired of expensive takeout? ...</td>\n",
       "      <td>0</td>\n",
       "      <td>False</td>\n",
       "      <td>False</td>\n",
       "      <td>False</td>\n",
       "      <td>False</td>\n",
       "      <td>False</td>\n",
       "      <td>False</td>\n",
       "      <td>True</td>\n",
       "      <td>True</td>\n",
       "      <td>True</td>\n",
       "      <td>108071</td>\n",
       "      <td>678</td>\n",
       "      <td>49647</td>\n",
       "      <td>0.000000</td>\n",
       "      <td>6</td>\n",
       "    </tr>\n",
       "    <tr>\n",
       "      <th>4</th>\n",
       "      <td>Potato Pancakes should not be a rare side dish...</td>\n",
       "      <td>0</td>\n",
       "      <td>False</td>\n",
       "      <td>False</td>\n",
       "      <td>True</td>\n",
       "      <td>False</td>\n",
       "      <td>False</td>\n",
       "      <td>True</td>\n",
       "      <td>True</td>\n",
       "      <td>True</td>\n",
       "      <td>True</td>\n",
       "      <td>28081</td>\n",
       "      <td>2343</td>\n",
       "      <td>18032</td>\n",
       "      <td>0.000000</td>\n",
       "      <td>8</td>\n",
       "    </tr>\n",
       "  </tbody>\n",
       "</table>\n",
       "</div>"
      ],
      "text/plain": [
       "                                                text  quotes  is.retweet  \\\n",
       "0  Fried Chicken with Hot 🔥 Sauce Corn Muffin and...       1        True   \n",
       "1  #Morel #mushrooms at center of #food #poisonin...       0       False   \n",
       "2  My Blog::  Obama Legacy Facing REVISIT ... Ian...       0       False   \n",
       "3  Craving sushi but tired of expensive takeout? ...       0       False   \n",
       "4  Potato Pancakes should not be a rare side dish...       0       False   \n",
       "\n",
       "   external.link  pictures  videos   gifs  multimedial_content  user.image  \\\n",
       "0          False      True   False  False                 True        True   \n",
       "1          False     False   False  False                False        True   \n",
       "2          False     False   False  False                False        True   \n",
       "3          False     False   False  False                False        True   \n",
       "4          False      True   False  False                 True        True   \n",
       "\n",
       "   user.bio  user.website  user.tweets  user.following  user.media  \\\n",
       "0      True          True        16213             549       15698   \n",
       "1      True          True        50098             513        1962   \n",
       "2      True          True         5174            9022           0   \n",
       "3      True          True       108071             678       49647   \n",
       "4      True          True        28081            2343       18032   \n",
       "\n",
       "   engagement.rate  n_hashtags  \n",
       "0         0.571817           8  \n",
       "1         0.000000          10  \n",
       "2         0.008527          11  \n",
       "3         0.000000           6  \n",
       "4         0.000000           8  "
      ]
     },
     "execution_count": 8,
     "metadata": {},
     "output_type": "execute_result"
    }
   ],
   "source": [
    "# import data\n",
    "tweets_df= pd.read_csv('../../datasets/data-prepared.csv')\n",
    "tweets_df.head()"
   ]
  },
  {
   "cell_type": "code",
   "execution_count": 10,
   "metadata": {},
   "outputs": [
    {
     "data": {
      "text/plain": [
       "'Fried Chicken with Hot 🔥 Sauce Corn Muffin and Seasoned Fries 🍟  homecookingvsfastfood.com #homecooking #homecookingvsfastfood #food #fastfood #foodie #yum #myfood #foodpics'"
      ]
     },
     "execution_count": 10,
     "metadata": {},
     "output_type": "execute_result"
    }
   ],
   "source": [
    "testo= tweets_df.loc[0,'text']\n",
    "testo"
   ]
  },
  {
   "cell_type": "code",
   "execution_count": 20,
   "metadata": {},
   "outputs": [],
   "source": [
    "# extract column text as a list\n",
    "text_list= tweets_df['text'].tolist()"
   ]
  },
  {
   "cell_type": "code",
   "execution_count": 24,
   "metadata": {},
   "outputs": [],
   "source": [
    "# create an empty dictionary with key-val of the type lang-freq. While iterating over texts i will store the langauge and updating frequency\n",
    "# notice that i don't know the languages in advance\n",
    "lang_dict= {}\n",
    "for text in text_list:\n",
    "    try: #NB: i need to use try-except because some texts can contains something not managed by langdetect\n",
    "        lang= detect(text)\n",
    "        if lang in lang_dict:\n",
    "            lang_dict[lang]+=1\n",
    "        else:\n",
    "            lang_dict[lang]=1\n",
    "    except:\n",
    "        pass"
   ]
  },
  {
   "cell_type": "markdown",
   "metadata": {},
   "source": [
    "It means that just 4 tweets failed in the lang detect!\n",
    "\n",
    "HOW MANY LANGUAGES DETECTED?"
   ]
  },
  {
   "cell_type": "code",
   "execution_count": 30,
   "metadata": {},
   "outputs": [
    {
     "name": "stdout",
     "output_type": "stream",
     "text": [
      "45 languages detected\n"
     ]
    }
   ],
   "source": [
    "print(len(lang_dict.keys()), 'languages detected')"
   ]
  },
  {
   "cell_type": "markdown",
   "metadata": {},
   "source": [
    "How many tweets are in english?"
   ]
  },
  {
   "cell_type": "code",
   "execution_count": 31,
   "metadata": {},
   "outputs": [
    {
     "name": "stdout",
     "output_type": "stream",
     "text": [
      "4067 tweets in english (on the total of 4979 tweets)\n"
     ]
    }
   ],
   "source": [
    "print(lang_dict[\"en\"], 'tweets in english (on the total of', len(text_list), 'tweets)')"
   ]
  },
  {
   "cell_type": "code",
   "execution_count": 48,
   "metadata": {},
   "outputs": [
    {
     "data": {
      "image/png": "[encoded data removed]",
      "text/plain": [
       "<Figure size 1000x500 with 1 Axes>"
      ]
     },
     "metadata": {},
     "output_type": "display_data"
    }
   ],
   "source": [
    "# with seaborn i want a barplot with the frequency of each language\n",
    "import seaborn as sns\n",
    "import matplotlib.pyplot as plt\n",
    "sns.set(style=\"white\")\n",
    "plt.figure(figsize=(10,5))\n",
    "sns.barplot(x=list(lang_dict.keys()), y=list(lang_dict.values()),palette=\"colorblind\")\n",
    "plt.title('Tweets languages barplot')\n",
    "plt.show()"
   ]
  }
 ],
 "metadata": {
  "kernelspec": {
   "display_name": "base",
   "language": "python",
   "name": "python3"
  },
  "language_info": {
   "codemirror_mode": {
    "name": "ipython",
    "version": 3
   },
   "file_extension": ".py",
   "mimetype": "text/x-python",
   "name": "python",
   "nbconvert_exporter": "python",
   "pygments_lexer": "ipython3",
   "version": "3.11.5"
  }
 },
 "nbformat": 4,
 "nbformat_minor": 2
}
