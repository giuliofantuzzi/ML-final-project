{
 "cells": [
  {
   "cell_type": "code",
   "execution_count": 2,
   "metadata": {},
   "outputs": [],
   "source": [
    "#pip install langdetect"
   ]
  },
  {
   "cell_type": "code",
   "execution_count": 1,
   "metadata": {},
   "outputs": [],
   "source": [
    "from langdetect import detect\n",
    "import pandas as pd\n",
    "import numpy as np"
   ]
  },
  {
   "cell_type": "code",
   "execution_count": 2,
   "metadata": {},
   "outputs": [
    {
     "data": {
      "text/html": [
       "<div>\n",
       "<style scoped>\n",
       "    .dataframe tbody tr th:only-of-type {\n",
       "        vertical-align: middle;\n",
       "    }\n",
       "\n",
       "    .dataframe tbody tr th {\n",
       "        vertical-align: top;\n",
       "    }\n",
       "\n",
       "    .dataframe thead th {\n",
       "        text-align: right;\n",
       "    }\n",
       "</style>\n",
       "<table border=\"1\" class=\"dataframe\">\n",
       "  <thead>\n",
       "    <tr style=\"text-align: right;\">\n",
       "      <th></th>\n",
       "      <th>text</th>\n",
       "      <th>quotes</th>\n",
       "      <th>is.retweet</th>\n",
       "      <th>external.link</th>\n",
       "      <th>pictures</th>\n",
       "      <th>videos</th>\n",
       "      <th>gifs</th>\n",
       "      <th>multimedial_content</th>\n",
       "      <th>user.image</th>\n",
       "      <th>user.bio</th>\n",
       "      <th>user.website</th>\n",
       "      <th>user.tweets</th>\n",
       "      <th>user.following</th>\n",
       "      <th>user.media</th>\n",
       "      <th>engagement.rate</th>\n",
       "      <th>n_hashtags</th>\n",
       "    </tr>\n",
       "  </thead>\n",
       "  <tbody>\n",
       "    <tr>\n",
       "      <th>0</th>\n",
       "      <td>Fried Chicken with Hot 🔥 Sauce Corn Muffin and...</td>\n",
       "      <td>1</td>\n",
       "      <td>True</td>\n",
       "      <td>False</td>\n",
       "      <td>True</td>\n",
       "      <td>False</td>\n",
       "      <td>False</td>\n",
       "      <td>True</td>\n",
       "      <td>True</td>\n",
       "      <td>True</td>\n",
       "      <td>True</td>\n",
       "      <td>16213</td>\n",
       "      <td>549</td>\n",
       "      <td>15698</td>\n",
       "      <td>-515.787662</td>\n",
       "      <td>8</td>\n",
       "    </tr>\n",
       "    <tr>\n",
       "      <th>1</th>\n",
       "      <td>#Morel #mushrooms at center of #food #poisonin...</td>\n",
       "      <td>0</td>\n",
       "      <td>False</td>\n",
       "      <td>False</td>\n",
       "      <td>False</td>\n",
       "      <td>False</td>\n",
       "      <td>False</td>\n",
       "      <td>False</td>\n",
       "      <td>True</td>\n",
       "      <td>True</td>\n",
       "      <td>True</td>\n",
       "      <td>50098</td>\n",
       "      <td>513</td>\n",
       "      <td>1962</td>\n",
       "      <td>-747.022414</td>\n",
       "      <td>10</td>\n",
       "    </tr>\n",
       "    <tr>\n",
       "      <th>2</th>\n",
       "      <td>My Blog::  Obama Legacy Facing REVISIT ... Ian...</td>\n",
       "      <td>0</td>\n",
       "      <td>False</td>\n",
       "      <td>False</td>\n",
       "      <td>False</td>\n",
       "      <td>False</td>\n",
       "      <td>False</td>\n",
       "      <td>False</td>\n",
       "      <td>True</td>\n",
       "      <td>True</td>\n",
       "      <td>True</td>\n",
       "      <td>5174</td>\n",
       "      <td>9022</td>\n",
       "      <td>0</td>\n",
       "      <td>-867.658724</td>\n",
       "      <td>11</td>\n",
       "    </tr>\n",
       "    <tr>\n",
       "      <th>3</th>\n",
       "      <td>Craving sushi but tired of expensive takeout? ...</td>\n",
       "      <td>0</td>\n",
       "      <td>False</td>\n",
       "      <td>False</td>\n",
       "      <td>False</td>\n",
       "      <td>False</td>\n",
       "      <td>False</td>\n",
       "      <td>False</td>\n",
       "      <td>True</td>\n",
       "      <td>True</td>\n",
       "      <td>True</td>\n",
       "      <td>108071</td>\n",
       "      <td>678</td>\n",
       "      <td>49647</td>\n",
       "      <td>-870.880480</td>\n",
       "      <td>6</td>\n",
       "    </tr>\n",
       "    <tr>\n",
       "      <th>4</th>\n",
       "      <td>Potato Pancakes should not be a rare side dish...</td>\n",
       "      <td>0</td>\n",
       "      <td>False</td>\n",
       "      <td>False</td>\n",
       "      <td>True</td>\n",
       "      <td>False</td>\n",
       "      <td>False</td>\n",
       "      <td>True</td>\n",
       "      <td>True</td>\n",
       "      <td>True</td>\n",
       "      <td>True</td>\n",
       "      <td>28081</td>\n",
       "      <td>2343</td>\n",
       "      <td>18032</td>\n",
       "      <td>-835.161075</td>\n",
       "      <td>8</td>\n",
       "    </tr>\n",
       "  </tbody>\n",
       "</table>\n",
       "</div>"
      ],
      "text/plain": [
       "                                                text  quotes  is.retweet  \\\n",
       "0  Fried Chicken with Hot 🔥 Sauce Corn Muffin and...       1        True   \n",
       "1  #Morel #mushrooms at center of #food #poisonin...       0       False   \n",
       "2  My Blog::  Obama Legacy Facing REVISIT ... Ian...       0       False   \n",
       "3  Craving sushi but tired of expensive takeout? ...       0       False   \n",
       "4  Potato Pancakes should not be a rare side dish...       0       False   \n",
       "\n",
       "   external.link  pictures  videos   gifs  multimedial_content  user.image  \\\n",
       "0          False      True   False  False                 True        True   \n",
       "1          False     False   False  False                False        True   \n",
       "2          False     False   False  False                False        True   \n",
       "3          False     False   False  False                False        True   \n",
       "4          False      True   False  False                 True        True   \n",
       "\n",
       "   user.bio  user.website  user.tweets  user.following  user.media  \\\n",
       "0      True          True        16213             549       15698   \n",
       "1      True          True        50098             513        1962   \n",
       "2      True          True         5174            9022           0   \n",
       "3      True          True       108071             678       49647   \n",
       "4      True          True        28081            2343       18032   \n",
       "\n",
       "   engagement.rate  n_hashtags  \n",
       "0      -515.787662           8  \n",
       "1      -747.022414          10  \n",
       "2      -867.658724          11  \n",
       "3      -870.880480           6  \n",
       "4      -835.161075           8  "
      ]
     },
     "execution_count": 2,
     "metadata": {},
     "output_type": "execute_result"
    }
   ],
   "source": [
    "# import data\n",
    "tweets_df= pd.read_csv('../../datasets/data-prepared.csv')\n",
    "tweets_df.head()"
   ]
  },
  {
   "cell_type": "code",
   "execution_count": null,
   "metadata": {},
   "outputs": [],
   "source": []
  },
  {
   "cell_type": "markdown",
   "metadata": {},
   "source": [
    "Detect language and add it to df"
   ]
  },
  {
   "cell_type": "code",
   "execution_count": 3,
   "metadata": {},
   "outputs": [],
   "source": [
    "# Iterate over rows and for each row store the language in a new column\n",
    "for row in range(tweets_df.shape[0]):\n",
    "    try:\n",
    "        tweets_df.loc[row,'lang']= detect(tweets_df.loc[row,'text'])\n",
    "    except:\n",
    "        pass"
   ]
  },
  {
   "cell_type": "code",
   "execution_count": 4,
   "metadata": {},
   "outputs": [],
   "source": [
    "# Keep just rows with English as language\n",
    "tweets_df= tweets_df.loc[tweets_df['lang']=='en']\n",
    "# And drop the lang column\n",
    "tweets_df.drop('lang', axis=1, inplace=True)"
   ]
  },
  {
   "cell_type": "code",
   "execution_count": 5,
   "metadata": {},
   "outputs": [
    {
     "name": "stdout",
     "output_type": "stream",
     "text": [
      "4079 tweets in English\n"
     ]
    }
   ],
   "source": [
    "print(tweets_df.shape[0],'tweets in English')"
   ]
  },
  {
   "cell_type": "code",
   "execution_count": 6,
   "metadata": {},
   "outputs": [],
   "source": [
    "# save the df\n",
    "tweets_df.to_csv('../../datasets/english-data.csv', index=False)"
   ]
  }
 ],
 "metadata": {
  "kernelspec": {
   "display_name": "base",
   "language": "python",
   "name": "python3"
  },
  "language_info": {
   "codemirror_mode": {
    "name": "ipython",
    "version": 3
   },
   "file_extension": ".py",
   "mimetype": "text/x-python",
   "name": "python",
   "nbconvert_exporter": "python",
   "pygments_lexer": "ipython3",
   "version": "3.11.5"
  }
 },
 "nbformat": 4,
 "nbformat_minor": 2
}
