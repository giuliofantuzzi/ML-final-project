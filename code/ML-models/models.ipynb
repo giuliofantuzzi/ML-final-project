{
 "cells": [
  {
   "cell_type": "markdown",
   "metadata": {},
   "source": [
    "# ML models assessment"
   ]
  },
  {
   "cell_type": "markdown",
   "metadata": {},
   "source": [
    "### Import libraries"
   ]
  },
  {
   "cell_type": "code",
   "execution_count": 1,
   "metadata": {},
   "outputs": [],
   "source": [
    "import pandas as pd\n",
    "import numpy as np\n",
    "import seaborn as sns\n",
    "import matplotlib.pyplot as plt\n",
    "from sklearn.feature_extraction.text import TfidfVectorizer\n",
    "from sklearn.model_selection import KFold\n",
    "from sklearn.ensemble import RandomForestRegressor\n",
    "from sklearn.tree import DecisionTreeRegressor\n",
    "from sklearn.svm import SVR\n",
    "from sklearn.dummy import DummyRegressor\n",
    "from sklearn.neighbors import KNeighborsRegressor\n",
    "from sklearn.metrics import mean_squared_error, mean_absolute_error, mean_absolute_percentage_error, r2_score"
   ]
  },
  {
   "cell_type": "markdown",
   "metadata": {},
   "source": [
    "### Import dataset"
   ]
  },
  {
   "cell_type": "code",
   "execution_count": 2,
   "metadata": {},
   "outputs": [
    {
     "name": "stdout",
     "output_type": "stream",
     "text": [
      "<class 'pandas.core.frame.DataFrame'>\n",
      "RangeIndex: 4078 entries, 0 to 4077\n",
      "Data columns (total 17 columns):\n",
      " #   Column               Non-Null Count  Dtype  \n",
      "---  ------               --------------  -----  \n",
      " 0   text                 4078 non-null   object \n",
      " 1   quotes               4078 non-null   int64  \n",
      " 2   is.retweet           4078 non-null   bool   \n",
      " 3   external.link        4078 non-null   bool   \n",
      " 4   pictures             4078 non-null   bool   \n",
      " 5   videos               4078 non-null   bool   \n",
      " 6   gifs                 4078 non-null   bool   \n",
      " 7   multimedial_content  4078 non-null   bool   \n",
      " 8   user.image           4078 non-null   bool   \n",
      " 9   user.bio             4078 non-null   bool   \n",
      " 10  user.website         4078 non-null   bool   \n",
      " 11  user.tweets          4078 non-null   int64  \n",
      " 12  user.following       4078 non-null   int64  \n",
      " 13  user.media           4078 non-null   int64  \n",
      " 14  engagement.rate      4078 non-null   float64\n",
      " 15  n_hashtags           4078 non-null   int64  \n",
      " 16  processed text       4078 non-null   object \n",
      "dtypes: bool(9), float64(1), int64(5), object(2)\n",
      "memory usage: 290.8+ KB\n",
      "Number of NaN values: 0\n",
      "Number of rows: 4078\n",
      "Number of rows after dropping NaN values: 4078\n"
     ]
    },
    {
     "data": {
      "text/html": [
       "<div>\n",
       "<style scoped>\n",
       "    .dataframe tbody tr th:only-of-type {\n",
       "        vertical-align: middle;\n",
       "    }\n",
       "\n",
       "    .dataframe tbody tr th {\n",
       "        vertical-align: top;\n",
       "    }\n",
       "\n",
       "    .dataframe thead th {\n",
       "        text-align: right;\n",
       "    }\n",
       "</style>\n",
       "<table border=\"1\" class=\"dataframe\">\n",
       "  <thead>\n",
       "    <tr style=\"text-align: right;\">\n",
       "      <th></th>\n",
       "      <th>text</th>\n",
       "      <th>quotes</th>\n",
       "      <th>is.retweet</th>\n",
       "      <th>external.link</th>\n",
       "      <th>pictures</th>\n",
       "      <th>videos</th>\n",
       "      <th>gifs</th>\n",
       "      <th>multimedial_content</th>\n",
       "      <th>user.image</th>\n",
       "      <th>user.bio</th>\n",
       "      <th>user.website</th>\n",
       "      <th>user.tweets</th>\n",
       "      <th>user.following</th>\n",
       "      <th>user.media</th>\n",
       "      <th>engagement.rate</th>\n",
       "      <th>n_hashtags</th>\n",
       "      <th>processed text</th>\n",
       "    </tr>\n",
       "  </thead>\n",
       "  <tbody>\n",
       "    <tr>\n",
       "      <th>0</th>\n",
       "      <td>Fried Chicken with Hot 🔥 Sauce Corn Muffin and...</td>\n",
       "      <td>1</td>\n",
       "      <td>True</td>\n",
       "      <td>False</td>\n",
       "      <td>True</td>\n",
       "      <td>False</td>\n",
       "      <td>False</td>\n",
       "      <td>True</td>\n",
       "      <td>True</td>\n",
       "      <td>True</td>\n",
       "      <td>True</td>\n",
       "      <td>16213</td>\n",
       "      <td>549</td>\n",
       "      <td>15698</td>\n",
       "      <td>0.571817</td>\n",
       "      <td>8</td>\n",
       "      <td>fri chicken hot fire sauc corn muffin season f...</td>\n",
       "    </tr>\n",
       "    <tr>\n",
       "      <th>1</th>\n",
       "      <td>#Morel #mushrooms at center of #food #poisonin...</td>\n",
       "      <td>0</td>\n",
       "      <td>False</td>\n",
       "      <td>False</td>\n",
       "      <td>False</td>\n",
       "      <td>False</td>\n",
       "      <td>False</td>\n",
       "      <td>False</td>\n",
       "      <td>True</td>\n",
       "      <td>True</td>\n",
       "      <td>True</td>\n",
       "      <td>50098</td>\n",
       "      <td>513</td>\n",
       "      <td>1962</td>\n",
       "      <td>0.000000</td>\n",
       "      <td>10</td>\n",
       "      <td>morel mushroom center food poison outbreak fun...</td>\n",
       "    </tr>\n",
       "    <tr>\n",
       "      <th>2</th>\n",
       "      <td>My Blog::  Obama Legacy Facing REVISIT ... Ian...</td>\n",
       "      <td>0</td>\n",
       "      <td>False</td>\n",
       "      <td>False</td>\n",
       "      <td>False</td>\n",
       "      <td>False</td>\n",
       "      <td>False</td>\n",
       "      <td>False</td>\n",
       "      <td>True</td>\n",
       "      <td>True</td>\n",
       "      <td>True</td>\n",
       "      <td>5174</td>\n",
       "      <td>9022</td>\n",
       "      <td>0</td>\n",
       "      <td>0.008527</td>\n",
       "      <td>11</td>\n",
       "      <td>blog obama legaci face revisit ianrmackintoshb...</td>\n",
       "    </tr>\n",
       "    <tr>\n",
       "      <th>3</th>\n",
       "      <td>Craving sushi but tired of expensive takeout? ...</td>\n",
       "      <td>0</td>\n",
       "      <td>False</td>\n",
       "      <td>False</td>\n",
       "      <td>False</td>\n",
       "      <td>False</td>\n",
       "      <td>False</td>\n",
       "      <td>False</td>\n",
       "      <td>True</td>\n",
       "      <td>True</td>\n",
       "      <td>True</td>\n",
       "      <td>108071</td>\n",
       "      <td>678</td>\n",
       "      <td>49647</td>\n",
       "      <td>0.000000</td>\n",
       "      <td>6</td>\n",
       "      <td>crave sushi tire expens takeout look kellylov ...</td>\n",
       "    </tr>\n",
       "    <tr>\n",
       "      <th>4</th>\n",
       "      <td>Potato Pancakes should not be a rare side dish...</td>\n",
       "      <td>0</td>\n",
       "      <td>False</td>\n",
       "      <td>False</td>\n",
       "      <td>True</td>\n",
       "      <td>False</td>\n",
       "      <td>False</td>\n",
       "      <td>True</td>\n",
       "      <td>True</td>\n",
       "      <td>True</td>\n",
       "      <td>True</td>\n",
       "      <td>28081</td>\n",
       "      <td>2343</td>\n",
       "      <td>18032</td>\n",
       "      <td>0.000000</td>\n",
       "      <td>8</td>\n",
       "      <td>potato pancak rare side dish plan leftov time ...</td>\n",
       "    </tr>\n",
       "  </tbody>\n",
       "</table>\n",
       "</div>"
      ],
      "text/plain": [
       "                                                text  quotes  is.retweet  \\\n",
       "0  Fried Chicken with Hot 🔥 Sauce Corn Muffin and...       1        True   \n",
       "1  #Morel #mushrooms at center of #food #poisonin...       0       False   \n",
       "2  My Blog::  Obama Legacy Facing REVISIT ... Ian...       0       False   \n",
       "3  Craving sushi but tired of expensive takeout? ...       0       False   \n",
       "4  Potato Pancakes should not be a rare side dish...       0       False   \n",
       "\n",
       "   external.link  pictures  videos   gifs  multimedial_content  user.image  \\\n",
       "0          False      True   False  False                 True        True   \n",
       "1          False     False   False  False                False        True   \n",
       "2          False     False   False  False                False        True   \n",
       "3          False     False   False  False                False        True   \n",
       "4          False      True   False  False                 True        True   \n",
       "\n",
       "   user.bio  user.website  user.tweets  user.following  user.media  \\\n",
       "0      True          True        16213             549       15698   \n",
       "1      True          True        50098             513        1962   \n",
       "2      True          True         5174            9022           0   \n",
       "3      True          True       108071             678       49647   \n",
       "4      True          True        28081            2343       18032   \n",
       "\n",
       "   engagement.rate  n_hashtags  \\\n",
       "0         0.571817           8   \n",
       "1         0.000000          10   \n",
       "2         0.008527          11   \n",
       "3         0.000000           6   \n",
       "4         0.000000           8   \n",
       "\n",
       "                                      processed text  \n",
       "0  fri chicken hot fire sauc corn muffin season f...  \n",
       "1  morel mushroom center food poison outbreak fun...  \n",
       "2  blog obama legaci face revisit ianrmackintoshb...  \n",
       "3  crave sushi tire expens takeout look kellylov ...  \n",
       "4  potato pancak rare side dish plan leftov time ...  "
      ]
     },
     "execution_count": 2,
     "metadata": {},
     "output_type": "execute_result"
    }
   ],
   "source": [
    "data = pd.read_csv('../../datasets/data-stemmed.csv')\n",
    "data.info()\n",
    "nan_count = data['processed text'].isnull().sum()\n",
    "print(f'Number of NaN values: {nan_count}') # 2 NaN values (non so il perchè, nel file di stemming non uscivano)\n",
    "print(f'Number of rows: {len(data)}')\n",
    "data = data.dropna(subset=['processed text'])\n",
    "print(f'Number of rows after dropping NaN values: {len(data)}')\n",
    "data.head(5)"
   ]
  },
  {
   "cell_type": "markdown",
   "metadata": {},
   "source": [
    "### Perform vectrorization"
   ]
  },
  {
   "cell_type": "markdown",
   "metadata": {},
   "source": [
    "Perform here the division between covariates and target variable in order to easen the code later on"
   ]
  },
  {
   "cell_type": "code",
   "execution_count": 3,
   "metadata": {},
   "outputs": [
    {
     "name": "stdout",
     "output_type": "stream",
     "text": [
      "<class 'pandas.core.frame.DataFrame'>\n",
      "RangeIndex: 4078 entries, 0 to 4077\n",
      "Data columns (total 15 columns):\n",
      " #   Column               Non-Null Count  Dtype \n",
      "---  ------               --------------  ----- \n",
      " 0   quotes               4078 non-null   int64 \n",
      " 1   is.retweet           4078 non-null   bool  \n",
      " 2   external.link        4078 non-null   bool  \n",
      " 3   pictures             4078 non-null   bool  \n",
      " 4   videos               4078 non-null   bool  \n",
      " 5   gifs                 4078 non-null   bool  \n",
      " 6   multimedial_content  4078 non-null   bool  \n",
      " 7   user.image           4078 non-null   bool  \n",
      " 8   user.bio             4078 non-null   bool  \n",
      " 9   user.website         4078 non-null   bool  \n",
      " 10  user.tweets          4078 non-null   int64 \n",
      " 11  user.following       4078 non-null   int64 \n",
      " 12  user.media           4078 non-null   int64 \n",
      " 13  n_hashtags           4078 non-null   int64 \n",
      " 14  processed text       4078 non-null   object\n",
      "dtypes: bool(9), int64(5), object(1)\n",
      "memory usage: 227.1+ KB\n"
     ]
    }
   ],
   "source": [
    "data.drop(['text'], axis=1, inplace=True)\n",
    "Y = data['engagement.rate']\n",
    "data['engagement.rate'].fillna(data['engagement.rate'].mean(), inplace=True)\n",
    "X = data.drop(columns=['engagement.rate'])\n",
    "X.info()"
   ]
  },
  {
   "cell_type": "code",
   "execution_count": 4,
   "metadata": {},
   "outputs": [
    {
     "name": "stdout",
     "output_type": "stream",
     "text": [
      "59436\n",
      "[0.17732438 0.27265551 0.20610443 ... 0.86084528 0.12009352 0.49449262]\n",
      "False\n"
     ]
    },
    {
     "data": {
      "text/html": [
       "<div>\n",
       "<style scoped>\n",
       "    .dataframe tbody tr th:only-of-type {\n",
       "        vertical-align: middle;\n",
       "    }\n",
       "\n",
       "    .dataframe tbody tr th {\n",
       "        vertical-align: top;\n",
       "    }\n",
       "\n",
       "    .dataframe thead th {\n",
       "        text-align: right;\n",
       "    }\n",
       "</style>\n",
       "<table border=\"1\" class=\"dataframe\">\n",
       "  <thead>\n",
       "    <tr style=\"text-align: right;\">\n",
       "      <th></th>\n",
       "      <th>quotes</th>\n",
       "      <th>is.retweet</th>\n",
       "      <th>external.link</th>\n",
       "      <th>pictures</th>\n",
       "      <th>videos</th>\n",
       "      <th>gifs</th>\n",
       "      <th>multimedial_content</th>\n",
       "      <th>user.image</th>\n",
       "      <th>user.bio</th>\n",
       "      <th>user.website</th>\n",
       "      <th>user.tweets</th>\n",
       "      <th>user.following</th>\n",
       "      <th>user.media</th>\n",
       "      <th>n_hashtags</th>\n",
       "      <th>processed text</th>\n",
       "    </tr>\n",
       "  </thead>\n",
       "  <tbody>\n",
       "    <tr>\n",
       "      <th>0</th>\n",
       "      <td>1</td>\n",
       "      <td>True</td>\n",
       "      <td>False</td>\n",
       "      <td>True</td>\n",
       "      <td>False</td>\n",
       "      <td>False</td>\n",
       "      <td>True</td>\n",
       "      <td>True</td>\n",
       "      <td>True</td>\n",
       "      <td>True</td>\n",
       "      <td>16213</td>\n",
       "      <td>549</td>\n",
       "      <td>15698</td>\n",
       "      <td>8</td>\n",
       "      <td>fri chicken hot fire sauc corn muffin season f...</td>\n",
       "    </tr>\n",
       "    <tr>\n",
       "      <th>1</th>\n",
       "      <td>0</td>\n",
       "      <td>False</td>\n",
       "      <td>False</td>\n",
       "      <td>False</td>\n",
       "      <td>False</td>\n",
       "      <td>False</td>\n",
       "      <td>False</td>\n",
       "      <td>True</td>\n",
       "      <td>True</td>\n",
       "      <td>True</td>\n",
       "      <td>50098</td>\n",
       "      <td>513</td>\n",
       "      <td>1962</td>\n",
       "      <td>10</td>\n",
       "      <td>morel mushroom center food poison outbreak fun...</td>\n",
       "    </tr>\n",
       "    <tr>\n",
       "      <th>2</th>\n",
       "      <td>0</td>\n",
       "      <td>False</td>\n",
       "      <td>False</td>\n",
       "      <td>False</td>\n",
       "      <td>False</td>\n",
       "      <td>False</td>\n",
       "      <td>False</td>\n",
       "      <td>True</td>\n",
       "      <td>True</td>\n",
       "      <td>True</td>\n",
       "      <td>5174</td>\n",
       "      <td>9022</td>\n",
       "      <td>0</td>\n",
       "      <td>11</td>\n",
       "      <td>blog obama legaci face revisit ianrmackintoshb...</td>\n",
       "    </tr>\n",
       "    <tr>\n",
       "      <th>3</th>\n",
       "      <td>0</td>\n",
       "      <td>False</td>\n",
       "      <td>False</td>\n",
       "      <td>False</td>\n",
       "      <td>False</td>\n",
       "      <td>False</td>\n",
       "      <td>False</td>\n",
       "      <td>True</td>\n",
       "      <td>True</td>\n",
       "      <td>True</td>\n",
       "      <td>108071</td>\n",
       "      <td>678</td>\n",
       "      <td>49647</td>\n",
       "      <td>6</td>\n",
       "      <td>crave sushi tire expens takeout look kellylov ...</td>\n",
       "    </tr>\n",
       "    <tr>\n",
       "      <th>4</th>\n",
       "      <td>0</td>\n",
       "      <td>False</td>\n",
       "      <td>False</td>\n",
       "      <td>True</td>\n",
       "      <td>False</td>\n",
       "      <td>False</td>\n",
       "      <td>True</td>\n",
       "      <td>True</td>\n",
       "      <td>True</td>\n",
       "      <td>True</td>\n",
       "      <td>28081</td>\n",
       "      <td>2343</td>\n",
       "      <td>18032</td>\n",
       "      <td>8</td>\n",
       "      <td>potato pancak rare side dish plan leftov time ...</td>\n",
       "    </tr>\n",
       "  </tbody>\n",
       "</table>\n",
       "</div>"
      ],
      "text/plain": [
       "   quotes  is.retweet  external.link  pictures  videos   gifs  \\\n",
       "0       1        True          False      True   False  False   \n",
       "1       0       False          False     False   False  False   \n",
       "2       0       False          False     False   False  False   \n",
       "3       0       False          False     False   False  False   \n",
       "4       0       False          False      True   False  False   \n",
       "\n",
       "   multimedial_content  user.image  user.bio  user.website  user.tweets  \\\n",
       "0                 True        True      True          True        16213   \n",
       "1                False        True      True          True        50098   \n",
       "2                False        True      True          True         5174   \n",
       "3                False        True      True          True       108071   \n",
       "4                 True        True      True          True        28081   \n",
       "\n",
       "   user.following  user.media  n_hashtags  \\\n",
       "0             549       15698           8   \n",
       "1             513        1962          10   \n",
       "2            9022           0          11   \n",
       "3             678       49647           6   \n",
       "4            2343       18032           8   \n",
       "\n",
       "                                      processed text  \n",
       "0  fri chicken hot fire sauc corn muffin season f...  \n",
       "1  morel mushroom center food poison outbreak fun...  \n",
       "2  blog obama legaci face revisit ianrmackintoshb...  \n",
       "3  crave sushi tire expens takeout look kellylov ...  \n",
       "4  potato pancak rare side dish plan leftov time ...  "
      ]
     },
     "execution_count": 4,
     "metadata": {},
     "output_type": "execute_result"
    }
   ],
   "source": [
    "# label encoding\n",
    "# max_df will be set with regard of the best parameter found in the previous step\n",
    "vectorizer = TfidfVectorizer(min_df=2, max_df=0.99) # ignore terms that appear in more than 99% of the documents and in less than 2 documents\n",
    "\n",
    "dtm = vectorizer.fit_transform(X['processed text'])\n",
    "# DTM is a document-term matrix with shape (n_samples, n_features) having as rows the documents and as columns the terms learned as vocabulary\n",
    "# The value of each cell is the tf-idf score\n",
    "\n",
    "\n",
    "# Convert sparse matrix to dense matrix\n",
    "dense_matrix = dtm.toarray()\n",
    "\n",
    "# Display non-zero elements\n",
    "non_zero_elements = dense_matrix[dense_matrix != 0]\n",
    "print(len(non_zero_elements))\n",
    "print(non_zero_elements)\n",
    "\n",
    "# Convert the DTM to a dataframe\n",
    "dtm_df = pd.DataFrame(dtm.toarray(), columns=vectorizer.get_feature_names_out())\n",
    "\n",
    "# # Calculate the threshold for removal\n",
    "# threshold = 0.001 * len(X)  # For example, keep terms that appear in at least 1% of documents\n",
    "# dtm_df = dtm_df.loc[:, dtm_df.sum() >= threshold]\n",
    "\n",
    "# Merge the two dataframes\n",
    "# Reset the indexes of both X and dtm_df\n",
    "X.reset_index(drop=True, inplace=True)\n",
    "dtm_df.reset_index(drop=True, inplace=True)\n",
    "\n",
    "# Concatenate the DataFrames\n",
    "merged_df = pd.concat([X, dtm_df], axis=1)\n",
    "X.fillna(0, inplace=True)\n",
    "flag=False\n",
    "if 'engagement.rate' in X.columns:\n",
    "    flag = True\n",
    "print(f'{flag}')\n",
    "X.head(5)"
   ]
  },
  {
   "cell_type": "markdown",
   "metadata": {},
   "source": [
    "Drop the text column, as processed text will be the covariate of interest.\n",
    "Then perform the X, Y division, where Y will be engagement rate"
   ]
  },
  {
   "cell_type": "code",
   "execution_count": null,
   "metadata": {},
   "outputs": [
    {
     "data": {
      "text/html": [
       "<div>\n",
       "<style scoped>\n",
       "    .dataframe tbody tr th:only-of-type {\n",
       "        vertical-align: middle;\n",
       "    }\n",
       "\n",
       "    .dataframe tbody tr th {\n",
       "        vertical-align: top;\n",
       "    }\n",
       "\n",
       "    .dataframe thead th {\n",
       "        text-align: right;\n",
       "    }\n",
       "</style>\n",
       "<table border=\"1\" class=\"dataframe\">\n",
       "  <thead>\n",
       "    <tr style=\"text-align: right;\">\n",
       "      <th></th>\n",
       "      <th>quotes</th>\n",
       "      <th>is.retweet</th>\n",
       "      <th>external.link</th>\n",
       "      <th>pictures</th>\n",
       "      <th>videos</th>\n",
       "      <th>gifs</th>\n",
       "      <th>multimedial_content</th>\n",
       "      <th>user.image</th>\n",
       "      <th>user.bio</th>\n",
       "      <th>user.website</th>\n",
       "      <th>user.tweets</th>\n",
       "      <th>user.following</th>\n",
       "      <th>user.media</th>\n",
       "      <th>n_hashtags</th>\n",
       "    </tr>\n",
       "  </thead>\n",
       "  <tbody>\n",
       "    <tr>\n",
       "      <th>0</th>\n",
       "      <td>1</td>\n",
       "      <td>True</td>\n",
       "      <td>False</td>\n",
       "      <td>True</td>\n",
       "      <td>False</td>\n",
       "      <td>False</td>\n",
       "      <td>True</td>\n",
       "      <td>True</td>\n",
       "      <td>True</td>\n",
       "      <td>True</td>\n",
       "      <td>16213</td>\n",
       "      <td>549</td>\n",
       "      <td>15698</td>\n",
       "      <td>8</td>\n",
       "    </tr>\n",
       "    <tr>\n",
       "      <th>1</th>\n",
       "      <td>0</td>\n",
       "      <td>False</td>\n",
       "      <td>False</td>\n",
       "      <td>False</td>\n",
       "      <td>False</td>\n",
       "      <td>False</td>\n",
       "      <td>False</td>\n",
       "      <td>True</td>\n",
       "      <td>True</td>\n",
       "      <td>True</td>\n",
       "      <td>50098</td>\n",
       "      <td>513</td>\n",
       "      <td>1962</td>\n",
       "      <td>10</td>\n",
       "    </tr>\n",
       "    <tr>\n",
       "      <th>2</th>\n",
       "      <td>0</td>\n",
       "      <td>False</td>\n",
       "      <td>False</td>\n",
       "      <td>False</td>\n",
       "      <td>False</td>\n",
       "      <td>False</td>\n",
       "      <td>False</td>\n",
       "      <td>True</td>\n",
       "      <td>True</td>\n",
       "      <td>True</td>\n",
       "      <td>5174</td>\n",
       "      <td>9022</td>\n",
       "      <td>0</td>\n",
       "      <td>11</td>\n",
       "    </tr>\n",
       "    <tr>\n",
       "      <th>3</th>\n",
       "      <td>0</td>\n",
       "      <td>False</td>\n",
       "      <td>False</td>\n",
       "      <td>False</td>\n",
       "      <td>False</td>\n",
       "      <td>False</td>\n",
       "      <td>False</td>\n",
       "      <td>True</td>\n",
       "      <td>True</td>\n",
       "      <td>True</td>\n",
       "      <td>108071</td>\n",
       "      <td>678</td>\n",
       "      <td>49647</td>\n",
       "      <td>6</td>\n",
       "    </tr>\n",
       "    <tr>\n",
       "      <th>4</th>\n",
       "      <td>0</td>\n",
       "      <td>False</td>\n",
       "      <td>False</td>\n",
       "      <td>True</td>\n",
       "      <td>False</td>\n",
       "      <td>False</td>\n",
       "      <td>True</td>\n",
       "      <td>True</td>\n",
       "      <td>True</td>\n",
       "      <td>True</td>\n",
       "      <td>28081</td>\n",
       "      <td>2343</td>\n",
       "      <td>18032</td>\n",
       "      <td>8</td>\n",
       "    </tr>\n",
       "  </tbody>\n",
       "</table>\n",
       "</div>"
      ],
      "text/plain": [
       "   quotes  is.retweet  external.link  pictures  videos   gifs  \\\n",
       "0       1        True          False      True   False  False   \n",
       "1       0       False          False     False   False  False   \n",
       "2       0       False          False     False   False  False   \n",
       "3       0       False          False     False   False  False   \n",
       "4       0       False          False      True   False  False   \n",
       "\n",
       "   multimedial_content  user.image  user.bio  user.website  user.tweets  \\\n",
       "0                 True        True      True          True        16213   \n",
       "1                False        True      True          True        50098   \n",
       "2                False        True      True          True         5174   \n",
       "3                False        True      True          True       108071   \n",
       "4                 True        True      True          True        28081   \n",
       "\n",
       "   user.following  user.media  n_hashtags  \n",
       "0             549       15698           8  \n",
       "1             513        1962          10  \n",
       "2            9022           0          11  \n",
       "3             678       49647           6  \n",
       "4            2343       18032           8  "
      ]
     },
     "execution_count": 5,
     "metadata": {},
     "output_type": "execute_result"
    }
   ],
   "source": [
    "X.drop(columns=['processed text'], inplace=True)\n",
    "X.head(5)"
   ]
  },
  {
   "cell_type": "code",
   "execution_count": null,
   "metadata": {},
   "outputs": [],
   "source": [
    "# dataframe for storing results in a convenient way for shwing boxplot later\n",
    "reg_metrics = pd.DataFrame(columns=['Model', 'MAE', 'RMSE', 'MAPE', 'R2'])"
   ]
  },
  {
   "cell_type": "markdown",
   "metadata": {},
   "source": [
    "### Dummy regressor\n",
    "\n",
    "We are going to use a dummy regressor (that estimates the mean of the output variable) as a baseline."
   ]
  },
  {
   "cell_type": "code",
   "execution_count": null,
   "metadata": {},
   "outputs": [
    {
     "data": {
      "image/png": "[encoded data removed]",
      "text/plain": [
       "<Figure size 640x480 with 1 Axes>"
      ]
     },
     "metadata": {},
     "output_type": "display_data"
    },
    {
     "name": "stdout",
     "output_type": "stream",
     "text": [
      "MSE Scores: 0    248.663133\n",
      "1     77.754032\n",
      "2     78.148232\n",
      "3    138.127485\n",
      "4     27.246490\n",
      "5    312.969794\n",
      "6     25.704574\n",
      "7     38.843333\n",
      "8    238.569791\n",
      "9    233.163982\n",
      "Name: RMSE, dtype: float64\n",
      "Mean MSE: 141.9190845676902\n"
     ]
    }
   ],
   "source": [
    "dummy_kfolds = KFold(n_splits=10, shuffle=True)\n",
    "for train_idx, test_idx in dummy_kfolds.split(X):\n",
    "    dummy_regressor = DummyRegressor()\n",
    "    dummy_regressor.fit(X.iloc[train_idx], Y.iloc[train_idx])\n",
    "    y_dummy_reg = dummy_regressor.predict(X.iloc[test_idx])\n",
    "    current_dummy_mae = mean_absolute_error(Y.iloc[test_idx], y_dummy_reg)\n",
    "    current_dummy_mse = mean_squared_error(Y.iloc[test_idx], y_dummy_reg)\n",
    "    current_dummy_rmse = np.sqrt(current_dummy_mse)\n",
    "    current_dummy_mape = mean_absolute_percentage_error(Y.iloc[test_idx], y_dummy_reg)\n",
    "    current_dummy_r2 = r2_score(Y.iloc[test_idx], y_dummy_reg)\n",
    "    reg_metrics.loc[len(reg_metrics)] = ['DUMMY', current_dummy_mae, current_dummy_rmse, current_dummy_mape, current_dummy_r2]\n",
    "\n",
    "# Dovrebbe essere lo stesso di fare:\n",
    "# lin_regressor = LinearRegression()\n",
    "# Y_reshaped = Y.values.reshape(-1, 1)\n",
    "\n",
    "# Perform cross-validation to get MSE scores\n",
    "# mse_scores = -cross_val_score(lin_regressor, np.ones_like(Y_reshaped), Y_reshaped,\n",
    "#                              scoring='neg_mean_squared_error', cv=10)\n",
    "# mae scores = -cross_val_score(lin_regressor, np.ones_like(Y_reshaped), Y_reshaped, scoring='neg_mean_absolute_error', cv=10)\n",
    "# mape_scores = -cross_val_score(lin_regressor, np.ones_like(Y_reshaped), Y_reshaped, scoring='neg_mean_absolute_percentage_error', cv=10)\n",
    "# reg_metrics.loc[len(reg_metrics)] = ['DUMMY', mae_scores, mse_scores, mape_scores]\n",
    "\n",
    "\n",
    "#Scatterplot of Y\n",
    "mean_y = np.mean(Y)\n",
    "plt.scatter(np.arange(len(Y)), Y, label='Y')\n",
    "plt.axhline(y=mean_y, color='r', linestyle='--', label='mean')    # Plot the mean\n",
    "plt.title('Scatterplot of Y')\n",
    "plt.xlabel('Sample index')\n",
    "plt.ylabel('Y')\n",
    "plt.legend()\n",
    "plt.show()\n",
    "\n",
    "# Print MSE scores and mean MSE\n",
    "print(f\"MSE Scores: {reg_metrics.loc[reg_metrics['Model']=='DUMMY','RMSE']}\")\n",
    "print(f\"Mean MSE: {np.mean(reg_metrics.loc[reg_metrics['Model']=='DUMMY','RMSE'])}\")"
   ]
  },
  {
   "cell_type": "markdown",
   "metadata": {},
   "source": [
    "We can see that the dummy classifier doesn't do much, as with few outliers, but that generates much leverage, the MSE is indeed very high"
   ]
  },
  {
   "cell_type": "markdown",
   "metadata": {},
   "source": [
    "## Single decision tree"
   ]
  },
  {
   "cell_type": "code",
   "execution_count": null,
   "metadata": {},
   "outputs": [
    {
     "name": "stdout",
     "output_type": "stream",
     "text": [
      "MSE Scores: 10    132.542623\n",
      "11    245.422058\n",
      "12    146.742511\n",
      "13     34.964548\n",
      "14    288.081411\n",
      "15    240.576848\n",
      "16    273.727011\n",
      "17    320.409424\n",
      "18     37.045475\n",
      "19    286.417827\n",
      "Name: RMSE, dtype: float64\n",
      "Mean MSE: 200.59297352323577\n"
     ]
    }
   ],
   "source": [
    "# Decision Tree Regressor\n",
    "# Initialize a decision tree regressor instance\n",
    "tree_kfolds = KFold(n_splits=10, shuffle=True)\n",
    "for train_idx, test_idx in tree_kfolds.split(X):\n",
    "    tree_regressor = DecisionTreeRegressor()\n",
    "    tree_regressor.fit(X.iloc[train_idx], Y.iloc[train_idx])\n",
    "    y_tree_reg = tree_regressor.predict(X.iloc[test_idx])\n",
    "    current_tree_mae = mean_absolute_error(Y.iloc[test_idx], y_tree_reg)\n",
    "    current_tree_mse = mean_squared_error(Y.iloc[test_idx], y_tree_reg)\n",
    "    current_tree_rmse = np.sqrt(current_tree_mse)\n",
    "    current_tree_mape = mean_absolute_percentage_error(Y.iloc[test_idx], y_tree_reg)\n",
    "    current_tree_r2 = r2_score(Y.iloc[test_idx], y_tree_reg)\n",
    "    reg_metrics.loc[len(reg_metrics)] = ['TREE', current_tree_mae, current_tree_rmse, current_tree_mape, current_tree_r2]\n",
    "\n",
    "# Dovrebbe essere lo stesso di fare:\n",
    "# rf = RandomForestRegressor()\n",
    "#\n",
    "# Perform cross-validation to get MSE scores\n",
    "# mse_scores = -cross_val_score(rd, X, Y,\n",
    "#                              scoring='neg_mean_squared_error', cv=10)\n",
    "# mae scores = -cross_val_score(rf, X, Y, scoring='neg_mean_absolute_error', cv=10)\n",
    "# mape_scores = -cross_val_score(rf, X, Y, scoring='neg_mean_absolute_percentage_error', cv=10)\n",
    "# reg_metrics.loc[len(reg_metrics)] = ['DUMMY', mae_scores, mse_scores, mape_scores]\n",
    "\n",
    "# Print MSE scores and mean MSE\n",
    "print(f\"MSE Scores: {reg_metrics.loc[reg_metrics['Model']=='TREE','RMSE']}\")\n",
    "print(f\"Mean MSE: {np.mean(reg_metrics.loc[reg_metrics['Model']=='TREE','RMSE'])}\")"
   ]
  },
  {
   "cell_type": "markdown",
   "metadata": {},
   "source": [
    "## RandomForest"
   ]
  },
  {
   "cell_type": "code",
   "execution_count": null,
   "metadata": {},
   "outputs": [
    {
     "name": "stdout",
     "output_type": "stream",
     "text": [
      "MSE Scores: 20     78.084454\n",
      "21    136.879812\n",
      "22     66.669140\n",
      "23    246.397136\n",
      "24    180.074280\n",
      "25    152.382318\n",
      "26    158.024711\n",
      "27    316.095425\n",
      "28    228.496571\n",
      "29    123.008896\n",
      "Name: RMSE, dtype: float64\n",
      "Mean MSE: 168.6112741077885\n"
     ]
    }
   ],
   "source": [
    "# Random Forest Regressor\n",
    "# Initialize a random forest regressor instance\n",
    "rf_kfolds = KFold(n_splits=10, shuffle=True)\n",
    "for train_idx, test_idx in rf_kfolds.split(X):\n",
    "    rf_regressor = RandomForestRegressor()\n",
    "    rf_regressor.fit(X.iloc[train_idx], Y.iloc[train_idx])\n",
    "    y_rf_reg = rf_regressor.predict(X.iloc[test_idx])\n",
    "    current_rf_mae = mean_absolute_error(Y.iloc[test_idx], y_rf_reg)\n",
    "    current_rf_mse = mean_squared_error(Y.iloc[test_idx], y_rf_reg)\n",
    "    current_rf_rmse = np.sqrt(current_rf_mse)\n",
    "    current_rf_mape = mean_absolute_percentage_error(Y.iloc[test_idx], y_rf_reg)\n",
    "    current_rf_r2 = r2_score(Y.iloc[test_idx], y_rf_reg)\n",
    "    reg_metrics.loc[len(reg_metrics)] = ['RF', current_rf_mae, current_rf_rmse, current_rf_mape, current_rf_r2]\n",
    "     \n",
    "# Dovrebbe essere lo stesso di fare:\n",
    "# dummy_regressor = DummyRegressor()\n",
    "\n",
    "# Perform cross-validation to get MSE scores\n",
    "# mse_scores = -cross_val_score(lin_regressor, X, Y,\n",
    "#                              scoring='neg_mean_squared_error', cv=10)\n",
    "# mae scores = -cross_val_score(lin_regressor, X, Y, scoring='neg_mean_absolute_error', cv=10)\n",
    "# mape_scores = -cross_val_score(lin_regressor, X, Y, scoring='neg_mean_absolute_percentage_error', cv=10)\n",
    "# reg_metrics.loc[len(reg_metrics)] = ['DUMMY', mae_scores, mse_scores, mape_scores]\n",
    "\n",
    "# Print MSE scores and mean MSE\n",
    "print(f\"MSE Scores: {reg_metrics.loc[reg_metrics['Model']=='RF','RMSE']}\")\n",
    "print(f\"Mean MSE: {np.mean(reg_metrics.loc[reg_metrics['Model']=='RF','RMSE'])}\")"
   ]
  },
  {
   "cell_type": "markdown",
   "metadata": {},
   "source": [
    "## SVM"
   ]
  },
  {
   "cell_type": "code",
   "execution_count": null,
   "metadata": {},
   "outputs": [
    {
     "name": "stdout",
     "output_type": "stream",
     "text": [
      "MSE Scores: 30     38.092617\n",
      "31    313.486200\n",
      "32     39.186475\n",
      "33     69.892691\n",
      "34     43.813111\n",
      "35    129.439360\n",
      "36     86.405071\n",
      "37    135.249817\n",
      "38    312.300889\n",
      "39    243.261504\n",
      "Name: RMSE, dtype: float64\n",
      "Mean MSE: 141.11277353768912\n"
     ]
    }
   ],
   "source": [
    "sv_kfolds = KFold(n_splits=10, shuffle=True)\n",
    "for train_idx, test_idx in sv_kfolds.split(X):\n",
    "    sv_regressor = SVR()\n",
    "    sv_regressor.fit(X.iloc[train_idx], Y.iloc[train_idx])\n",
    "    y_sv_reg = sv_regressor.predict(X.iloc[test_idx])\n",
    "    current_sv_mae = mean_absolute_error(Y.iloc[test_idx], y_sv_reg)\n",
    "    current_sv_mse = mean_squared_error(Y.iloc[test_idx], y_sv_reg)\n",
    "    current_sv_rmse = np.sqrt(current_sv_mse)\n",
    "    current_sv_mape = mean_absolute_percentage_error(Y.iloc[test_idx], y_sv_reg)\n",
    "    current_sv_r2 = r2_score(Y.iloc[test_idx], y_sv_reg)\n",
    "    reg_metrics.loc[len(reg_metrics)] = ['SVM', current_sv_mae, current_sv_rmse, current_sv_mape, current_sv_r2]\n",
    "\n",
    "# Dovrebbe essere lo stesso di fare:\n",
    "# sv_regressor = SVR()\n",
    "#\n",
    "# Perform cross-validation to get MSE scores\n",
    "# mse_scores = -cross_val_score(sv_regressor, X, Y,\n",
    "#                              scoring='neg_mean_squared_error', cv=10)\n",
    "# mae scores = -cross_val_score(sv_regressor, X, Y, scoring='neg_mean_absolute_error', cv=10)\n",
    "# mape_scores = -cross_val_score(sv_regressor, X, Y, scoring='neg_mean_absolute_percentage_error', cv=10)\n",
    "# reg_metrics.loc[len(reg_metrics)] = ['DUMMY', mae_scores, mse_scores, mape_scores]\n",
    "\n",
    "# Print MSE scores and mean MSE\n",
    "print(f\"MSE Scores: {reg_metrics.loc[reg_metrics['Model']=='SVM','RMSE']}\")\n",
    "print(f\"Mean MSE: {np.mean(reg_metrics.loc[reg_metrics['Model']=='SVM','RMSE'])}\")"
   ]
  },
  {
   "cell_type": "markdown",
   "metadata": {},
   "source": [
    "## kNearestNeighbor"
   ]
  },
  {
   "cell_type": "code",
   "execution_count": null,
   "metadata": {},
   "outputs": [
    {
     "name": "stdout",
     "output_type": "stream",
     "text": [
      "MSE Scores: 40     96.742129\n",
      "41    277.771563\n",
      "42    111.414677\n",
      "43    399.230451\n",
      "44     79.308653\n",
      "45    106.227075\n",
      "46    121.064905\n",
      "47    278.636684\n",
      "48     73.533453\n",
      "49    117.195123\n",
      "Name: RMSE, dtype: float64\n",
      "Mean MSE: 166.11247134760805\n"
     ]
    }
   ],
   "source": [
    "knn_kfolds = KFold(n_splits=10, shuffle=True)\n",
    "for train_idx, test_idx in knn_kfolds.split(X):\n",
    "    knn_regressor = KNeighborsRegressor()\n",
    "    knn_regressor.fit(X.iloc[train_idx], Y.iloc[train_idx])\n",
    "    y_knn_reg = knn_regressor.predict(X.iloc[test_idx])\n",
    "    current_knn_mae = mean_absolute_error(Y.iloc[test_idx], y_knn_reg)\n",
    "    current_knn_mse = mean_squared_error(Y.iloc[test_idx], y_knn_reg)\n",
    "    current_knn_rmse = np.sqrt(current_knn_mse)\n",
    "    current_knn_mape = mean_absolute_percentage_error(Y.iloc[test_idx], y_knn_reg)\n",
    "    current_knn_r2 = r2_score(Y.iloc[test_idx], y_knn_reg)\n",
    "    reg_metrics.loc[len(reg_metrics)] = ['KNN', current_knn_mae, current_knn_rmse, current_knn_mape, current_knn_r2]\n",
    "\n",
    "# Dovrebbe essere lo stesso di fare:\n",
    "# knn_regressor = KNeighborsRegressor()\n",
    "#\n",
    "# Perform cross-validation to get MSE scores\n",
    "# mse_scores = -cross_val_score(knn_regressor, X, Y,\n",
    "#                              scoring='neg_mean_squared_error', cv=10)\n",
    "# mae scores = -cross_val_score(knn_regressor, X, Y, scoring='neg_mean_absolute_error', cv=10)\n",
    "# mape_scores = -cross_val_score(knn_regressor, X, Y, scoring='neg_mean_absolute_percentage_error', cv=10)\n",
    "# reg_metrics.loc[len(reg_metrics)] = ['DUMMY', mae_scores, mse_scores, mape_scores]\n",
    "\n",
    "# Print MSE scores and mean MSE\n",
    "print(f\"MSE Scores: {reg_metrics.loc[reg_metrics['Model']=='KNN','RMSE']}\")\n",
    "print(f\"Mean MSE: {np.mean(reg_metrics.loc[reg_metrics['Model']=='KNN','RMSE'])}\")"
   ]
  },
  {
   "cell_type": "markdown",
   "metadata": {},
   "source": [
    "## Some plots"
   ]
  },
  {
   "cell_type": "code",
   "execution_count": null,
   "metadata": {},
   "outputs": [
    {
     "data": {
      "image/png": "[encoded data removed]",
      "text/plain": [
       "<Figure size 1200x1000 with 4 Axes>"
      ]
     },
     "metadata": {},
     "output_type": "display_data"
    }
   ],
   "source": [
    "fig, axs = plt.subplots(2, 2, figsize=(12, 10))\n",
    "sns.boxplot(data=reg_metrics, x=\"MAE\", y=\"Model\", ax=axs[0, 0], palette=sns.color_palette('Paired')[1::2])\n",
    "sns.boxplot(data=reg_metrics, x=\"RMSE\", y=\"Model\", ax=axs[0, 1], palette=sns.color_palette('Paired')[1::2])\n",
    "sns.boxplot(data=reg_metrics, x=\"MAPE\", y=\"Model\", ax=axs[1, 0], palette=sns.color_palette('Paired')[1::2])\n",
    "sns.boxplot(data=reg_metrics, x=\"R2\", y=\"Model\", ax=axs[1, 1], palette=sns.color_palette('Paired')[1::2])\n",
    "\n",
    "\n",
    "plt.tight_layout()\n",
    "plt.show()"
   ]
  },
  {
   "cell_type": "markdown",
   "metadata": {},
   "source": [
    "## Use only multimedial data"
   ]
  },
  {
   "cell_type": "code",
   "execution_count": null,
   "metadata": {},
   "outputs": [],
   "source": [
    "X.drop(columns=['pictures', 'videos', 'gifs'], inplace=True)"
   ]
  },
  {
   "cell_type": "code",
   "execution_count": null,
   "metadata": {},
   "outputs": [],
   "source": [
    "reg_metrics_new = pd.DataFrame(columns=['Model', 'MAE', 'RMSE', 'MAPE', 'R2'])"
   ]
  },
  {
   "cell_type": "code",
   "execution_count": null,
   "metadata": {},
   "outputs": [
    {
     "data": {
      "image/png": "[encoded data removed]",
      "text/plain": [
       "<Figure size 640x480 with 1 Axes>"
      ]
     },
     "metadata": {},
     "output_type": "display_data"
    },
    {
     "name": "stdout",
     "output_type": "stream",
     "text": [
      "MSE Scores: 0    319.026327\n",
      "1     28.157510\n",
      "2    186.051648\n",
      "3     41.316309\n",
      "4    220.464022\n",
      "5     36.731721\n",
      "6     70.193352\n",
      "7    113.674712\n",
      "8    313.130493\n",
      "9     21.762117\n",
      "Name: RMSE, dtype: float64\n",
      "Mean MSE: 135.05082122146217\n"
     ]
    }
   ],
   "source": [
    "dummy_kfolds = KFold(n_splits=10, shuffle=True)\n",
    "for train_idx, test_idx in dummy_kfolds.split(X):\n",
    "    dummy_regressor = DummyRegressor()\n",
    "    dummy_regressor.fit(X.iloc[train_idx], Y.iloc[train_idx])\n",
    "    y_dummy_reg = dummy_regressor.predict(X.iloc[test_idx])\n",
    "    current_dummy_mae = mean_absolute_error(Y.iloc[test_idx], y_dummy_reg)\n",
    "    current_dummy_mse = mean_squared_error(Y.iloc[test_idx], y_dummy_reg)\n",
    "    current_dummy_rmse = np.sqrt(current_dummy_mse)\n",
    "    current_dummy_mape = mean_absolute_percentage_error(Y.iloc[test_idx], y_dummy_reg)\n",
    "    current_dummy_r2 = r2_score(Y.iloc[test_idx], y_dummy_reg)\n",
    "    reg_metrics_new.loc[len(reg_metrics_new)] = ['DUMMY', current_dummy_mae, current_dummy_rmse, current_dummy_mape, current_dummy_r2]\n",
    "\n",
    "# Dovrebbe essere lo stesso di fare:\n",
    "# lin_regressor = LinearRegression()\n",
    "# Y_reshaped = Y.values.reshape(-1, 1)\n",
    "\n",
    "# Perform cross-validation to get MSE scores\n",
    "# mse_scores = -cross_val_score(lin_regressor, np.ones_like(Y_reshaped), Y_reshaped,\n",
    "#                              scoring='neg_mean_squared_error', cv=10)\n",
    "# mae scores = -cross_val_score(lin_regressor, np.ones_like(Y_reshaped), Y_reshaped, scoring='neg_mean_absolute_error', cv=10)\n",
    "# mape_scores = -cross_val_score(lin_regressor, np.ones_like(Y_reshaped), Y_reshaped, scoring='neg_mean_absolute_percentage_error', cv=10)\n",
    "# reg_metrics_new.loc[len(reg_metrics_new)] = ['DUMMY', mae_scores, mse_scores, mape_scores]\n",
    "\n",
    "\n",
    "#Scatterplot of Y\n",
    "mean_y = np.mean(Y)\n",
    "plt.scatter(np.arange(len(Y)), Y, label='Y')\n",
    "plt.axhline(y=mean_y, color='r', linestyle='--', label='mean')    # Plot the mean\n",
    "plt.title('Scatterplot of Y')\n",
    "plt.xlabel('Sample index')\n",
    "plt.ylabel('Y')\n",
    "plt.legend()\n",
    "plt.show()\n",
    "\n",
    "# Print MSE scores and mean MSE\n",
    "print(f\"MSE Scores: {reg_metrics_new.loc[reg_metrics_new['Model']=='DUMMY','RMSE']}\")\n",
    "print(f\"Mean MSE: {np.mean(reg_metrics_new.loc[reg_metrics_new['Model']=='DUMMY','RMSE'])}\")"
   ]
  },
  {
   "cell_type": "code",
   "execution_count": null,
   "metadata": {},
   "outputs": [
    {
     "name": "stdout",
     "output_type": "stream",
     "text": [
      "MSE Scores: 10    107.938646\n",
      "11    324.187796\n",
      "12    370.313536\n",
      "13    119.979810\n",
      "14    292.527074\n",
      "15    165.514273\n",
      "16    294.246505\n",
      "17     62.606945\n",
      "18     89.673691\n",
      "19     54.431216\n",
      "Name: RMSE, dtype: float64\n",
      "Mean MSE: 188.14194928260656\n"
     ]
    }
   ],
   "source": [
    "# Decision Tree Regressor\n",
    "# Initialize a decision tree regressor instance\n",
    "tree_kfolds = KFold(n_splits=10, shuffle=True)\n",
    "for train_idx, test_idx in tree_kfolds.split(X):\n",
    "    tree_regressor = DecisionTreeRegressor()\n",
    "    tree_regressor.fit(X.iloc[train_idx], Y.iloc[train_idx])\n",
    "    y_tree_reg = tree_regressor.predict(X.iloc[test_idx])\n",
    "    current_tree_mae = mean_absolute_error(Y.iloc[test_idx], y_tree_reg)\n",
    "    current_tree_mse = mean_squared_error(Y.iloc[test_idx], y_tree_reg)\n",
    "    current_tree_rmse = np.sqrt(current_tree_mse)\n",
    "    current_tree_mape = mean_absolute_percentage_error(Y.iloc[test_idx], y_tree_reg)\n",
    "    current_tree_r2 = r2_score(Y.iloc[test_idx], y_tree_reg)\n",
    "    reg_metrics_new.loc[len(reg_metrics_new)] = ['TREE', current_tree_mae, current_tree_rmse, current_tree_mape, current_tree_r2]\n",
    "\n",
    "# Dovrebbe essere lo stesso di fare:\n",
    "# rf = RandomForestRegressor()\n",
    "#\n",
    "# Perform cross-validation to get MSE scores\n",
    "# mse_scores = -cross_val_score(rd, X, Y,\n",
    "#                              scoring='neg_mean_squared_error', cv=10)\n",
    "# mae scores = -cross_val_score(rf, X, Y, scoring='neg_mean_absolute_error', cv=10)\n",
    "# mape_scores = -cross_val_score(rf, X, Y, scoring='neg_mean_absolute_percentage_error', cv=10)\n",
    "# reg_metrics_new.loc[len(reg_metrics_new)] = ['DUMMY', mae_scores, mse_scores, mape_scores]\n",
    "\n",
    "# Print MSE scores and mean MSE\n",
    "print(f\"MSE Scores: {reg_metrics_new.loc[reg_metrics_new['Model']=='TREE','RMSE']}\")\n",
    "print(f\"Mean MSE: {np.mean(reg_metrics_new.loc[reg_metrics_new['Model']=='TREE','RMSE'])}\")"
   ]
  },
  {
   "cell_type": "code",
   "execution_count": null,
   "metadata": {},
   "outputs": [
    {
     "name": "stdout",
     "output_type": "stream",
     "text": [
      "MSE Scores: 20    123.469462\n",
      "21    324.127399\n",
      "22     81.964873\n",
      "23    203.186571\n",
      "24     97.640443\n",
      "25    243.037300\n",
      "26    144.345593\n",
      "27     67.231821\n",
      "28    251.908058\n",
      "29     50.609079\n",
      "Name: RMSE, dtype: float64\n",
      "Mean MSE: 158.752059992162\n"
     ]
    }
   ],
   "source": [
    "# Random Forest Regressor\n",
    "# Initialize a random forest regressor instance\n",
    "rf_kfolds = KFold(n_splits=10, shuffle=True)\n",
    "for train_idx, test_idx in rf_kfolds.split(X):\n",
    "    rf_regressor = RandomForestRegressor()\n",
    "    rf_regressor.fit(X.iloc[train_idx], Y.iloc[train_idx])\n",
    "    y_rf_reg = rf_regressor.predict(X.iloc[test_idx])\n",
    "    current_rf_mae = mean_absolute_error(Y.iloc[test_idx], y_rf_reg)\n",
    "    current_rf_mse = mean_squared_error(Y.iloc[test_idx], y_rf_reg)\n",
    "    current_rf_rmse = np.sqrt(current_rf_mse)\n",
    "    current_rf_mape = mean_absolute_percentage_error(Y.iloc[test_idx], y_rf_reg)\n",
    "    current_rf_r2 = r2_score(Y.iloc[test_idx], y_rf_reg)\n",
    "    reg_metrics_new.loc[len(reg_metrics_new)] = ['RF', current_rf_mae, current_rf_rmse, current_rf_mape, current_rf_r2]\n",
    "     \n",
    "# Dovrebbe essere lo stesso di fare:\n",
    "# dummy_regressor = DummyRegressor()\n",
    "\n",
    "# Perform cross-validation to get MSE scores\n",
    "# mse_scores = -cross_val_score(lin_regressor, X, Y,\n",
    "#                              scoring='neg_mean_squared_error', cv=10)\n",
    "# mae scores = -cross_val_score(lin_regressor, X, Y, scoring='neg_mean_absolute_error', cv=10)\n",
    "# mape_scores = -cross_val_score(lin_regressor, X, Y, scoring='neg_mean_absolute_percentage_error', cv=10)\n",
    "# reg_metrics_new.loc[len(reg_metrics_new)] = ['DUMMY', mae_scores, mse_scores, mape_scores]\n",
    "\n",
    "# Print MSE scores and mean MSE\n",
    "print(f\"MSE Scores: {reg_metrics_new.loc[reg_metrics_new['Model']=='RF','RMSE']}\")\n",
    "print(f\"Mean MSE: {np.mean(reg_metrics_new.loc[reg_metrics_new['Model']=='RF','RMSE'])}\")"
   ]
  },
  {
   "cell_type": "code",
   "execution_count": null,
   "metadata": {},
   "outputs": [
    {
     "name": "stdout",
     "output_type": "stream",
     "text": [
      "MSE Scores: 30     29.747521\n",
      "31     32.405482\n",
      "32    143.798868\n",
      "33     32.170097\n",
      "34    405.048503\n",
      "35     77.895975\n",
      "36     29.987078\n",
      "37    208.756645\n",
      "38    101.219163\n",
      "39    242.005461\n",
      "Name: RMSE, dtype: float64\n",
      "Mean MSE: 130.30347931393152\n"
     ]
    }
   ],
   "source": [
    "sv_kfolds = KFold(n_splits=10, shuffle=True)\n",
    "for train_idx, test_idx in sv_kfolds.split(X):\n",
    "    sv_regressor = SVR()\n",
    "    sv_regressor.fit(X.iloc[train_idx], Y.iloc[train_idx])\n",
    "    y_sv_reg = sv_regressor.predict(X.iloc[test_idx])\n",
    "    current_sv_mae = mean_absolute_error(Y.iloc[test_idx], y_sv_reg)\n",
    "    current_sv_mse = mean_squared_error(Y.iloc[test_idx], y_sv_reg)\n",
    "    current_sv_rmse = np.sqrt(current_sv_mse)\n",
    "    current_sv_mape = mean_absolute_percentage_error(Y.iloc[test_idx], y_sv_reg)\n",
    "    current_sv_r2 = r2_score(Y.iloc[test_idx], y_sv_reg)\n",
    "    reg_metrics_new.loc[len(reg_metrics_new)] = ['SVM', current_sv_mae, current_sv_rmse, current_sv_mape, current_sv_r2]\n",
    "\n",
    "# Dovrebbe essere lo stesso di fare:\n",
    "# sv_regressor = SVR()\n",
    "#\n",
    "# Perform cross-validation to get MSE scores\n",
    "# mse_scores = -cross_val_score(sv_regressor, X, Y,\n",
    "#                              scoring='neg_mean_squared_error', cv=10)\n",
    "# mae scores = -cross_val_score(sv_regressor, X, Y, scoring='neg_mean_absolute_error', cv=10)\n",
    "# mape_scores = -cross_val_score(sv_regressor, X, Y, scoring='neg_mean_absolute_percentage_error', cv=10)\n",
    "# reg_metrics_new.loc[len(reg_metrics_new)] = ['DUMMY', mae_scores, mse_scores, mape_scores]\n",
    "\n",
    "# Print MSE scores and mean MSE\n",
    "print(f\"MSE Scores: {reg_metrics_new.loc[reg_metrics_new['Model']=='SVM','RMSE']}\")\n",
    "print(f\"Mean MSE: {np.mean(reg_metrics_new.loc[reg_metrics_new['Model']=='SVM','RMSE'])}\")"
   ]
  },
  {
   "cell_type": "code",
   "execution_count": null,
   "metadata": {},
   "outputs": [
    {
     "name": "stdout",
     "output_type": "stream",
     "text": [
      "MSE Scores: 40    154.610150\n",
      "41    325.459020\n",
      "42    269.953965\n",
      "43    147.017522\n",
      "44    126.666131\n",
      "45    117.153374\n",
      "46    223.460851\n",
      "47     94.043534\n",
      "48    220.988275\n",
      "49     96.640210\n",
      "Name: RMSE, dtype: float64\n",
      "Mean MSE: 177.59930310196404\n"
     ]
    }
   ],
   "source": [
    "knn_kfolds = KFold(n_splits=10, shuffle=True)\n",
    "for train_idx, test_idx in knn_kfolds.split(X):\n",
    "    knn_regressor = KNeighborsRegressor()\n",
    "    knn_regressor.fit(X.iloc[train_idx], Y.iloc[train_idx])\n",
    "    y_knn_reg = knn_regressor.predict(X.iloc[test_idx])\n",
    "    current_knn_mae = mean_absolute_error(Y.iloc[test_idx], y_knn_reg)\n",
    "    current_knn_mse = mean_squared_error(Y.iloc[test_idx], y_knn_reg)\n",
    "    current_knn_rmse = np.sqrt(current_knn_mse)\n",
    "    current_knn_mape = mean_absolute_percentage_error(Y.iloc[test_idx], y_knn_reg)\n",
    "    current_knn_r2 = r2_score(Y.iloc[test_idx], y_knn_reg)\n",
    "    reg_metrics_new.loc[len(reg_metrics_new)] = ['KNN', current_knn_mae, current_knn_rmse, current_knn_mape, current_knn_r2]\n",
    "\n",
    "# Dovrebbe essere lo stesso di fare:\n",
    "# knn_regressor = KNeighborsRegressor()\n",
    "#\n",
    "# Perform cross-validation to get MSE scores\n",
    "# mse_scores = -cross_val_score(knn_regressor, X, Y,\n",
    "#                              scoring='neg_mean_squared_error', cv=10)\n",
    "# mae scores = -cross_val_score(knn_regressor, X, Y, scoring='neg_mean_absolute_error', cv=10)\n",
    "# mape_scores = -cross_val_score(knn_regressor, X, Y, scoring='neg_mean_absolute_percentage_error', cv=10)\n",
    "# reg_metrics_new.loc[len(reg_metrics_new)] = ['DUMMY', mae_scores, mse_scores, mape_scores]\n",
    "\n",
    "# Print MSE scores and mean MSE\n",
    "print(f\"MSE Scores: {reg_metrics_new.loc[reg_metrics_new['Model']=='KNN','RMSE']}\")\n",
    "print(f\"Mean MSE: {np.mean(reg_metrics_new.loc[reg_metrics_new['Model']=='KNN','RMSE'])}\")"
   ]
  },
  {
   "cell_type": "code",
   "execution_count": null,
   "metadata": {},
   "outputs": [
    {
     "data": {
      "image/png": "[encoded data removed]",
      "text/plain": [
       "<Figure size 1200x1000 with 4 Axes>"
      ]
     },
     "metadata": {},
     "output_type": "display_data"
    }
   ],
   "source": [
    "fig, axs = plt.subplots(2, 2, figsize=(12, 10))\n",
    "sns.boxplot(data=reg_metrics_new, x=\"MAE\", y=\"Model\", ax=axs[0, 0], palette=sns.color_palette('Paired')[1::2])\n",
    "sns.boxplot(data=reg_metrics_new, x=\"RMSE\", y=\"Model\", ax=axs[0, 1], palette=sns.color_palette('Paired')[1::2])\n",
    "sns.boxplot(data=reg_metrics_new, x=\"MAPE\", y=\"Model\", ax=axs[1, 0], palette=sns.color_palette('Paired')[1::2])\n",
    "sns.boxplot(data=reg_metrics_new, x=\"R2\", y=\"Model\", ax=axs[1, 1], palette=sns.color_palette('Paired')[1::2])\n",
    "\n",
    "\n",
    "plt.tight_layout()\n",
    "plt.show()"
   ]
  },
  {
   "cell_type": "markdown",
   "metadata": {},
   "source": [
    "## Add vectorized text"
   ]
  },
  {
   "cell_type": "code",
   "execution_count": 5,
   "metadata": {},
   "outputs": [
    {
     "name": "stdout",
     "output_type": "stream",
     "text": [
      "<class 'pandas.core.frame.DataFrame'>\n",
      "RangeIndex: 4078 entries, 0 to 4077\n",
      "Columns: 6007 entries, quotes to 𝗪𝗲𝗯𝘀𝗶𝘁𝗲\n",
      "dtypes: bool(9), float64(5993), int64(5)\n",
      "memory usage: 186.6 MB\n"
     ]
    }
   ],
   "source": [
    "X = merged_df\n",
    "X.drop(columns=['processed text'], inplace=True)\n",
    "X.info()"
   ]
  },
  {
   "cell_type": "code",
   "execution_count": 6,
   "metadata": {},
   "outputs": [],
   "source": [
    "reg_metrics_text = pd.DataFrame(columns=['Model', 'MAE', 'RMSE', 'MAPE', 'R2'])"
   ]
  },
  {
   "cell_type": "code",
   "execution_count": 7,
   "metadata": {},
   "outputs": [
    {
     "data": {
      "image/png": "[encoded data removed]",
      "text/plain": [
       "<Figure size 640x480 with 1 Axes>"
      ]
     },
     "metadata": {},
     "output_type": "display_data"
    },
    {
     "name": "stdout",
     "output_type": "stream",
     "text": [
      "MSE Scores: 0    204.525090\n",
      "1     97.527880\n",
      "2    135.720441\n",
      "3    236.334592\n",
      "4     26.202099\n",
      "5     40.654224\n",
      "6     92.095866\n",
      "7     19.751738\n",
      "8    248.802697\n",
      "9    326.567905\n",
      "Name: RMSE, dtype: float64\n",
      "Mean MSE: 142.8182532509367\n"
     ]
    }
   ],
   "source": [
    "dummy_kfolds = KFold(n_splits=10, shuffle=True)\n",
    "for train_idx, test_idx in dummy_kfolds.split(X):\n",
    "    dummy_regressor = DummyRegressor()\n",
    "    dummy_regressor.fit(X.iloc[train_idx], Y.iloc[train_idx])\n",
    "    y_dummy_reg = dummy_regressor.predict(X.iloc[test_idx])\n",
    "    current_dummy_mae = mean_absolute_error(Y.iloc[test_idx], y_dummy_reg)\n",
    "    current_dummy_mse = mean_squared_error(Y.iloc[test_idx], y_dummy_reg)\n",
    "    current_dummy_rmse = np.sqrt(current_dummy_mse)\n",
    "    current_dummy_mape = mean_absolute_percentage_error(Y.iloc[test_idx], y_dummy_reg)\n",
    "    current_dummy_r2 = r2_score(Y.iloc[test_idx], y_dummy_reg)\n",
    "    reg_metrics_text.loc[len(reg_metrics_text)] = ['DUMMY', current_dummy_mae, current_dummy_rmse, current_dummy_mape, current_dummy_r2]\n",
    "\n",
    "# Dovrebbe essere lo stesso di fare:\n",
    "# lin_regressor = LinearRegression()\n",
    "# Y_reshaped = Y.values.reshape(-1, 1)\n",
    "\n",
    "# Perform cross-validation to get MSE scores\n",
    "# mse_scores = -cross_val_score(lin_regressor, np.ones_like(Y_reshaped), Y_reshaped,\n",
    "#                              scoring='neg_mean_squared_error', cv=10)\n",
    "# mae scores = -cross_val_score(lin_regressor, np.ones_like(Y_reshaped), Y_reshaped, scoring='neg_mean_absolute_error', cv=10)\n",
    "# mape_scores = -cross_val_score(lin_regressor, np.ones_like(Y_reshaped), Y_reshaped, scoring='neg_mean_absolute_percentage_error', cv=10)\n",
    "# reg_metrics_text.loc[len(reg_metrics_text)] = ['DUMMY', mae_scores, mse_scores, mape_scores]\n",
    "\n",
    "\n",
    "#Scatterplot of Y\n",
    "mean_y = np.mean(Y)\n",
    "plt.scatter(np.arange(len(Y)), Y, label='Y')\n",
    "plt.axhline(y=mean_y, color='r', linestyle='--', label='mean')    # Plot the mean\n",
    "plt.title('Scatterplot of Y')\n",
    "plt.xlabel('Sample index')\n",
    "plt.ylabel('Y')\n",
    "plt.legend()\n",
    "plt.show()\n",
    "\n",
    "# Print MSE scores and mean MSE\n",
    "print(f\"MSE Scores: {reg_metrics_text.loc[reg_metrics_text['Model']=='DUMMY','RMSE']}\")\n",
    "print(f\"Mean MSE: {np.mean(reg_metrics_text.loc[reg_metrics_text['Model']=='DUMMY','RMSE'])}\")"
   ]
  },
  {
   "cell_type": "code",
   "execution_count": 8,
   "metadata": {},
   "outputs": [
    {
     "name": "stdout",
     "output_type": "stream",
     "text": [
      "MSE Scores: 10    234.394707\n",
      "11    347.207325\n",
      "12    321.375734\n",
      "13    251.383080\n",
      "14    334.831495\n",
      "15     83.918664\n",
      "16    460.936953\n",
      "17     37.061763\n",
      "18    337.623961\n",
      "19    431.225914\n",
      "Name: RMSE, dtype: float64\n",
      "Mean MSE: 283.9959595225462\n"
     ]
    }
   ],
   "source": [
    "# Decision Tree Regressor\n",
    "# Initialize a decision tree regressor instance\n",
    "tree_kfolds = KFold(n_splits=10, shuffle=True)\n",
    "for train_idx, test_idx in tree_kfolds.split(X):\n",
    "    tree_regressor = DecisionTreeRegressor()\n",
    "    tree_regressor.fit(X.iloc[train_idx], Y.iloc[train_idx])\n",
    "    y_tree_reg = tree_regressor.predict(X.iloc[test_idx])\n",
    "    current_tree_mae = mean_absolute_error(Y.iloc[test_idx], y_tree_reg)\n",
    "    current_tree_mse = mean_squared_error(Y.iloc[test_idx], y_tree_reg)\n",
    "    current_tree_rmse = np.sqrt(current_tree_mse)\n",
    "    current_tree_mape = mean_absolute_percentage_error(Y.iloc[test_idx], y_tree_reg)\n",
    "    current_tree_r2 = r2_score(Y.iloc[test_idx], y_tree_reg)\n",
    "    reg_metrics_text.loc[len(reg_metrics_text)] = ['TREE', current_tree_mae, current_tree_rmse, current_tree_mape, current_tree_r2]\n",
    "\n",
    "# Dovrebbe essere lo stesso di fare:\n",
    "# rf = RandomForestRegressor()\n",
    "#\n",
    "# Perform cross-validation to get MSE scores\n",
    "# mse_scores = -cross_val_score(rd, X, Y,\n",
    "#                              scoring='neg_mean_squared_error', cv=10)\n",
    "# mae scores = -cross_val_score(rf, X, Y, scoring='neg_mean_absolute_error', cv=10)\n",
    "# mape_scores = -cross_val_score(rf, X, Y, scoring='neg_mean_absolute_percentage_error', cv=10)\n",
    "# reg_metrics_text.loc[len(reg_metrics_text)] = ['DUMMY', mae_scores, mse_scores, mape_scores]\n",
    "\n",
    "# Print MSE scores and mean MSE\n",
    "print(f\"MSE Scores: {reg_metrics_text.loc[reg_metrics_text['Model']=='TREE','RMSE']}\")\n",
    "print(f\"Mean MSE: {np.mean(reg_metrics_text.loc[reg_metrics_text['Model']=='TREE','RMSE'])}\")"
   ]
  },
  {
   "cell_type": "code",
   "execution_count": 9,
   "metadata": {},
   "outputs": [
    {
     "name": "stdout",
     "output_type": "stream",
     "text": [
      "MSE Scores: 20    101.778962\n",
      "21    439.489873\n",
      "22     56.812994\n",
      "23     34.052336\n",
      "24    203.521102\n",
      "25     50.658023\n",
      "26    110.275925\n",
      "27    161.023583\n",
      "28     62.266913\n",
      "29     45.767853\n",
      "Name: RMSE, dtype: float64\n",
      "Mean MSE: 126.5647564663137\n"
     ]
    }
   ],
   "source": [
    "# Random Forest Regressor\n",
    "# Initialize a random forest regressor instance\n",
    "rf_kfolds = KFold(n_splits=10, shuffle=True)\n",
    "for train_idx, test_idx in rf_kfolds.split(X):\n",
    "    rf_regressor = RandomForestRegressor(n_estimators=100, min_samples_leaf=100, random_state=42)\n",
    "    rf_regressor.fit(X.iloc[train_idx], Y.iloc[train_idx])\n",
    "    y_rf_reg = rf_regressor.predict(X.iloc[test_idx])\n",
    "    current_rf_mae = mean_absolute_error(Y.iloc[test_idx], y_rf_reg)\n",
    "    current_rf_mse = mean_squared_error(Y.iloc[test_idx], y_rf_reg)\n",
    "    current_rf_rmse = np.sqrt(current_rf_mse)\n",
    "    current_rf_mape = mean_absolute_percentage_error(Y.iloc[test_idx], y_rf_reg)\n",
    "    current_rf_r2 = r2_score(Y.iloc[test_idx], y_rf_reg)\n",
    "    reg_metrics_text.loc[len(reg_metrics_text)] = ['RF', current_rf_mae, current_rf_rmse, current_rf_mape, current_rf_r2]\n",
    "     \n",
    "# Dovrebbe essere lo stesso di fare:\n",
    "# dummy_regressor = DummyRegressor()\n",
    "\n",
    "# Perform cross-validation to get MSE scores\n",
    "# mse_scores = -cross_val_score(lin_regressor, X, Y,\n",
    "#                              scoring='neg_mean_squared_error', cv=10)\n",
    "# mae scores = -cross_val_score(lin_regressor, X, Y, scoring='neg_mean_absolute_error', cv=10)\n",
    "# mape_scores = -cross_val_score(lin_regressor, X, Y, scoring='neg_mean_absolute_percentage_error', cv=10)\n",
    "# reg_metrics_text.loc[len(reg_metrics_text)] = ['DUMMY', mae_scores, mse_scores, mape_scores]\n",
    "\n",
    "# Print MSE scores and mean MSE\n",
    "print(f\"MSE Scores: {reg_metrics_text.loc[reg_metrics_text['Model']=='RF','RMSE']}\")\n",
    "print(f\"Mean MSE: {np.mean(reg_metrics_text.loc[reg_metrics_text['Model']=='RF','RMSE'])}\")"
   ]
  },
  {
   "cell_type": "markdown",
   "metadata": {},
   "source": [
    "### TODO: STANDARDIZE THE COVARIATES FOR SVM!!!"
   ]
  },
  {
   "cell_type": "code",
   "execution_count": 10,
   "metadata": {},
   "outputs": [],
   "source": [
    "sv_kfolds = KFold(n_splits=10, shuffle=True)\n",
    "for train_idx, test_idx in sv_kfolds.split(X):\n",
    "    sv_regressor = SVR()\n",
    "    sv_regressor.fit(X.iloc[train_idx], Y.iloc[train_idx])\n",
    "    y_sv_reg = sv_regressor.predict(X.iloc[test_idx])\n",
    "    current_sv_mae = mean_absolute_error(Y.iloc[test_idx], y_sv_reg)\n",
    "    current_sv_mse = mean_squared_error(Y.iloc[test_idx], y_sv_reg)\n",
    "    current_sv_rmse = np.sqrt(current_sv_mse)\n",
    "    current_sv_mape = mean_absolute_percentage_error(Y.iloc[test_idx], y_sv_reg)\n",
    "    current_sv_r2 = r2_score(Y.iloc[test_idx], y_sv_reg)\n",
    "    reg_metrics_text.loc[len(reg_metrics_text)] = ['SVM', current_sv_mae, current_sv_rmse, current_sv_mape, current_sv_r2]\n",
    "\n",
    "# Dovrebbe essere lo stesso di fare:\n",
    "# sv_regressor = SVR()\n",
    "#\n",
    "# Perform cross-validation to get MSE scores\n",
    "# mse_scores = -cross_val_score(sv_regressor, X, Y,\n",
    "#                              scoring='neg_mean_squared_error', cv=10)\n",
    "# mae scores = -cross_val_score(sv_regressor, X, Y, scoring='neg_mean_absolute_error', cv=10)\n",
    "# mape_scores = -cross_val_score(sv_regressor, X, Y, scoring='neg_mean_absolute_percentage_error', cv=10)\n",
    "# reg_metrics_text.loc[len(reg_metrics_text)] = ['DUMMY', mae_scores, mse_scores, mape_scores]\n",
    "\n",
    "# Print MSE scores and mean MSE\n",
    "print(f\"MSE Scores: {reg_metrics_text.loc[reg_metrics_text['Model']=='SVM','RMSE']}\")\n",
    "print(f\"Mean MSE: {np.mean(reg_metrics_text.loc[reg_metrics_text['Model']=='SVM','RMSE'])}\")"
   ]
  },
  {
   "cell_type": "code",
   "execution_count": null,
   "metadata": {},
   "outputs": [
    {
     "name": "stdout",
     "output_type": "stream",
     "text": [
      "MSE Scores: 40    145.205997\n",
      "41    383.579239\n",
      "42    117.689733\n",
      "43    119.081052\n",
      "44     83.673591\n",
      "45    109.218350\n",
      "46    125.292325\n",
      "47    254.457980\n",
      "48    253.754623\n",
      "49    160.937306\n",
      "Name: RMSE, dtype: float64\n",
      "Mean MSE: 175.2890195505159\n"
     ]
    }
   ],
   "source": [
    "knn_kfolds = KFold(n_splits=10, shuffle=True)\n",
    "for train_idx, test_idx in knn_kfolds.split(X):\n",
    "    knn_regressor = KNeighborsRegressor()\n",
    "    knn_regressor.fit(X.iloc[train_idx], Y.iloc[train_idx])\n",
    "    y_knn_reg = knn_regressor.predict(X.iloc[test_idx])\n",
    "    current_knn_mae = mean_absolute_error(Y.iloc[test_idx], y_knn_reg)\n",
    "    current_knn_mse = mean_squared_error(Y.iloc[test_idx], y_knn_reg)\n",
    "    current_knn_rmse = np.sqrt(current_knn_mse)\n",
    "    current_knn_mape = mean_absolute_percentage_error(Y.iloc[test_idx], y_knn_reg)\n",
    "    current_knn_r2 = r2_score(Y.iloc[test_idx], y_knn_reg)\n",
    "    reg_metrics_text.loc[len(reg_metrics_text)] = ['KNN', current_knn_mae, current_knn_rmse, current_knn_mape, current_knn_r2]\n",
    "\n",
    "# Dovrebbe essere lo stesso di fare:\n",
    "# knn_regressor = KNeighborsRegressor()\n",
    "#\n",
    "# Perform cross-validation to get MSE scores\n",
    "# mse_scores = -cross_val_score(knn_regressor, X, Y,\n",
    "#                              scoring='neg_mean_squared_error', cv=10)\n",
    "# mae scores = -cross_val_score(knn_regressor, X, Y, scoring='neg_mean_absolute_error', cv=10)\n",
    "# mape_scores = -cross_val_score(knn_regressor, X, Y, scoring='neg_mean_absolute_percentage_error', cv=10)\n",
    "# reg_metrics_new.loc[len(reg_metrics_new)] = ['DUMMY', mae_scores, mse_scores, mape_scores]\n",
    "\n",
    "# Print MSE scores and mean MSE\n",
    "print(f\"MSE Scores: {reg_metrics_text.loc[reg_metrics_text['Model']=='KNN','RMSE']}\")\n",
    "print(f\"Mean MSE: {np.mean(reg_metrics_text.loc[reg_metrics_text['Model']=='KNN','RMSE'])}\")"
   ]
  },
  {
   "cell_type": "code",
   "execution_count": null,
   "metadata": {},
   "outputs": [
    {
     "data": {
      "image/png": "[encoded data removed]",
      "text/plain": [
       "<Figure size 1200x1000 with 4 Axes>"
      ]
     },
     "metadata": {},
     "output_type": "display_data"
    }
   ],
   "source": [
    "fig, axs = plt.subplots(2, 2, figsize=(12, 10))\n",
    "sns.boxplot(data=reg_metrics_text, x=\"MAE\", y=\"Model\", ax=axs[0, 0], palette=sns.color_palette('Paired')[1::2])\n",
    "sns.boxplot(data=reg_metrics_text, x=\"RMSE\", y=\"Model\", ax=axs[0, 1], palette=sns.color_palette('Paired')[1::2])\n",
    "sns.boxplot(data=reg_metrics_text, x=\"MAPE\", y=\"Model\", ax=axs[1, 0], palette=sns.color_palette('Paired')[1::2])\n",
    "sns.boxplot(data=reg_metrics_text, x=\"R2\", y=\"Model\", ax=axs[1, 1], palette=sns.color_palette('Paired')[1::2])\n",
    "\n",
    "\n",
    "plt.tight_layout()\n",
    "plt.show()"
   ]
  },
  {
   "cell_type": "markdown",
   "metadata": {},
   "source": [
    "### Compare the three models"
   ]
  },
  {
   "cell_type": "code",
   "execution_count": null,
   "metadata": {},
   "outputs": [],
   "source": [
    "# Compare the results of the models with or without text features\n",
    "reg_metrics['Model'] = reg_metrics['Model'] + '_NO_TEXT'\n",
    "reg_metrics_new['Model'] = reg_metrics_new['Model'] + '_NO_PICTURES_VIDEOS_GIFS'\n",
    "reg_metrics_text['Model'] = reg_metrics_text['Model'] + '_ONLY_TEXT'\n",
    "reg_metrics = pd.concat([reg_metrics, reg_metrics_new, reg_metrics_text])\n",
    "reg_metrics.reset_index(inplace=True, drop=True)\n",
    "\n",
    "fig, axs = plt.subplots(2, 2, figsize=(12, 10))\n",
    "sns.boxplot(data=reg_metrics, x=\"MAE\", y=\"Model\", ax=axs[0, 0], palette=sns.color_palette('Paired')[1::2])\n",
    "sns.boxplot(data=reg_metrics, x=\"RMSE\", y=\"Model\", ax=axs[0, 1], palette=sns.color_palette('Paired')[1::2])\n",
    "sns.boxplot(data=reg_metrics, x=\"MAPE\", y=\"Model\", ax=axs[1, 0], palette=sns.color_palette('Paired')[1::2])\n",
    "sns.boxplot(data=reg_metrics, x=\"R2\", y=\"Model\", ax=axs[1, 1], palette=sns.color_palette('Paired')[1::2])\n",
    "\n",
    "plt.tight_layout()\n",
    "plt.show()"
   ]
  }
 ],
 "metadata": {
  "kernelspec": {
   "display_name": "base",
   "language": "python",
   "name": "python3"
  },
  "language_info": {
   "codemirror_mode": {
    "name": "ipython",
    "version": 3
   },
   "file_extension": ".py",
   "mimetype": "text/x-python",
   "name": "python",
   "nbconvert_exporter": "python",
   "pygments_lexer": "ipython3",
   "version": "3.9.18"
  }
 },
 "nbformat": 4,
 "nbformat_minor": 2
}
