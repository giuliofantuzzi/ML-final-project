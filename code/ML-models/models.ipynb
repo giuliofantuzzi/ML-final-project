{
 "cells": [
  {
   "cell_type": "markdown",
   "metadata": {},
   "source": [
    "# ML models assessment"
   ]
  },
  {
   "cell_type": "markdown",
   "metadata": {},
   "source": [
    "### Import libraries"
   ]
  },
  {
   "cell_type": "code",
   "execution_count": 28,
   "metadata": {},
   "outputs": [],
   "source": [
    "import pandas as pd\n",
    "import numpy as np\n",
    "import seaborn as sns\n",
    "import matplotlib.pyplot as plt\n",
    "from sklearn.feature_extraction.text import TfidfVectorizer\n",
    "from sklearn.model_selection import KFold\n",
    "from sklearn.ensemble import RandomForestRegressor\n",
    "from sklearn.tree import DecisionTreeRegressor\n",
    "from sklearn.svm import SVR\n",
    "from sklearn.dummy import DummyRegressor\n",
    "from sklearn.neighbors import KNeighborsRegressor\n",
    "from sklearn.metrics import mean_squared_error, mean_absolute_error, mean_absolute_percentage_error, r2_score"
   ]
  },
  {
   "cell_type": "markdown",
   "metadata": {},
   "source": [
    "### Import dataset"
   ]
  },
  {
   "cell_type": "code",
   "execution_count": 29,
   "metadata": {},
   "outputs": [
    {
     "name": "stdout",
     "output_type": "stream",
     "text": [
      "<class 'pandas.core.frame.DataFrame'>\n",
      "RangeIndex: 4078 entries, 0 to 4077\n",
      "Data columns (total 17 columns):\n",
      " #   Column               Non-Null Count  Dtype  \n",
      "---  ------               --------------  -----  \n",
      " 0   text                 4078 non-null   object \n",
      " 1   quotes               4078 non-null   int64  \n",
      " 2   is.retweet           4078 non-null   bool   \n",
      " 3   external.link        4078 non-null   bool   \n",
      " 4   pictures             4078 non-null   bool   \n",
      " 5   videos               4078 non-null   bool   \n",
      " 6   gifs                 4078 non-null   bool   \n",
      " 7   multimedial_content  4078 non-null   bool   \n",
      " 8   user.image           4078 non-null   bool   \n",
      " 9   user.bio             4078 non-null   bool   \n",
      " 10  user.website         4078 non-null   bool   \n",
      " 11  user.tweets          4078 non-null   int64  \n",
      " 12  user.following       4078 non-null   int64  \n",
      " 13  user.media           4078 non-null   int64  \n",
      " 14  engagement.rate      4078 non-null   float64\n",
      " 15  n_hashtags           4078 non-null   int64  \n",
      " 16  processed text       4078 non-null   object \n",
      "dtypes: bool(9), float64(1), int64(5), object(2)\n",
      "memory usage: 290.8+ KB\n",
      "Number of NaN values: 0\n",
      "Number of rows: 4078\n",
      "Number of rows after dropping NaN values: 4078\n"
     ]
    },
    {
     "data": {
      "text/html": [
       "<div>\n",
       "<style scoped>\n",
       "    .dataframe tbody tr th:only-of-type {\n",
       "        vertical-align: middle;\n",
       "    }\n",
       "\n",
       "    .dataframe tbody tr th {\n",
       "        vertical-align: top;\n",
       "    }\n",
       "\n",
       "    .dataframe thead th {\n",
       "        text-align: right;\n",
       "    }\n",
       "</style>\n",
       "<table border=\"1\" class=\"dataframe\">\n",
       "  <thead>\n",
       "    <tr style=\"text-align: right;\">\n",
       "      <th></th>\n",
       "      <th>text</th>\n",
       "      <th>quotes</th>\n",
       "      <th>is.retweet</th>\n",
       "      <th>external.link</th>\n",
       "      <th>pictures</th>\n",
       "      <th>videos</th>\n",
       "      <th>gifs</th>\n",
       "      <th>multimedial_content</th>\n",
       "      <th>user.image</th>\n",
       "      <th>user.bio</th>\n",
       "      <th>user.website</th>\n",
       "      <th>user.tweets</th>\n",
       "      <th>user.following</th>\n",
       "      <th>user.media</th>\n",
       "      <th>engagement.rate</th>\n",
       "      <th>n_hashtags</th>\n",
       "      <th>processed text</th>\n",
       "    </tr>\n",
       "  </thead>\n",
       "  <tbody>\n",
       "    <tr>\n",
       "      <th>0</th>\n",
       "      <td>Fried Chicken with Hot 🔥 Sauce Corn Muffin and...</td>\n",
       "      <td>1</td>\n",
       "      <td>True</td>\n",
       "      <td>False</td>\n",
       "      <td>True</td>\n",
       "      <td>False</td>\n",
       "      <td>False</td>\n",
       "      <td>True</td>\n",
       "      <td>True</td>\n",
       "      <td>True</td>\n",
       "      <td>True</td>\n",
       "      <td>16213</td>\n",
       "      <td>549</td>\n",
       "      <td>15698</td>\n",
       "      <td>0.571817</td>\n",
       "      <td>8</td>\n",
       "      <td>fri chicken hot fire sauc corn muffin season f...</td>\n",
       "    </tr>\n",
       "    <tr>\n",
       "      <th>1</th>\n",
       "      <td>#Morel #mushrooms at center of #food #poisonin...</td>\n",
       "      <td>0</td>\n",
       "      <td>False</td>\n",
       "      <td>False</td>\n",
       "      <td>False</td>\n",
       "      <td>False</td>\n",
       "      <td>False</td>\n",
       "      <td>False</td>\n",
       "      <td>True</td>\n",
       "      <td>True</td>\n",
       "      <td>True</td>\n",
       "      <td>50098</td>\n",
       "      <td>513</td>\n",
       "      <td>1962</td>\n",
       "      <td>0.000000</td>\n",
       "      <td>10</td>\n",
       "      <td>morel mushroom center food poison outbreak fun...</td>\n",
       "    </tr>\n",
       "    <tr>\n",
       "      <th>2</th>\n",
       "      <td>My Blog::  Obama Legacy Facing REVISIT ... Ian...</td>\n",
       "      <td>0</td>\n",
       "      <td>False</td>\n",
       "      <td>False</td>\n",
       "      <td>False</td>\n",
       "      <td>False</td>\n",
       "      <td>False</td>\n",
       "      <td>False</td>\n",
       "      <td>True</td>\n",
       "      <td>True</td>\n",
       "      <td>True</td>\n",
       "      <td>5174</td>\n",
       "      <td>9022</td>\n",
       "      <td>0</td>\n",
       "      <td>0.008527</td>\n",
       "      <td>11</td>\n",
       "      <td>blog obama legaci face revisit ianrmackintoshb...</td>\n",
       "    </tr>\n",
       "    <tr>\n",
       "      <th>3</th>\n",
       "      <td>Craving sushi but tired of expensive takeout? ...</td>\n",
       "      <td>0</td>\n",
       "      <td>False</td>\n",
       "      <td>False</td>\n",
       "      <td>False</td>\n",
       "      <td>False</td>\n",
       "      <td>False</td>\n",
       "      <td>False</td>\n",
       "      <td>True</td>\n",
       "      <td>True</td>\n",
       "      <td>True</td>\n",
       "      <td>108071</td>\n",
       "      <td>678</td>\n",
       "      <td>49647</td>\n",
       "      <td>0.000000</td>\n",
       "      <td>6</td>\n",
       "      <td>crave sushi tire expens takeout look kellylov ...</td>\n",
       "    </tr>\n",
       "    <tr>\n",
       "      <th>4</th>\n",
       "      <td>Potato Pancakes should not be a rare side dish...</td>\n",
       "      <td>0</td>\n",
       "      <td>False</td>\n",
       "      <td>False</td>\n",
       "      <td>True</td>\n",
       "      <td>False</td>\n",
       "      <td>False</td>\n",
       "      <td>True</td>\n",
       "      <td>True</td>\n",
       "      <td>True</td>\n",
       "      <td>True</td>\n",
       "      <td>28081</td>\n",
       "      <td>2343</td>\n",
       "      <td>18032</td>\n",
       "      <td>0.000000</td>\n",
       "      <td>8</td>\n",
       "      <td>potato pancak rare side dish plan leftov time ...</td>\n",
       "    </tr>\n",
       "  </tbody>\n",
       "</table>\n",
       "</div>"
      ],
      "text/plain": [
       "                                                text  quotes  is.retweet  \\\n",
       "0  Fried Chicken with Hot 🔥 Sauce Corn Muffin and...       1        True   \n",
       "1  #Morel #mushrooms at center of #food #poisonin...       0       False   \n",
       "2  My Blog::  Obama Legacy Facing REVISIT ... Ian...       0       False   \n",
       "3  Craving sushi but tired of expensive takeout? ...       0       False   \n",
       "4  Potato Pancakes should not be a rare side dish...       0       False   \n",
       "\n",
       "   external.link  pictures  videos   gifs  multimedial_content  user.image  \\\n",
       "0          False      True   False  False                 True        True   \n",
       "1          False     False   False  False                False        True   \n",
       "2          False     False   False  False                False        True   \n",
       "3          False     False   False  False                False        True   \n",
       "4          False      True   False  False                 True        True   \n",
       "\n",
       "   user.bio  user.website  user.tweets  user.following  user.media  \\\n",
       "0      True          True        16213             549       15698   \n",
       "1      True          True        50098             513        1962   \n",
       "2      True          True         5174            9022           0   \n",
       "3      True          True       108071             678       49647   \n",
       "4      True          True        28081            2343       18032   \n",
       "\n",
       "   engagement.rate  n_hashtags  \\\n",
       "0         0.571817           8   \n",
       "1         0.000000          10   \n",
       "2         0.008527          11   \n",
       "3         0.000000           6   \n",
       "4         0.000000           8   \n",
       "\n",
       "                                      processed text  \n",
       "0  fri chicken hot fire sauc corn muffin season f...  \n",
       "1  morel mushroom center food poison outbreak fun...  \n",
       "2  blog obama legaci face revisit ianrmackintoshb...  \n",
       "3  crave sushi tire expens takeout look kellylov ...  \n",
       "4  potato pancak rare side dish plan leftov time ...  "
      ]
     },
     "execution_count": 29,
     "metadata": {},
     "output_type": "execute_result"
    }
   ],
   "source": [
    "data = pd.read_csv('../../datasets/data-stemmed.csv')\n",
    "data.info()\n",
    "nan_count = data['processed text'].isnull().sum()\n",
    "print(f'Number of NaN values: {nan_count}') # 2 NaN values (non so il perchè, nel file di stemming non uscivano)\n",
    "print(f'Number of rows: {len(data)}')\n",
    "data = data.dropna(subset=['processed text'])\n",
    "print(f'Number of rows after dropping NaN values: {len(data)}')\n",
    "data.head(5)"
   ]
  },
  {
   "cell_type": "markdown",
   "metadata": {},
   "source": [
    "### Perform vectrorization"
   ]
  },
  {
   "cell_type": "markdown",
   "metadata": {},
   "source": [
    "Perform here the division between covariates and target variable in order to easen the code later on"
   ]
  },
  {
   "cell_type": "code",
   "execution_count": 30,
   "metadata": {},
   "outputs": [
    {
     "name": "stdout",
     "output_type": "stream",
     "text": [
      "<class 'pandas.core.frame.DataFrame'>\n",
      "RangeIndex: 4078 entries, 0 to 4077\n",
      "Data columns (total 15 columns):\n",
      " #   Column               Non-Null Count  Dtype \n",
      "---  ------               --------------  ----- \n",
      " 0   quotes               4078 non-null   int64 \n",
      " 1   is.retweet           4078 non-null   bool  \n",
      " 2   external.link        4078 non-null   bool  \n",
      " 3   pictures             4078 non-null   bool  \n",
      " 4   videos               4078 non-null   bool  \n",
      " 5   gifs                 4078 non-null   bool  \n",
      " 6   multimedial_content  4078 non-null   bool  \n",
      " 7   user.image           4078 non-null   bool  \n",
      " 8   user.bio             4078 non-null   bool  \n",
      " 9   user.website         4078 non-null   bool  \n",
      " 10  user.tweets          4078 non-null   int64 \n",
      " 11  user.following       4078 non-null   int64 \n",
      " 12  user.media           4078 non-null   int64 \n",
      " 13  n_hashtags           4078 non-null   int64 \n",
      " 14  processed text       4078 non-null   object\n",
      "dtypes: bool(9), int64(5), object(1)\n",
      "memory usage: 227.1+ KB\n"
     ]
    }
   ],
   "source": [
    "data.drop(['text'], axis=1, inplace=True)\n",
    "Y = data['engagement.rate']\n",
    "data['engagement.rate'].fillna(data['engagement.rate'].mean(), inplace=True)\n",
    "X = data.drop(columns=['engagement.rate'])\n",
    "X.info()"
   ]
  },
  {
   "cell_type": "code",
   "execution_count": 31,
   "metadata": {},
   "outputs": [
    {
     "name": "stdout",
     "output_type": "stream",
     "text": [
      "67046\n",
      "[0.17750182 0.27292835 0.20631068 ... 0.24720678 0.867121   0.49809756]\n"
     ]
    }
   ],
   "source": [
    "# label encoding\n",
    "# max_df will be set with regard of the best parameter found in the previous step\n",
    "vectorizer = TfidfVectorizer(max_df=0.80) # ignore terms that appear in more than 80% of the documents\n",
    "\n",
    "dtm = vectorizer.fit_transform(X['processed text'])\n",
    "# DTM is a document-term matrix with shape (n_samples, n_features) having as rows the documents and as columns the terms learned as vocabulary\n",
    "# The value of each cell is the tf-idf score\n",
    "\n",
    "# Convert sparse matrix to dense matrix\n",
    "dense_matrix = dtm.toarray()\n",
    "\n",
    "# Display non-zero elements\n",
    "non_zero_elements = dense_matrix[dense_matrix != 0]\n",
    "print(len(non_zero_elements))\n",
    "print(non_zero_elements)\n",
    "\n",
    "# Convert the DTM to a dataframe\n",
    "dtm_df = pd.DataFrame(dtm.toarray(), columns=vectorizer.get_feature_names_out())\n",
    "\n",
    "# Merge the two dataframes\n",
    "# Reset the indexes of both X and dtm_df\n",
    "X.reset_index(drop=True, inplace=True)\n",
    "dtm_df.reset_index(drop=True, inplace=True)\n",
    "\n",
    "# Concatenate the DataFrames\n",
    "merged_df = pd.concat([X, dtm_df], axis=1)\n",
    "X.fillna(0, inplace=True)\n",
    "flag=False\n",
    "if 'engagement.rate' in X.columns:\n",
    "    flag = True\n",
    "print(f'{flag}')\n",
    "X.head(5)"
   ]
  },
  {
   "cell_type": "markdown",
   "metadata": {},
   "source": [
    "Drop the text column, as processed text will be the covariate of interest.\n",
    "Then perform the X, Y division, where Y will be engagement rate"
   ]
  },
  {
   "cell_type": "code",
   "execution_count": null,
   "metadata": {},
   "outputs": [
    {
     "data": {
      "text/html": [
       "<div>\n",
       "<style scoped>\n",
       "    .dataframe tbody tr th:only-of-type {\n",
       "        vertical-align: middle;\n",
       "    }\n",
       "\n",
       "    .dataframe tbody tr th {\n",
       "        vertical-align: top;\n",
       "    }\n",
       "\n",
       "    .dataframe thead th {\n",
       "        text-align: right;\n",
       "    }\n",
       "</style>\n",
       "<table border=\"1\" class=\"dataframe\">\n",
       "  <thead>\n",
       "    <tr style=\"text-align: right;\">\n",
       "      <th></th>\n",
       "      <th>quotes</th>\n",
       "      <th>is.retweet</th>\n",
       "      <th>external.link</th>\n",
       "      <th>pictures</th>\n",
       "      <th>videos</th>\n",
       "      <th>gifs</th>\n",
       "      <th>multimedial_content</th>\n",
       "      <th>user.image</th>\n",
       "      <th>user.bio</th>\n",
       "      <th>user.website</th>\n",
       "      <th>user.tweets</th>\n",
       "      <th>user.following</th>\n",
       "      <th>user.media</th>\n",
       "      <th>n_hashtags</th>\n",
       "    </tr>\n",
       "  </thead>\n",
       "  <tbody>\n",
       "    <tr>\n",
       "      <th>0</th>\n",
       "      <td>1</td>\n",
       "      <td>True</td>\n",
       "      <td>False</td>\n",
       "      <td>True</td>\n",
       "      <td>False</td>\n",
       "      <td>False</td>\n",
       "      <td>True</td>\n",
       "      <td>True</td>\n",
       "      <td>True</td>\n",
       "      <td>True</td>\n",
       "      <td>16213</td>\n",
       "      <td>549</td>\n",
       "      <td>15698</td>\n",
       "      <td>8</td>\n",
       "    </tr>\n",
       "    <tr>\n",
       "      <th>1</th>\n",
       "      <td>0</td>\n",
       "      <td>False</td>\n",
       "      <td>False</td>\n",
       "      <td>False</td>\n",
       "      <td>False</td>\n",
       "      <td>False</td>\n",
       "      <td>False</td>\n",
       "      <td>True</td>\n",
       "      <td>True</td>\n",
       "      <td>True</td>\n",
       "      <td>50098</td>\n",
       "      <td>513</td>\n",
       "      <td>1962</td>\n",
       "      <td>10</td>\n",
       "    </tr>\n",
       "    <tr>\n",
       "      <th>2</th>\n",
       "      <td>0</td>\n",
       "      <td>False</td>\n",
       "      <td>False</td>\n",
       "      <td>False</td>\n",
       "      <td>False</td>\n",
       "      <td>False</td>\n",
       "      <td>False</td>\n",
       "      <td>True</td>\n",
       "      <td>True</td>\n",
       "      <td>True</td>\n",
       "      <td>5174</td>\n",
       "      <td>9022</td>\n",
       "      <td>0</td>\n",
       "      <td>11</td>\n",
       "    </tr>\n",
       "    <tr>\n",
       "      <th>3</th>\n",
       "      <td>0</td>\n",
       "      <td>False</td>\n",
       "      <td>False</td>\n",
       "      <td>False</td>\n",
       "      <td>False</td>\n",
       "      <td>False</td>\n",
       "      <td>False</td>\n",
       "      <td>True</td>\n",
       "      <td>True</td>\n",
       "      <td>True</td>\n",
       "      <td>108071</td>\n",
       "      <td>678</td>\n",
       "      <td>49647</td>\n",
       "      <td>6</td>\n",
       "    </tr>\n",
       "    <tr>\n",
       "      <th>4</th>\n",
       "      <td>0</td>\n",
       "      <td>False</td>\n",
       "      <td>False</td>\n",
       "      <td>True</td>\n",
       "      <td>False</td>\n",
       "      <td>False</td>\n",
       "      <td>True</td>\n",
       "      <td>True</td>\n",
       "      <td>True</td>\n",
       "      <td>True</td>\n",
       "      <td>28081</td>\n",
       "      <td>2343</td>\n",
       "      <td>18032</td>\n",
       "      <td>8</td>\n",
       "    </tr>\n",
       "  </tbody>\n",
       "</table>\n",
       "</div>"
      ],
      "text/plain": [
       "   quotes  is.retweet  external.link  pictures  videos   gifs  \\\n",
       "0       1        True          False      True   False  False   \n",
       "1       0       False          False     False   False  False   \n",
       "2       0       False          False     False   False  False   \n",
       "3       0       False          False     False   False  False   \n",
       "4       0       False          False      True   False  False   \n",
       "\n",
       "   multimedial_content  user.image  user.bio  user.website  user.tweets  \\\n",
       "0                 True        True      True          True        16213   \n",
       "1                False        True      True          True        50098   \n",
       "2                False        True      True          True         5174   \n",
       "3                False        True      True          True       108071   \n",
       "4                 True        True      True          True        28081   \n",
       "\n",
       "   user.following  user.media  n_hashtags  \n",
       "0             549       15698           8  \n",
       "1             513        1962          10  \n",
       "2            9022           0          11  \n",
       "3             678       49647           6  \n",
       "4            2343       18032           8  "
      ]
     },
     "execution_count": 25,
     "metadata": {},
     "output_type": "execute_result"
    }
   ],
   "source": [
    "X.drop(columns=['processed text'], inplace=True)\n",
    "X.head(5)"
   ]
  },
  {
   "cell_type": "code",
   "execution_count": null,
   "metadata": {},
   "outputs": [],
   "source": [
    "# dataframe for storing results in a convenient way for shwing boxplot later\n",
    "reg_metrics = pd.DataFrame(columns=['Model', 'MAE', 'RMSE', 'MAPE', 'R2'])"
   ]
  },
  {
   "cell_type": "markdown",
   "metadata": {},
   "source": [
    "### Dummy regressor\n",
    "\n",
    "We are going to use a dummy regressor (that estimates the mean of the output variable) as a baseline."
   ]
  },
  {
   "cell_type": "code",
   "execution_count": null,
   "metadata": {},
   "outputs": [
    {
     "data": {
      "image/png": "[encoded data removed]",
      "text/plain": [
       "<Figure size 640x480 with 1 Axes>"
      ]
     },
     "metadata": {},
     "output_type": "display_data"
    },
    {
     "ename": "KeyError",
     "evalue": "'MSE'",
     "output_type": "error",
     "traceback": [
      "\u001b[0;31m---------------------------------------------------------------------------\u001b[0m",
      "\u001b[0;31mKeyError\u001b[0m                                  Traceback (most recent call last)",
      "File \u001b[0;32m~/miniconda3/lib/python3.9/site-packages/pandas/core/indexes/base.py:3791\u001b[0m, in \u001b[0;36mIndex.get_loc\u001b[0;34m(self, key)\u001b[0m\n\u001b[1;32m   3790\u001b[0m \u001b[38;5;28;01mtry\u001b[39;00m:\n\u001b[0;32m-> 3791\u001b[0m     \u001b[38;5;28;01mreturn\u001b[39;00m \u001b[38;5;28;43mself\u001b[39;49m\u001b[38;5;241;43m.\u001b[39;49m\u001b[43m_engine\u001b[49m\u001b[38;5;241;43m.\u001b[39;49m\u001b[43mget_loc\u001b[49m\u001b[43m(\u001b[49m\u001b[43mcasted_key\u001b[49m\u001b[43m)\u001b[49m\n\u001b[1;32m   3792\u001b[0m \u001b[38;5;28;01mexcept\u001b[39;00m \u001b[38;5;167;01mKeyError\u001b[39;00m \u001b[38;5;28;01mas\u001b[39;00m err:\n",
      "File \u001b[0;32mindex.pyx:152\u001b[0m, in \u001b[0;36mpandas._libs.index.IndexEngine.get_loc\u001b[0;34m()\u001b[0m\n",
      "File \u001b[0;32mindex.pyx:181\u001b[0m, in \u001b[0;36mpandas._libs.index.IndexEngine.get_loc\u001b[0;34m()\u001b[0m\n",
      "File \u001b[0;32mpandas/_libs/hashtable_class_helper.pxi:7080\u001b[0m, in \u001b[0;36mpandas._libs.hashtable.PyObjectHashTable.get_item\u001b[0;34m()\u001b[0m\n",
      "File \u001b[0;32mpandas/_libs/hashtable_class_helper.pxi:7088\u001b[0m, in \u001b[0;36mpandas._libs.hashtable.PyObjectHashTable.get_item\u001b[0;34m()\u001b[0m\n",
      "\u001b[0;31mKeyError\u001b[0m: 'MSE'",
      "\nThe above exception was the direct cause of the following exception:\n",
      "\u001b[0;31mKeyError\u001b[0m                                  Traceback (most recent call last)",
      "Cell \u001b[0;32mIn[27], line 36\u001b[0m\n\u001b[1;32m     33\u001b[0m plt\u001b[38;5;241m.\u001b[39mshow()\n\u001b[1;32m     35\u001b[0m \u001b[38;5;66;03m# Print MSE scores and mean MSE\u001b[39;00m\n\u001b[0;32m---> 36\u001b[0m \u001b[38;5;28mprint\u001b[39m(\u001b[38;5;124mf\u001b[39m\u001b[38;5;124m\"\u001b[39m\u001b[38;5;124mMSE Scores: \u001b[39m\u001b[38;5;132;01m{\u001b[39;00mreg_metrics\u001b[38;5;241m.\u001b[39mloc[reg_metrics[\u001b[38;5;124m'\u001b[39m\u001b[38;5;124mModel\u001b[39m\u001b[38;5;124m'\u001b[39m]\u001b[38;5;241m==\u001b[39m\u001b[38;5;124m'\u001b[39m\u001b[38;5;124mDUMMY\u001b[39m\u001b[38;5;124m'\u001b[39m,\u001b[38;5;124m'\u001b[39m\u001b[38;5;124mMSE\u001b[39m\u001b[38;5;124m'\u001b[39m]\u001b[38;5;132;01m}\u001b[39;00m\u001b[38;5;124m\"\u001b[39m)\n\u001b[1;32m     37\u001b[0m \u001b[38;5;28mprint\u001b[39m(\u001b[38;5;124mf\u001b[39m\u001b[38;5;124m\"\u001b[39m\u001b[38;5;124mMean MSE: \u001b[39m\u001b[38;5;132;01m{\u001b[39;00mnp\u001b[38;5;241m.\u001b[39mmean(reg_metrics\u001b[38;5;241m.\u001b[39mloc[reg_metrics[\u001b[38;5;124m'\u001b[39m\u001b[38;5;124mModel\u001b[39m\u001b[38;5;124m'\u001b[39m]\u001b[38;5;241m==\u001b[39m\u001b[38;5;124m'\u001b[39m\u001b[38;5;124mDUMMY\u001b[39m\u001b[38;5;124m'\u001b[39m,\u001b[38;5;124m'\u001b[39m\u001b[38;5;124mMSE\u001b[39m\u001b[38;5;124m'\u001b[39m])\u001b[38;5;132;01m}\u001b[39;00m\u001b[38;5;124m\"\u001b[39m)\n",
      "File \u001b[0;32m~/miniconda3/lib/python3.9/site-packages/pandas/core/indexing.py:1147\u001b[0m, in \u001b[0;36m_LocationIndexer.__getitem__\u001b[0;34m(self, key)\u001b[0m\n\u001b[1;32m   1145\u001b[0m     \u001b[38;5;28;01mif\u001b[39;00m \u001b[38;5;28mself\u001b[39m\u001b[38;5;241m.\u001b[39m_is_scalar_access(key):\n\u001b[1;32m   1146\u001b[0m         \u001b[38;5;28;01mreturn\u001b[39;00m \u001b[38;5;28mself\u001b[39m\u001b[38;5;241m.\u001b[39mobj\u001b[38;5;241m.\u001b[39m_get_value(\u001b[38;5;241m*\u001b[39mkey, takeable\u001b[38;5;241m=\u001b[39m\u001b[38;5;28mself\u001b[39m\u001b[38;5;241m.\u001b[39m_takeable)\n\u001b[0;32m-> 1147\u001b[0m     \u001b[38;5;28;01mreturn\u001b[39;00m \u001b[38;5;28;43mself\u001b[39;49m\u001b[38;5;241;43m.\u001b[39;49m\u001b[43m_getitem_tuple\u001b[49m\u001b[43m(\u001b[49m\u001b[43mkey\u001b[49m\u001b[43m)\u001b[49m\n\u001b[1;32m   1148\u001b[0m \u001b[38;5;28;01melse\u001b[39;00m:\n\u001b[1;32m   1149\u001b[0m     \u001b[38;5;66;03m# we by definition only have the 0th axis\u001b[39;00m\n\u001b[1;32m   1150\u001b[0m     axis \u001b[38;5;241m=\u001b[39m \u001b[38;5;28mself\u001b[39m\u001b[38;5;241m.\u001b[39maxis \u001b[38;5;129;01mor\u001b[39;00m \u001b[38;5;241m0\u001b[39m\n",
      "File \u001b[0;32m~/miniconda3/lib/python3.9/site-packages/pandas/core/indexing.py:1330\u001b[0m, in \u001b[0;36m_LocIndexer._getitem_tuple\u001b[0;34m(self, tup)\u001b[0m\n\u001b[1;32m   1328\u001b[0m \u001b[38;5;28;01mwith\u001b[39;00m suppress(IndexingError):\n\u001b[1;32m   1329\u001b[0m     tup \u001b[38;5;241m=\u001b[39m \u001b[38;5;28mself\u001b[39m\u001b[38;5;241m.\u001b[39m_expand_ellipsis(tup)\n\u001b[0;32m-> 1330\u001b[0m     \u001b[38;5;28;01mreturn\u001b[39;00m \u001b[38;5;28;43mself\u001b[39;49m\u001b[38;5;241;43m.\u001b[39;49m\u001b[43m_getitem_lowerdim\u001b[49m\u001b[43m(\u001b[49m\u001b[43mtup\u001b[49m\u001b[43m)\u001b[49m\n\u001b[1;32m   1332\u001b[0m \u001b[38;5;66;03m# no multi-index, so validate all of the indexers\u001b[39;00m\n\u001b[1;32m   1333\u001b[0m tup \u001b[38;5;241m=\u001b[39m \u001b[38;5;28mself\u001b[39m\u001b[38;5;241m.\u001b[39m_validate_tuple_indexer(tup)\n",
      "File \u001b[0;32m~/miniconda3/lib/python3.9/site-packages/pandas/core/indexing.py:1039\u001b[0m, in \u001b[0;36m_LocationIndexer._getitem_lowerdim\u001b[0;34m(self, tup)\u001b[0m\n\u001b[1;32m   1035\u001b[0m \u001b[38;5;28;01mfor\u001b[39;00m i, key \u001b[38;5;129;01min\u001b[39;00m \u001b[38;5;28menumerate\u001b[39m(tup):\n\u001b[1;32m   1036\u001b[0m     \u001b[38;5;28;01mif\u001b[39;00m is_label_like(key):\n\u001b[1;32m   1037\u001b[0m         \u001b[38;5;66;03m# We don't need to check for tuples here because those are\u001b[39;00m\n\u001b[1;32m   1038\u001b[0m         \u001b[38;5;66;03m#  caught by the _is_nested_tuple_indexer check above.\u001b[39;00m\n\u001b[0;32m-> 1039\u001b[0m         section \u001b[38;5;241m=\u001b[39m \u001b[38;5;28;43mself\u001b[39;49m\u001b[38;5;241;43m.\u001b[39;49m\u001b[43m_getitem_axis\u001b[49m\u001b[43m(\u001b[49m\u001b[43mkey\u001b[49m\u001b[43m,\u001b[49m\u001b[43m \u001b[49m\u001b[43maxis\u001b[49m\u001b[38;5;241;43m=\u001b[39;49m\u001b[43mi\u001b[49m\u001b[43m)\u001b[49m\n\u001b[1;32m   1041\u001b[0m         \u001b[38;5;66;03m# We should never have a scalar section here, because\u001b[39;00m\n\u001b[1;32m   1042\u001b[0m         \u001b[38;5;66;03m#  _getitem_lowerdim is only called after a check for\u001b[39;00m\n\u001b[1;32m   1043\u001b[0m         \u001b[38;5;66;03m#  is_scalar_access, which that would be.\u001b[39;00m\n\u001b[1;32m   1044\u001b[0m         \u001b[38;5;28;01mif\u001b[39;00m section\u001b[38;5;241m.\u001b[39mndim \u001b[38;5;241m==\u001b[39m \u001b[38;5;28mself\u001b[39m\u001b[38;5;241m.\u001b[39mndim:\n\u001b[1;32m   1045\u001b[0m             \u001b[38;5;66;03m# we're in the middle of slicing through a MultiIndex\u001b[39;00m\n\u001b[1;32m   1046\u001b[0m             \u001b[38;5;66;03m# revise the key wrt to `section` by inserting an _NS\u001b[39;00m\n",
      "File \u001b[0;32m~/miniconda3/lib/python3.9/site-packages/pandas/core/indexing.py:1393\u001b[0m, in \u001b[0;36m_LocIndexer._getitem_axis\u001b[0;34m(self, key, axis)\u001b[0m\n\u001b[1;32m   1391\u001b[0m \u001b[38;5;66;03m# fall thru to straight lookup\u001b[39;00m\n\u001b[1;32m   1392\u001b[0m \u001b[38;5;28mself\u001b[39m\u001b[38;5;241m.\u001b[39m_validate_key(key, axis)\n\u001b[0;32m-> 1393\u001b[0m \u001b[38;5;28;01mreturn\u001b[39;00m \u001b[38;5;28;43mself\u001b[39;49m\u001b[38;5;241;43m.\u001b[39;49m\u001b[43m_get_label\u001b[49m\u001b[43m(\u001b[49m\u001b[43mkey\u001b[49m\u001b[43m,\u001b[49m\u001b[43m \u001b[49m\u001b[43maxis\u001b[49m\u001b[38;5;241;43m=\u001b[39;49m\u001b[43maxis\u001b[49m\u001b[43m)\u001b[49m\n",
      "File \u001b[0;32m~/miniconda3/lib/python3.9/site-packages/pandas/core/indexing.py:1343\u001b[0m, in \u001b[0;36m_LocIndexer._get_label\u001b[0;34m(self, label, axis)\u001b[0m\n\u001b[1;32m   1341\u001b[0m \u001b[38;5;28;01mdef\u001b[39;00m \u001b[38;5;21m_get_label\u001b[39m(\u001b[38;5;28mself\u001b[39m, label, axis: AxisInt):\n\u001b[1;32m   1342\u001b[0m     \u001b[38;5;66;03m# GH#5567 this will fail if the label is not present in the axis.\u001b[39;00m\n\u001b[0;32m-> 1343\u001b[0m     \u001b[38;5;28;01mreturn\u001b[39;00m \u001b[38;5;28;43mself\u001b[39;49m\u001b[38;5;241;43m.\u001b[39;49m\u001b[43mobj\u001b[49m\u001b[38;5;241;43m.\u001b[39;49m\u001b[43mxs\u001b[49m\u001b[43m(\u001b[49m\u001b[43mlabel\u001b[49m\u001b[43m,\u001b[49m\u001b[43m \u001b[49m\u001b[43maxis\u001b[49m\u001b[38;5;241;43m=\u001b[39;49m\u001b[43maxis\u001b[49m\u001b[43m)\u001b[49m\n",
      "File \u001b[0;32m~/miniconda3/lib/python3.9/site-packages/pandas/core/generic.py:4222\u001b[0m, in \u001b[0;36mNDFrame.xs\u001b[0;34m(self, key, axis, level, drop_level)\u001b[0m\n\u001b[1;32m   4220\u001b[0m \u001b[38;5;28;01mif\u001b[39;00m axis \u001b[38;5;241m==\u001b[39m \u001b[38;5;241m1\u001b[39m:\n\u001b[1;32m   4221\u001b[0m     \u001b[38;5;28;01mif\u001b[39;00m drop_level:\n\u001b[0;32m-> 4222\u001b[0m         \u001b[38;5;28;01mreturn\u001b[39;00m \u001b[38;5;28;43mself\u001b[39;49m\u001b[43m[\u001b[49m\u001b[43mkey\u001b[49m\u001b[43m]\u001b[49m\n\u001b[1;32m   4223\u001b[0m     index \u001b[38;5;241m=\u001b[39m \u001b[38;5;28mself\u001b[39m\u001b[38;5;241m.\u001b[39mcolumns\n\u001b[1;32m   4224\u001b[0m \u001b[38;5;28;01melse\u001b[39;00m:\n",
      "File \u001b[0;32m~/miniconda3/lib/python3.9/site-packages/pandas/core/frame.py:3893\u001b[0m, in \u001b[0;36mDataFrame.__getitem__\u001b[0;34m(self, key)\u001b[0m\n\u001b[1;32m   3891\u001b[0m \u001b[38;5;28;01mif\u001b[39;00m \u001b[38;5;28mself\u001b[39m\u001b[38;5;241m.\u001b[39mcolumns\u001b[38;5;241m.\u001b[39mnlevels \u001b[38;5;241m>\u001b[39m \u001b[38;5;241m1\u001b[39m:\n\u001b[1;32m   3892\u001b[0m     \u001b[38;5;28;01mreturn\u001b[39;00m \u001b[38;5;28mself\u001b[39m\u001b[38;5;241m.\u001b[39m_getitem_multilevel(key)\n\u001b[0;32m-> 3893\u001b[0m indexer \u001b[38;5;241m=\u001b[39m \u001b[38;5;28;43mself\u001b[39;49m\u001b[38;5;241;43m.\u001b[39;49m\u001b[43mcolumns\u001b[49m\u001b[38;5;241;43m.\u001b[39;49m\u001b[43mget_loc\u001b[49m\u001b[43m(\u001b[49m\u001b[43mkey\u001b[49m\u001b[43m)\u001b[49m\n\u001b[1;32m   3894\u001b[0m \u001b[38;5;28;01mif\u001b[39;00m is_integer(indexer):\n\u001b[1;32m   3895\u001b[0m     indexer \u001b[38;5;241m=\u001b[39m [indexer]\n",
      "File \u001b[0;32m~/miniconda3/lib/python3.9/site-packages/pandas/core/indexes/base.py:3798\u001b[0m, in \u001b[0;36mIndex.get_loc\u001b[0;34m(self, key)\u001b[0m\n\u001b[1;32m   3793\u001b[0m     \u001b[38;5;28;01mif\u001b[39;00m \u001b[38;5;28misinstance\u001b[39m(casted_key, \u001b[38;5;28mslice\u001b[39m) \u001b[38;5;129;01mor\u001b[39;00m (\n\u001b[1;32m   3794\u001b[0m         \u001b[38;5;28misinstance\u001b[39m(casted_key, abc\u001b[38;5;241m.\u001b[39mIterable)\n\u001b[1;32m   3795\u001b[0m         \u001b[38;5;129;01mand\u001b[39;00m \u001b[38;5;28many\u001b[39m(\u001b[38;5;28misinstance\u001b[39m(x, \u001b[38;5;28mslice\u001b[39m) \u001b[38;5;28;01mfor\u001b[39;00m x \u001b[38;5;129;01min\u001b[39;00m casted_key)\n\u001b[1;32m   3796\u001b[0m     ):\n\u001b[1;32m   3797\u001b[0m         \u001b[38;5;28;01mraise\u001b[39;00m InvalidIndexError(key)\n\u001b[0;32m-> 3798\u001b[0m     \u001b[38;5;28;01mraise\u001b[39;00m \u001b[38;5;167;01mKeyError\u001b[39;00m(key) \u001b[38;5;28;01mfrom\u001b[39;00m \u001b[38;5;21;01merr\u001b[39;00m\n\u001b[1;32m   3799\u001b[0m \u001b[38;5;28;01mexcept\u001b[39;00m \u001b[38;5;167;01mTypeError\u001b[39;00m:\n\u001b[1;32m   3800\u001b[0m     \u001b[38;5;66;03m# If we have a listlike key, _check_indexing_error will raise\u001b[39;00m\n\u001b[1;32m   3801\u001b[0m     \u001b[38;5;66;03m#  InvalidIndexError. Otherwise we fall through and re-raise\u001b[39;00m\n\u001b[1;32m   3802\u001b[0m     \u001b[38;5;66;03m#  the TypeError.\u001b[39;00m\n\u001b[1;32m   3803\u001b[0m     \u001b[38;5;28mself\u001b[39m\u001b[38;5;241m.\u001b[39m_check_indexing_error(key)\n",
      "\u001b[0;31mKeyError\u001b[0m: 'MSE'"
     ]
    }
   ],
   "source": [
    "dummy_kfolds = KFold(n_splits=10, shuffle=True)\n",
    "for train_idx, test_idx in dummy_kfolds.split(X):\n",
    "    dummy_regressor = DummyRegressor()\n",
    "    dummy_regressor.fit(X.iloc[train_idx], Y.iloc[train_idx])\n",
    "    y_dummy_reg = dummy_regressor.predict(X.iloc[test_idx])\n",
    "    current_dummy_mae = mean_absolute_error(Y.iloc[test_idx], y_dummy_reg)\n",
    "    current_dummy_mse = mean_squared_error(Y.iloc[test_idx], y_dummy_reg)\n",
    "    current_dummy_rmse = np.sqrt(current_dummy_mse)\n",
    "    current_dummy_mape = mean_absolute_percentage_error(Y.iloc[test_idx], y_dummy_reg)\n",
    "    current_dummy_r2 = r2_score(Y.iloc[test_idx], y_dummy_reg)\n",
    "    reg_metrics.loc[len(reg_metrics)] = ['DUMMY', current_dummy_mae, current_dummy_rmse, current_dummy_mape, current_dummy_r2]\n",
    "\n",
    "# Dovrebbe essere lo stesso di fare:\n",
    "# lin_regressor = LinearRegression()\n",
    "# Y_reshaped = Y.values.reshape(-1, 1)\n",
    "\n",
    "# Perform cross-validation to get MSE scores\n",
    "# mse_scores = -cross_val_score(lin_regressor, np.ones_like(Y_reshaped), Y_reshaped,\n",
    "#                              scoring='neg_mean_squared_error', cv=10)\n",
    "# mae scores = -cross_val_score(lin_regressor, np.ones_like(Y_reshaped), Y_reshaped, scoring='neg_mean_absolute_error', cv=10)\n",
    "# mape_scores = -cross_val_score(lin_regressor, np.ones_like(Y_reshaped), Y_reshaped, scoring='neg_mean_absolute_percentage_error', cv=10)\n",
    "# reg_metrics.loc[len(reg_metrics)] = ['DUMMY', mae_scores, mse_scores, mape_scores]\n",
    "\n",
    "\n",
    "#Scatterplot of Y\n",
    "mean_y = np.mean(Y)\n",
    "plt.scatter(np.arange(len(Y)), Y, label='Y')\n",
    "plt.axhline(y=mean_y, color='r', linestyle='--', label='mean')    # Plot the mean\n",
    "plt.title('Scatterplot of Y')\n",
    "plt.xlabel('Sample index')\n",
    "plt.ylabel('Y')\n",
    "plt.legend()\n",
    "plt.show()\n",
    "\n",
    "# Print MSE scores and mean MSE\n",
    "print(f\"MSE Scores: {reg_metrics.loc[reg_metrics['Model']=='DUMMY','RMSE']}\")\n",
    "print(f\"Mean MSE: {np.mean(reg_metrics.loc[reg_metrics['Model']=='DUMMY','RMSE'])}\")"
   ]
  },
  {
   "cell_type": "markdown",
   "metadata": {},
   "source": [
    "We can see that the dummy classifier doesn't do much, as with few outliers, but that generates much leverage, the MSE is indeed very high"
   ]
  },
  {
   "cell_type": "markdown",
   "metadata": {},
   "source": [
    "## Single decision tree"
   ]
  },
  {
   "cell_type": "code",
   "execution_count": null,
   "metadata": {},
   "outputs": [
    {
     "name": "stdout",
     "output_type": "stream",
     "text": [
      "MSE Scores: 10     20129.573973\n",
      "11     60233.588728\n",
      "12      6602.056684\n",
      "13    134597.783135\n",
      "14     99094.270387\n",
      "15    147378.946897\n",
      "16      1447.158906\n",
      "17     11915.785106\n",
      "18     95665.593581\n",
      "19     59484.098062\n",
      "Name: MSE, dtype: float64\n",
      "Mean MSE: 63654.88554591226\n"
     ]
    }
   ],
   "source": [
    "# Decision Tree Regressor\n",
    "# Initialize a decision tree regressor instance\n",
    "tree_kfolds = KFold(n_splits=10, shuffle=True)\n",
    "for train_idx, test_idx in tree_kfolds.split(X):\n",
    "    tree_regressor = DecisionTreeRegressor()\n",
    "    tree_regressor.fit(X.iloc[train_idx], Y.iloc[train_idx])\n",
    "    y_tree_reg = tree_regressor.predict(X.iloc[test_idx])\n",
    "    current_tree_mae = mean_absolute_error(Y.iloc[test_idx], y_tree_reg)\n",
    "    current_tree_mse = mean_squared_error(Y.iloc[test_idx], y_tree_reg)\n",
    "    current_tree_rmse = np.sqrt(current_tree_mse)\n",
    "    current_tree_mape = mean_absolute_percentage_error(Y.iloc[test_idx], y_tree_reg)\n",
    "    current_tree_r2 = r2_score(Y.iloc[test_idx], y_tree_reg)\n",
    "    reg_metrics.loc[len(reg_metrics)] = ['TREE', current_tree_mae, current_tree_rmse, current_tree_mape, current_tree_r2]\n",
    "\n",
    "# Dovrebbe essere lo stesso di fare:\n",
    "# rf = RandomForestRegressor()\n",
    "#\n",
    "# Perform cross-validation to get MSE scores\n",
    "# mse_scores = -cross_val_score(rd, X, Y,\n",
    "#                              scoring='neg_mean_squared_error', cv=10)\n",
    "# mae scores = -cross_val_score(rf, X, Y, scoring='neg_mean_absolute_error', cv=10)\n",
    "# mape_scores = -cross_val_score(rf, X, Y, scoring='neg_mean_absolute_percentage_error', cv=10)\n",
    "# reg_metrics.loc[len(reg_metrics)] = ['DUMMY', mae_scores, mse_scores, mape_scores]\n",
    "\n",
    "# Print MSE scores and mean MSE\n",
    "print(f\"MSE Scores: {reg_metrics.loc[reg_metrics['Model']=='TREE','RMSE']}\")\n",
    "print(f\"Mean MSE: {np.mean(reg_metrics.loc[reg_metrics['Model']=='TREE','RMSE'])}\")"
   ]
  },
  {
   "cell_type": "markdown",
   "metadata": {},
   "source": [
    "## RandomForest"
   ]
  },
  {
   "cell_type": "code",
   "execution_count": null,
   "metadata": {},
   "outputs": [
    {
     "name": "stdout",
     "output_type": "stream",
     "text": [
      "MSE Scores: 20     71460.300822\n",
      "21      2614.444771\n",
      "22      9056.431882\n",
      "23     18295.489339\n",
      "24     79664.882892\n",
      "25    115332.611796\n",
      "26     22585.587333\n",
      "27      3356.054580\n",
      "28     18832.886933\n",
      "29      5342.390971\n",
      "Name: MSE, dtype: float64\n",
      "Mean MSE: 34654.108131846995\n"
     ]
    }
   ],
   "source": [
    "# Random Forest Regressor\n",
    "# Initialize a random forest regressor instance\n",
    "rf_kfolds = KFold(n_splits=10, shuffle=True)\n",
    "for train_idx, test_idx in rf_kfolds.split(X):\n",
    "    rf_regressor = RandomForestRegressor()\n",
    "    rf_regressor.fit(X.iloc[train_idx], Y.iloc[train_idx])\n",
    "    y_rf_reg = rf_regressor.predict(X.iloc[test_idx])\n",
    "    current_rf_mae = mean_absolute_error(Y.iloc[test_idx], y_rf_reg)\n",
    "    current_rf_mse = mean_squared_error(Y.iloc[test_idx], y_rf_reg)\n",
    "    current_rf_rmse = np.sqrt(current_rf_mse)\n",
    "    current_rf_mape = mean_absolute_percentage_error(Y.iloc[test_idx], y_rf_reg)\n",
    "    current_rf_r2 = r2_score(Y.iloc[test_idx], y_rf_reg)\n",
    "    reg_metrics.loc[len(reg_metrics)] = ['RF', current_rf_mae, current_rf_rmse, current_rf_mape, current_rf_r2]\n",
    "     \n",
    "# Dovrebbe essere lo stesso di fare:\n",
    "# dummy_regressor = DummyRegressor()\n",
    "\n",
    "# Perform cross-validation to get MSE scores\n",
    "# mse_scores = -cross_val_score(lin_regressor, X, Y,\n",
    "#                              scoring='neg_mean_squared_error', cv=10)\n",
    "# mae scores = -cross_val_score(lin_regressor, X, Y, scoring='neg_mean_absolute_error', cv=10)\n",
    "# mape_scores = -cross_val_score(lin_regressor, X, Y, scoring='neg_mean_absolute_percentage_error', cv=10)\n",
    "# reg_metrics.loc[len(reg_metrics)] = ['DUMMY', mae_scores, mse_scores, mape_scores]\n",
    "\n",
    "# Print MSE scores and mean MSE\n",
    "print(f\"MSE Scores: {reg_metrics.loc[reg_metrics['Model']=='RF','RMSE']}\")\n",
    "print(f\"Mean MSE: {np.mean(reg_metrics.loc[reg_metrics['Model']=='RF','RMSE'])}\")"
   ]
  },
  {
   "cell_type": "markdown",
   "metadata": {},
   "source": [
    "## SVM"
   ]
  },
  {
   "cell_type": "code",
   "execution_count": null,
   "metadata": {},
   "outputs": [
    {
     "name": "stdout",
     "output_type": "stream",
     "text": [
      "MSE Scores: 30      9809.563758\n",
      "31     14199.526897\n",
      "32      9450.528561\n",
      "33      4748.413685\n",
      "34       668.809123\n",
      "35      1714.192320\n",
      "36     23495.946437\n",
      "37     42355.168305\n",
      "38    158084.157176\n",
      "39     42868.105163\n",
      "Name: MSE, dtype: float64\n",
      "Mean MSE: 30739.44114257166\n"
     ]
    }
   ],
   "source": [
    "sv_kfolds = KFold(n_splits=10, shuffle=True)\n",
    "for train_idx, test_idx in sv_kfolds.split(X):\n",
    "    sv_regressor = SVR()\n",
    "    sv_regressor.fit(X.iloc[train_idx], Y.iloc[train_idx])\n",
    "    y_sv_reg = sv_regressor.predict(X.iloc[test_idx])\n",
    "    current_sv_mae = mean_absolute_error(Y.iloc[test_idx], y_sv_reg)\n",
    "    current_sv_mse = mean_squared_error(Y.iloc[test_idx], y_sv_reg)\n",
    "    current_sv_rmse = np.sqrt(current_sv_mse)\n",
    "    current_sv_mape = mean_absolute_percentage_error(Y.iloc[test_idx], y_sv_reg)\n",
    "    current_sv_r2 = r2_score(Y.iloc[test_idx], y_sv_reg)\n",
    "    reg_metrics.loc[len(reg_metrics)] = ['SVM', current_sv_mae, current_sv_rmse, current_sv_mape, current_sv_r2]\n",
    "\n",
    "# Dovrebbe essere lo stesso di fare:\n",
    "# sv_regressor = SVR()\n",
    "#\n",
    "# Perform cross-validation to get MSE scores\n",
    "# mse_scores = -cross_val_score(sv_regressor, X, Y,\n",
    "#                              scoring='neg_mean_squared_error', cv=10)\n",
    "# mae scores = -cross_val_score(sv_regressor, X, Y, scoring='neg_mean_absolute_error', cv=10)\n",
    "# mape_scores = -cross_val_score(sv_regressor, X, Y, scoring='neg_mean_absolute_percentage_error', cv=10)\n",
    "# reg_metrics.loc[len(reg_metrics)] = ['DUMMY', mae_scores, mse_scores, mape_scores]\n",
    "\n",
    "# Print MSE scores and mean MSE\n",
    "print(f\"MSE Scores: {reg_metrics.loc[reg_metrics['Model']=='SVM','RMSE']}\")\n",
    "print(f\"Mean MSE: {np.mean(reg_metrics.loc[reg_metrics['Model']=='SVM','RMSE'])}\")"
   ]
  },
  {
   "cell_type": "markdown",
   "metadata": {},
   "source": [
    "## kNearestNeighbor"
   ]
  },
  {
   "cell_type": "code",
   "execution_count": null,
   "metadata": {},
   "outputs": [
    {
     "name": "stdout",
     "output_type": "stream",
     "text": [
      "MSE Scores: 40     15315.091647\n",
      "41     14972.077008\n",
      "42     25834.279638\n",
      "43     46426.193466\n",
      "44     16032.039237\n",
      "45    121388.479160\n",
      "46    103711.483597\n",
      "47      4304.165867\n",
      "48     19954.236581\n",
      "49     13731.765026\n",
      "Name: MSE, dtype: float64\n",
      "Mean MSE: 38166.98112286088\n"
     ]
    }
   ],
   "source": [
    "knn_kfolds = KFold(n_splits=10, shuffle=True)\n",
    "for train_idx, test_idx in knn_kfolds.split(X):\n",
    "    knn_regressor = KNeighborsRegressor()\n",
    "    knn_regressor.fit(X.iloc[train_idx], Y.iloc[train_idx])\n",
    "    y_knn_reg = knn_regressor.predict(X.iloc[test_idx])\n",
    "    current_knn_mae = mean_absolute_error(Y.iloc[test_idx], y_knn_reg)\n",
    "    current_knn_mse = mean_squared_error(Y.iloc[test_idx], y_knn_reg)\n",
    "    current_knn_rmse = np.sqrt(current_knn_mse)\n",
    "    current_knn_mape = mean_absolute_percentage_error(Y.iloc[test_idx], y_knn_reg)\n",
    "    current_knn_r2 = r2_score(Y.iloc[test_idx], y_knn_reg)\n",
    "    reg_metrics.loc[len(reg_metrics)] = ['KNN', current_knn_mae, current_knn_mse, current_knn_mape, current_knn_r2]\n",
    "\n",
    "# Dovrebbe essere lo stesso di fare:\n",
    "# knn_regressor = KNeighborsRegressor()\n",
    "#\n",
    "# Perform cross-validation to get MSE scores\n",
    "# mse_scores = -cross_val_score(knn_regressor, X, Y,\n",
    "#                              scoring='neg_mean_squared_error', cv=10)\n",
    "# mae scores = -cross_val_score(knn_regressor, X, Y, scoring='neg_mean_absolute_error', cv=10)\n",
    "# mape_scores = -cross_val_score(knn_regressor, X, Y, scoring='neg_mean_absolute_percentage_error', cv=10)\n",
    "# reg_metrics.loc[len(reg_metrics)] = ['DUMMY', mae_scores, mse_scores, mape_scores]\n",
    "\n",
    "# Print MSE scores and mean MSE\n",
    "print(f\"MSE Scores: {reg_metrics.loc[reg_metrics['Model']=='KNN','RMSE']}\")\n",
    "print(f\"Mean MSE: {np.mean(reg_metrics.loc[reg_metrics['Model']=='KNN','RMSE'])}\")"
   ]
  },
  {
   "cell_type": "markdown",
   "metadata": {},
   "source": [
    "## Some plots"
   ]
  },
  {
   "cell_type": "code",
   "execution_count": null,
   "metadata": {},
   "outputs": [
    {
     "data": {
      "image/png": "[encoded data removed]",
      "text/plain": [
       "<Figure size 1200x1000 with 4 Axes>"
      ]
     },
     "metadata": {},
     "output_type": "display_data"
    }
   ],
   "source": [
    "fig, axs = plt.subplots(2, 2, figsize=(12, 10))\n",
    "sns.boxplot(data=reg_metrics, x=\"MAE\", y=\"Model\", ax=axs[0, 0], palette=sns.color_palette('Paired')[1::2])\n",
    "sns.boxplot(data=reg_metrics, x=\"RMSE\", y=\"Model\", ax=axs[0, 1], palette=sns.color_palette('Paired')[1::2])\n",
    "sns.boxplot(data=reg_metrics, x=\"MAPE\", y=\"Model\", ax=axs[1, 0], palette=sns.color_palette('Paired')[1::2])\n",
    "sns.boxplot(data=reg_metrics, x=\"R2\", y=\"Model\", ax=axs[1, 1], palette=sns.color_palette('Paired')[1::2])\n",
    "\n",
    "\n",
    "plt.tight_layout()\n",
    "plt.show()"
   ]
  },
  {
   "cell_type": "markdown",
   "metadata": {},
   "source": [
    "## Use only multimedial data"
   ]
  },
  {
   "cell_type": "code",
   "execution_count": null,
   "metadata": {},
   "outputs": [],
   "source": [
    "X.drop(columns=['pictures', 'videos', 'gifs'], inplace=True)"
   ]
  },
  {
   "cell_type": "code",
   "execution_count": null,
   "metadata": {},
   "outputs": [],
   "source": [
    "reg_metrics_new = pd.DataFrame(columns=['Model', 'MAE', 'RMSE', 'MAPE', 'R2'])"
   ]
  },
  {
   "cell_type": "code",
   "execution_count": null,
   "metadata": {},
   "outputs": [
    {
     "data": {
      "image/png": "[encoded data removed]",
      "text/plain": [
       "<Figure size 640x480 with 1 Axes>"
      ]
     },
     "metadata": {},
     "output_type": "display_data"
    },
    {
     "name": "stdout",
     "output_type": "stream",
     "text": [
      "MSE Scores: 0     54505.075870\n",
      "1       548.580425\n",
      "2      1136.824074\n",
      "3     14137.026073\n",
      "4      6481.217189\n",
      "5      5274.952632\n",
      "6    119477.897981\n",
      "7      2250.816260\n",
      "8    100674.330450\n",
      "9       783.399097\n",
      "Name: MSE, dtype: float64\n",
      "Mean MSE: 30527.012005151697\n"
     ]
    }
   ],
   "source": [
    "dummy_kfolds = KFold(n_splits=10, shuffle=True)\n",
    "for train_idx, test_idx in dummy_kfolds.split(X):\n",
    "    dummy_regressor = DummyRegressor()\n",
    "    dummy_regressor.fit(X.iloc[train_idx], Y.iloc[train_idx])\n",
    "    y_dummy_reg = dummy_regressor.predict(X.iloc[test_idx])\n",
    "    current_dummy_mae = mean_absolute_error(Y.iloc[test_idx], y_dummy_reg)\n",
    "    current_dummy_mse = mean_squared_error(Y.iloc[test_idx], y_dummy_reg)\n",
    "    current_dummy_rmse = np.sqrt(current_dummy_mse)\n",
    "    current_dummy_mape = mean_absolute_percentage_error(Y.iloc[test_idx], y_dummy_reg)\n",
    "    current_dummy_r2 = r2_score(Y.iloc[test_idx], y_dummy_reg)\n",
    "    reg_metrics_new.loc[len(reg_metrics_new)] = ['DUMMY', current_dummy_mae, current_dummy_rmse, current_dummy_mape, current_dummy_r2]\n",
    "\n",
    "# Dovrebbe essere lo stesso di fare:\n",
    "# lin_regressor = LinearRegression()\n",
    "# Y_reshaped = Y.values.reshape(-1, 1)\n",
    "\n",
    "# Perform cross-validation to get MSE scores\n",
    "# mse_scores = -cross_val_score(lin_regressor, np.ones_like(Y_reshaped), Y_reshaped,\n",
    "#                              scoring='neg_mean_squared_error', cv=10)\n",
    "# mae scores = -cross_val_score(lin_regressor, np.ones_like(Y_reshaped), Y_reshaped, scoring='neg_mean_absolute_error', cv=10)\n",
    "# mape_scores = -cross_val_score(lin_regressor, np.ones_like(Y_reshaped), Y_reshaped, scoring='neg_mean_absolute_percentage_error', cv=10)\n",
    "# reg_metrics_new.loc[len(reg_metrics_new)] = ['DUMMY', mae_scores, mse_scores, mape_scores]\n",
    "\n",
    "\n",
    "#Scatterplot of Y\n",
    "mean_y = np.mean(Y)\n",
    "plt.scatter(np.arange(len(Y)), Y, label='Y')\n",
    "plt.axhline(y=mean_y, color='r', linestyle='--', label='mean')    # Plot the mean\n",
    "plt.title('Scatterplot of Y')\n",
    "plt.xlabel('Sample index')\n",
    "plt.ylabel('Y')\n",
    "plt.legend()\n",
    "plt.show()\n",
    "\n",
    "# Print MSE scores and mean MSE\n",
    "print(f\"MSE Scores: {reg_metrics_new.loc[reg_metrics_new['Model']=='DUMMY','RMSE']}\")\n",
    "print(f\"Mean MSE: {np.mean(reg_metrics_new.loc[reg_metrics_new['Model']=='DUMMY','RMSE'])}\")"
   ]
  },
  {
   "cell_type": "code",
   "execution_count": null,
   "metadata": {},
   "outputs": [
    {
     "name": "stdout",
     "output_type": "stream",
     "text": [
      "MSE Scores: 10     20129.573973\n",
      "11     60233.588728\n",
      "12      6602.056684\n",
      "13    134597.783135\n",
      "14     99094.270387\n",
      "15    147378.946897\n",
      "16      1447.158906\n",
      "17     11915.785106\n",
      "18     95665.593581\n",
      "19     59484.098062\n",
      "Name: MSE, dtype: float64\n",
      "Mean MSE: 63654.88554591226\n"
     ]
    }
   ],
   "source": [
    "# Decision Tree Regressor\n",
    "# Initialize a decision tree regressor instance\n",
    "tree_kfolds = KFold(n_splits=10, shuffle=True)\n",
    "for train_idx, test_idx in tree_kfolds.split(X):\n",
    "    tree_regressor = DecisionTreeRegressor()\n",
    "    tree_regressor.fit(X.iloc[train_idx], Y.iloc[train_idx])\n",
    "    y_tree_reg = tree_regressor.predict(X.iloc[test_idx])\n",
    "    current_tree_mae = mean_absolute_error(Y.iloc[test_idx], y_tree_reg)\n",
    "    current_tree_mse = mean_squared_error(Y.iloc[test_idx], y_tree_reg)\n",
    "    current_tree_rmse = np.sqrt(current_tree_mse)\n",
    "    current_tree_mape = mean_absolute_percentage_error(Y.iloc[test_idx], y_tree_reg)\n",
    "    current_tree_r2 = r2_score(Y.iloc[test_idx], y_tree_reg)\n",
    "    reg_metrics_new.loc[len(reg_metrics_new)] = ['TREE', current_tree_mae, current_tree_rmse, current_tree_mape, current_tree_r2]\n",
    "\n",
    "# Dovrebbe essere lo stesso di fare:\n",
    "# rf = RandomForestRegressor()\n",
    "#\n",
    "# Perform cross-validation to get MSE scores\n",
    "# mse_scores = -cross_val_score(rd, X, Y,\n",
    "#                              scoring='neg_mean_squared_error', cv=10)\n",
    "# mae scores = -cross_val_score(rf, X, Y, scoring='neg_mean_absolute_error', cv=10)\n",
    "# mape_scores = -cross_val_score(rf, X, Y, scoring='neg_mean_absolute_percentage_error', cv=10)\n",
    "# reg_metrics_new.loc[len(reg_metrics_new)] = ['DUMMY', mae_scores, mse_scores, mape_scores]\n",
    "\n",
    "# Print MSE scores and mean MSE\n",
    "print(f\"MSE Scores: {reg_metrics_new.loc[reg_metrics_new['Model']=='TREE','RMSE']}\")\n",
    "print(f\"Mean MSE: {np.mean(reg_metrics_new.loc[reg_metrics_new['Model']=='TREE','RMSE'])}\")"
   ]
  },
  {
   "cell_type": "code",
   "execution_count": null,
   "metadata": {},
   "outputs": [
    {
     "name": "stdout",
     "output_type": "stream",
     "text": [
      "MSE Scores: 20     71460.300822\n",
      "21      2614.444771\n",
      "22      9056.431882\n",
      "23     18295.489339\n",
      "24     79664.882892\n",
      "25    115332.611796\n",
      "26     22585.587333\n",
      "27      3356.054580\n",
      "28     18832.886933\n",
      "29      5342.390971\n",
      "Name: MSE, dtype: float64\n",
      "Mean MSE: 34654.108131846995\n"
     ]
    }
   ],
   "source": [
    "# Random Forest Regressor\n",
    "# Initialize a random forest regressor instance\n",
    "rf_kfolds = KFold(n_splits=10, shuffle=True)\n",
    "for train_idx, test_idx in rf_kfolds.split(X):\n",
    "    rf_regressor = RandomForestRegressor()\n",
    "    rf_regressor.fit(X.iloc[train_idx], Y.iloc[train_idx])\n",
    "    y_rf_reg = rf_regressor.predict(X.iloc[test_idx])\n",
    "    current_rf_mae = mean_absolute_error(Y.iloc[test_idx], y_rf_reg)\n",
    "    current_rf_mse = mean_squared_error(Y.iloc[test_idx], y_rf_reg)\n",
    "    current_rf_rmse = np.sqrt(current_rf_mse)\n",
    "    current_rf_mape = mean_absolute_percentage_error(Y.iloc[test_idx], y_rf_reg)\n",
    "    current_rf_r2 = r2_score(Y.iloc[test_idx], y_rf_reg)\n",
    "    reg_metrics_new.loc[len(reg_metrics_new)] = ['RF', current_rf_mae, current_rf_rmse, current_rf_mape, current_rf_r2]\n",
    "     \n",
    "# Dovrebbe essere lo stesso di fare:\n",
    "# dummy_regressor = DummyRegressor()\n",
    "\n",
    "# Perform cross-validation to get MSE scores\n",
    "# mse_scores = -cross_val_score(lin_regressor, X, Y,\n",
    "#                              scoring='neg_mean_squared_error', cv=10)\n",
    "# mae scores = -cross_val_score(lin_regressor, X, Y, scoring='neg_mean_absolute_error', cv=10)\n",
    "# mape_scores = -cross_val_score(lin_regressor, X, Y, scoring='neg_mean_absolute_percentage_error', cv=10)\n",
    "# reg_metrics_new.loc[len(reg_metrics_new)] = ['DUMMY', mae_scores, mse_scores, mape_scores]\n",
    "\n",
    "# Print MSE scores and mean MSE\n",
    "print(f\"MSE Scores: {reg_metrics_new.loc[reg_metrics_new['Model']=='RF','RMSE']}\")\n",
    "print(f\"Mean MSE: {np.mean(reg_metrics_new.loc[reg_metrics_new['Model']=='RF','RMSE'])}\")"
   ]
  },
  {
   "cell_type": "code",
   "execution_count": null,
   "metadata": {},
   "outputs": [
    {
     "name": "stdout",
     "output_type": "stream",
     "text": [
      "MSE Scores: 30      9809.563758\n",
      "31     14199.526897\n",
      "32      9450.528561\n",
      "33      4748.413685\n",
      "34       668.809123\n",
      "35      1714.192320\n",
      "36     23495.946437\n",
      "37     42355.168305\n",
      "38    158084.157176\n",
      "39     42868.105163\n",
      "Name: MSE, dtype: float64\n",
      "Mean MSE: 30739.44114257166\n"
     ]
    }
   ],
   "source": [
    "sv_kfolds = KFold(n_splits=10, shuffle=True)\n",
    "for train_idx, test_idx in sv_kfolds.split(X):\n",
    "    sv_regressor = SVR()\n",
    "    sv_regressor.fit(X.iloc[train_idx], Y.iloc[train_idx])\n",
    "    y_sv_reg = sv_regressor.predict(X.iloc[test_idx])\n",
    "    current_sv_mae = mean_absolute_error(Y.iloc[test_idx], y_sv_reg)\n",
    "    current_sv_mse = mean_squared_error(Y.iloc[test_idx], y_sv_reg)\n",
    "    current_sv_rmse = np.sqrt(current_sv_mse)\n",
    "    current_sv_mape = mean_absolute_percentage_error(Y.iloc[test_idx], y_sv_reg)\n",
    "    current_sv_r2 = r2_score(Y.iloc[test_idx], y_sv_reg)\n",
    "    reg_metrics_new.loc[len(reg_metrics_new)] = ['SVM', current_sv_mae, current_sv_rmse, current_sv_mape, current_sv_r2]\n",
    "\n",
    "# Dovrebbe essere lo stesso di fare:\n",
    "# sv_regressor = SVR()\n",
    "#\n",
    "# Perform cross-validation to get MSE scores\n",
    "# mse_scores = -cross_val_score(sv_regressor, X, Y,\n",
    "#                              scoring='neg_mean_squared_error', cv=10)\n",
    "# mae scores = -cross_val_score(sv_regressor, X, Y, scoring='neg_mean_absolute_error', cv=10)\n",
    "# mape_scores = -cross_val_score(sv_regressor, X, Y, scoring='neg_mean_absolute_percentage_error', cv=10)\n",
    "# reg_metrics_new.loc[len(reg_metrics_new)] = ['DUMMY', mae_scores, mse_scores, mape_scores]\n",
    "\n",
    "# Print MSE scores and mean MSE\n",
    "print(f\"MSE Scores: {reg_metrics_new.loc[reg_metrics_new['Model']=='SVM','RMSE']}\")\n",
    "print(f\"Mean MSE: {np.mean(reg_metrics_new.loc[reg_metrics_new['Model']=='SVM','RMSE'])}\")"
   ]
  },
  {
   "cell_type": "code",
   "execution_count": null,
   "metadata": {},
   "outputs": [
    {
     "name": "stdout",
     "output_type": "stream",
     "text": [
      "MSE Scores: 40     15315.091647\n",
      "41     14972.077008\n",
      "42     25834.279638\n",
      "43     46426.193466\n",
      "44     16032.039237\n",
      "45    121388.479160\n",
      "46    103711.483597\n",
      "47      4304.165867\n",
      "48     19954.236581\n",
      "49     13731.765026\n",
      "Name: MSE, dtype: float64\n",
      "Mean MSE: 38166.98112286088\n"
     ]
    }
   ],
   "source": [
    "knn_kfolds = KFold(n_splits=10, shuffle=True)\n",
    "for train_idx, test_idx in knn_kfolds.split(X):\n",
    "    knn_regressor = KNeighborsRegressor()\n",
    "    knn_regressor.fit(X.iloc[train_idx], Y.iloc[train_idx])\n",
    "    y_knn_reg = knn_regressor.predict(X.iloc[test_idx])\n",
    "    current_knn_mae = mean_absolute_error(Y.iloc[test_idx], y_knn_reg)\n",
    "    current_knn_mse = mean_squared_error(Y.iloc[test_idx], y_knn_reg)\n",
    "    current_knn_rmse = np.sqrt(current_knn_mse)\n",
    "    current_knn_mape = mean_absolute_percentage_error(Y.iloc[test_idx], y_knn_reg)\n",
    "    current_knn_r2 = r2_score(Y.iloc[test_idx], y_knn_reg)\n",
    "    reg_metrics_new.loc[len(reg_metrics_new)] = ['KNN', current_knn_mae, current_knn_mse, current_knn_mape, current_knn_r2]\n",
    "\n",
    "# Dovrebbe essere lo stesso di fare:\n",
    "# knn_regressor = KNeighborsRegressor()\n",
    "#\n",
    "# Perform cross-validation to get MSE scores\n",
    "# mse_scores = -cross_val_score(knn_regressor, X, Y,\n",
    "#                              scoring='neg_mean_squared_error', cv=10)\n",
    "# mae scores = -cross_val_score(knn_regressor, X, Y, scoring='neg_mean_absolute_error', cv=10)\n",
    "# mape_scores = -cross_val_score(knn_regressor, X, Y, scoring='neg_mean_absolute_percentage_error', cv=10)\n",
    "# reg_metrics_new.loc[len(reg_metrics_new)] = ['DUMMY', mae_scores, mse_scores, mape_scores]\n",
    "\n",
    "# Print MSE scores and mean MSE\n",
    "print(f\"MSE Scores: {reg_metrics_new.loc[reg_metrics_new['Model']=='KNN','RMSE']}\")\n",
    "print(f\"Mean MSE: {np.mean(reg_metrics_new.loc[reg_metrics_new['Model']=='KNN','RMSE'])}\")"
   ]
  },
  {
   "cell_type": "code",
   "execution_count": null,
   "metadata": {},
   "outputs": [
    {
     "data": {
      "image/png": "[encoded data removed]",
      "text/plain": [
       "<Figure size 1200x1000 with 4 Axes>"
      ]
     },
     "metadata": {},
     "output_type": "display_data"
    }
   ],
   "source": [
    "fig, axs = plt.subplots(2, 2, figsize=(12, 10))\n",
    "sns.boxplot(data=reg_metrics_new, x=\"MAE\", y=\"Model\", ax=axs[0, 0], palette=sns.color_palette('Paired')[1::2])\n",
    "sns.boxplot(data=reg_metrics_new, x=\"RMSE\", y=\"Model\", ax=axs[0, 1], palette=sns.color_palette('Paired')[1::2])\n",
    "sns.boxplot(data=reg_metrics_new, x=\"MAPE\", y=\"Model\", ax=axs[1, 0], palette=sns.color_palette('Paired')[1::2])\n",
    "sns.boxplot(data=reg_metrics_new, x=\"R2\", y=\"Model\", ax=axs[1, 1], palette=sns.color_palette('Paired')[1::2])\n",
    "\n",
    "\n",
    "plt.tight_layout()\n",
    "plt.show()"
   ]
  }
 ],
 "metadata": {
  "kernelspec": {
   "display_name": "base",
   "language": "python",
   "name": "python3"
  },
  "language_info": {
   "codemirror_mode": {
    "name": "ipython",
    "version": 3
   },
   "file_extension": ".py",
   "mimetype": "text/x-python",
   "name": "python",
   "nbconvert_exporter": "python",
   "pygments_lexer": "ipython3",
   "version": "3.9.18"
  }
 },
 "nbformat": 4,
 "nbformat_minor": 2
}
