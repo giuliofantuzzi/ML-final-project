{
 "cells": [
  {
   "cell_type": "markdown",
   "metadata": {},
   "source": [
    "# Hyperparameter tuning"
   ]
  },
  {
   "cell_type": "code",
   "execution_count": 51,
   "metadata": {},
   "outputs": [],
   "source": [
    "import pandas as pd\n",
    "import numpy as np\n",
    "import seaborn as sns\n",
    "import math\n",
    "import matplotlib.pyplot as plt\n",
    "from sklearn.preprocessing import StandardScaler\n",
    "from sklearn.model_selection import KFold\n",
    "from sklearn.model_selection import train_test_split\n",
    "from sklearn.ensemble import RandomForestRegressor\n",
    "from sklearn.tree import DecisionTreeRegressor\n",
    "from sklearn.svm import SVR\n",
    "from sklearn.dummy import DummyRegressor\n",
    "from sklearn.neighbors import KNeighborsRegressor\n",
    "from sklearn.metrics import mean_squared_error, mean_absolute_error, mean_absolute_percentage_error, r2_score\n",
    "from sklearn.model_selection import GridSearchCV\n",
    "import itertools\n",
    "import pandas as pd\n",
    "from sklearn.model_selection import train_test_split, GridSearchCV\n",
    "from sklearn.preprocessing import StandardScaler\n",
    "from sklearn.neighbors import KNeighborsRegressor\n",
    "from sklearn.metrics import make_scorer, mean_absolute_error"
   ]
  },
  {
   "cell_type": "code",
   "execution_count": 11,
   "metadata": {},
   "outputs": [],
   "source": [
    "data = pd.read_csv('../../datasets/data-stemmed-R.csv')\n",
    "Y = data['engagement.rate']\n",
    "X = data.drop(columns=['engagement.rate'])\n",
    "scaler = StandardScaler()\n",
    "X = scaler.fit_transform(X)\n",
    "X = pd.DataFrame(X)\n"
   ]
  },
  {
   "cell_type": "markdown",
   "metadata": {},
   "source": [
    "**DISCLAIMER:** we want a robust result about the optimal hyperparameters, so we are going to implement a CV. \n",
    "Since our future models will be trained in training sets with size $\\frac{9}{10}|D|$, we can do hyperparameter tuning with CV on the entire dataset (in order to mantain the same proportion)"
   ]
  },
  {
   "cell_type": "markdown",
   "metadata": {},
   "source": [
    "# Decision tree"
   ]
  },
  {
   "cell_type": "code",
   "execution_count": 65,
   "metadata": {},
   "outputs": [],
   "source": [
    "param_grid = {'min_samples_split': [2, 11, 16, 26,31, 51, 101, 151, 201,501]}\n",
    "# Create RegressorTree\n",
    "dt = DecisionTreeRegressor()\n",
    "\n",
    "# Use GridSearchCV to find the best hyperparameters\n",
    "grid_search = GridSearchCV(dt, param_grid, cv=10, scoring=\"neg_mean_absolute_error\")\n",
    "grid_search.fit(X, Y)\n",
    "\n",
    "# Print the best hyperparameters\n",
    "dt_best_params = grid_search.best_params_"
   ]
  },
  {
   "cell_type": "code",
   "execution_count": 69,
   "metadata": {},
   "outputs": [
    {
     "name": "stdout",
     "output_type": "stream",
     "text": [
      "Decision trees Best hyperparameters: {'min_samples_split': 101}\n"
     ]
    }
   ],
   "source": [
    "print(f\"Decision trees Best hyperparameters: {dt_best_params}\")"
   ]
  },
  {
   "cell_type": "markdown",
   "metadata": {},
   "source": [
    "# Knn"
   ]
  },
  {
   "cell_type": "code",
   "execution_count": 71,
   "metadata": {},
   "outputs": [],
   "source": [
    "# Define the range of neighbors\n",
    "param_grid = {'n_neighbors': [5, 10, 15, 20, 50, 100]}\n",
    "\n",
    "# Create KNeighborsRegressor\n",
    "knn = KNeighborsRegressor()\n",
    "\n",
    "# Use GridSearchCV to find the best hyperparameters\n",
    "grid_search = GridSearchCV(knn, param_grid, cv=10, scoring=\"neg_mean_absolute_error\")\n",
    "grid_search.fit(X, Y)\n",
    "\n",
    "# Print the best hyperparameters\n",
    "knn_best_params = grid_search.best_params_"
   ]
  },
  {
   "cell_type": "code",
   "execution_count": 72,
   "metadata": {},
   "outputs": [
    {
     "name": "stdout",
     "output_type": "stream",
     "text": [
      "KNN Best hyperparameters: {'n_neighbors': 50}\n"
     ]
    }
   ],
   "source": [
    "print(f\"KNN Best hyperparameters: {knn_best_params}\")"
   ]
  },
  {
   "cell_type": "markdown",
   "metadata": {},
   "source": [
    "# Random Forest"
   ]
  },
  {
   "cell_type": "code",
   "execution_count": null,
   "metadata": {},
   "outputs": [],
   "source": [
    "n_estimators= [100, 250, 500]\n",
    "min_samples_split= [2, 11, 26, 51] #corrisponde a 1+n_min di medvet\n",
    "max_features= [math.floor(math.sqrt(X.shape[1])), X.shape[1] // 3]\n",
    "\n",
    "param_grid = {\n",
    "    'n_estimators': n_estimators,\n",
    "    'min_samples_split': min_samples_split,\n",
    "    'max_features': max_features\n",
    "}\n",
    "\n",
    "# Create KNeighborsRegressor\n",
    "rf = RandomForestRegressor()\n",
    "\n",
    "# Use GridSearchCV to find the best hyperparameters\n",
    "grid_search = GridSearchCV(rf, param_grid, cv=10, scoring=\"neg_mean_absolute_error\")\n",
    "grid_search.fit(X, Y)\n",
    "\n",
    "# Print the best hyperparameters\n",
    "rf_best_params = grid_search.best_params_"
   ]
  },
  {
   "cell_type": "code",
   "execution_count": 62,
   "metadata": {},
   "outputs": [
    {
     "name": "stdout",
     "output_type": "stream",
     "text": [
      "Random forest Best hyperparameters: {'max_features': 94, 'min_samples_split': 2, 'n_estimators': 500}\n"
     ]
    }
   ],
   "source": [
    "print(f\"Random forest Best hyperparameters: {rf_best_params}\")"
   ]
  },
  {
   "cell_type": "markdown",
   "metadata": {},
   "source": [
    "# SVR"
   ]
  },
  {
   "cell_type": "code",
   "execution_count": 75,
   "metadata": {},
   "outputs": [],
   "source": [
    "param_grid = {'kernel': ['linear', 'poly', 'rbf']}\n",
    "\n",
    "sv = SVR()\n",
    "\n",
    "# Use GridSearchCV to find the best hyperparameters\n",
    "grid_search = GridSearchCV(sv, param_grid, cv=10, scoring=\"neg_mean_absolute_error\")\n",
    "grid_search.fit(X, Y)\n",
    "\n",
    "# Print the best hyperparameters\n",
    "sv_best_params = grid_search.best_params_"
   ]
  },
  {
   "cell_type": "code",
   "execution_count": 76,
   "metadata": {},
   "outputs": [
    {
     "name": "stdout",
     "output_type": "stream",
     "text": [
      "SVR best kernel: {'kernel': 'rbf'}\n"
     ]
    }
   ],
   "source": [
    "print(f\"SVR best kernel: {sv_best_params}\")"
   ]
  }
 ],
 "metadata": {
  "kernelspec": {
   "display_name": "base",
   "language": "python",
   "name": "python3"
  },
  "language_info": {
   "codemirror_mode": {
    "name": "ipython",
    "version": 3
   },
   "file_extension": ".py",
   "mimetype": "text/x-python",
   "name": "python",
   "nbconvert_exporter": "python",
   "pygments_lexer": "ipython3",
   "version": "3.11.5"
  }
 },
 "nbformat": 4,
 "nbformat_minor": 2
}
