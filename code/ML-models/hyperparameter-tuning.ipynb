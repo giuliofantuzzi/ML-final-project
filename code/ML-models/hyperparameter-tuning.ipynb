{
 "cells": [
  {
   "cell_type": "markdown",
   "metadata": {},
   "source": [
    "# Hyperparameter tuning"
   ]
  },
  {
   "cell_type": "code",
   "execution_count": 2,
   "metadata": {},
   "outputs": [],
   "source": [
    "import pandas as pd\n",
    "import numpy as np\n",
    "import seaborn as sns\n",
    "import math\n",
    "import matplotlib.pyplot as plt\n",
    "from sklearn.preprocessing import StandardScaler, MinMaxScaler\n",
    "from sklearn.model_selection import KFold\n",
    "from sklearn.model_selection import train_test_split\n",
    "from sklearn.ensemble import RandomForestRegressor\n",
    "from sklearn.tree import DecisionTreeRegressor\n",
    "from sklearn.svm import SVR\n",
    "from sklearn.dummy import DummyRegressor\n",
    "from sklearn.neighbors import KNeighborsRegressor\n",
    "from sklearn.metrics import mean_squared_error, mean_absolute_error, mean_absolute_percentage_error, r2_score\n",
    "from sklearn.model_selection import GridSearchCV\n",
    "import itertools\n",
    "import pandas as pd\n",
    "from sklearn.model_selection import train_test_split, GridSearchCV\n",
    "from sklearn.preprocessing import StandardScaler\n",
    "from sklearn.neighbors import KNeighborsRegressor\n",
    "from sklearn.metrics import make_scorer, mean_absolute_error\n",
    "from sklearn.metrics import make_scorer\n",
    "import pickle"
   ]
  },
  {
   "cell_type": "code",
   "execution_count": 3,
   "metadata": {},
   "outputs": [],
   "source": [
    "data = pd.read_csv('../../datasets/data-stemmed-R.csv')\n",
    "Y = data['engagement.rate']\n",
    "X = data.drop(columns=['engagement.rate'])\n",
    "columns_to_scale= ['quotes','user.tweets','user.following','user.media'] \n",
    "scaler = StandardScaler()\n",
    "X[columns_to_scale]= scaler.fit_transform(X[columns_to_scale]) "
   ]
  },
  {
   "cell_type": "code",
   "execution_count": null,
   "metadata": {},
   "outputs": [],
   "source": [
    "X.head()"
   ]
  },
  {
   "cell_type": "code",
   "execution_count": 4,
   "metadata": {},
   "outputs": [],
   "source": [
    "def rmse_scorer(y_true, y_pred):\n",
    "    mse = np.mean((y_true - y_pred) ** 2)\n",
    "    rmse = np.sqrt(mse)\n",
    "    return -rmse  # Negate the result for GridSearchCV"
   ]
  },
  {
   "cell_type": "markdown",
   "metadata": {},
   "source": [
    "**DISCLAIMER:** we want a robust result about the optimal hyperparameters, so we are going to implement a CV. \n",
    "Since our future models will be trained in training sets with size $\\frac{9}{10}|D|$, we can do hyperparameter tuning with CV on the entire dataset (in order to mantain the same proportion)"
   ]
  },
  {
   "cell_type": "markdown",
   "metadata": {},
   "source": [
    "# Decision tree"
   ]
  },
  {
   "cell_type": "code",
   "execution_count": null,
   "metadata": {},
   "outputs": [],
   "source": [
    "rt_param_grid = {'min_samples_split': [2, 11, 16, 26,31, 51, 101, 151, 201,501]}\n",
    "# Create RegressorTree\n",
    "rt = DecisionTreeRegressor()\n",
    "\n",
    "# Use GridSearchCV to find the best hyperparameters\n",
    "rt_grid_search = GridSearchCV(rt, rt_param_grid, cv=10, scoring=make_scorer(rmse_scorer),n_jobs=-1)\n",
    "rt_grid_search.fit(X, Y)\n",
    "\n",
    "# Print the best hyperparameters\n",
    "rt_best_params = rt_grid_search.best_params_"
   ]
  },
  {
   "cell_type": "code",
   "execution_count": null,
   "metadata": {},
   "outputs": [],
   "source": [
    "print(f\"Regression tree Best hyperparameters: {rt_best_params}\")"
   ]
  },
  {
   "cell_type": "code",
   "execution_count": null,
   "metadata": {},
   "outputs": [],
   "source": [
    "# Save the best parameters to a file using pickle\n",
    "with open('parameters/rt_grid_search.pkl', 'wb') as file:\n",
    "    pickle.dump(rt_grid_search, file)"
   ]
  },
  {
   "cell_type": "code",
   "execution_count": null,
   "metadata": {},
   "outputs": [],
   "source": [
    "import os\n",
    "print(os.path.isfile('parameters/rt_grid_search.pkl'))"
   ]
  },
  {
   "cell_type": "code",
   "execution_count": 10,
   "metadata": {},
   "outputs": [],
   "source": [
    "import pickle\n",
    "\n",
    "try:\n",
    "    with open('parameters/rt_grid_search.pkl', 'rb') as file:\n",
    "        rt_grid_search = pickle.load(file)\n",
    "except Exception as e:\n",
    "    print(f\"Error: {e}\")"
   ]
  },
  {
   "cell_type": "code",
   "execution_count": null,
   "metadata": {},
   "outputs": [],
   "source": [
    "# Get the results in a DataFrame\n",
    "rt_results = pd.DataFrame(rt_grid_search.cv_results_)\n",
    "sns.set(style=\"whitegrid\")\n",
    "# Plot MAE vs n_neighbors using Seaborn\n",
    "fig=plt.figure(figsize=(5.5, 4))\n",
    "sns.lineplot(x=rt_results['param_min_samples_split'], y=-rt_results['mean_test_score']-1,color='navy')\n",
    "\n",
    "# Highlight the best parameter\n",
    "rt_best_param = rt_grid_search.best_params_['min_samples_split']\n",
    "plt.axvline(x=rt_best_param, color='red', linestyle='--', label=f'Best n_min: {rt_best_param-1}')\n",
    "\n",
    "# Add labels and title\n",
    "plt.xlabel('n_min')\n",
    "plt.ylabel('Root mean squared error (RMSE)')\n",
    "#plt.title('RMSE vs min_samples_split with GridSearchCV')\n",
    "plt.legend(loc='upper right')\n",
    "\n",
    "# Show the plot\n",
    "plt.show()\n",
    "# Save the plot as png\n",
    "#fig.savefig('../../plots/dt_grid_search.png')"
   ]
  },
  {
   "cell_type": "markdown",
   "metadata": {},
   "source": [
    "# Knn"
   ]
  },
  {
   "cell_type": "code",
   "execution_count": null,
   "metadata": {},
   "outputs": [],
   "source": [
    "# Define the range of neighbors\n",
    "knn_param_grid = {'n_neighbors': [1, 2, 5, 10, 15, 20, 50, 100]}\n",
    "\n",
    "# Create KNeighborsRegressor\n",
    "knn = KNeighborsRegressor()\n",
    "\n",
    "# Use GridSearchCV to find the best hyperparameters\n",
    "knn_grid_search = GridSearchCV(knn, knn_param_grid, cv=10, scoring=make_scorer(rmse_scorer),n_jobs=-1)\n",
    "knn_grid_search.fit(X, Y)\n",
    "\n",
    "# Print the best hyperparameters\n",
    "knn_best_params = knn_grid_search.best_params_"
   ]
  },
  {
   "cell_type": "code",
   "execution_count": null,
   "metadata": {},
   "outputs": [],
   "source": [
    "print(f\"KNN Best hyperparameters: {knn_best_params}\")"
   ]
  },
  {
   "cell_type": "code",
   "execution_count": null,
   "metadata": {},
   "outputs": [],
   "source": [
    "# Save the best parameters to a file using pickle\n",
    "with open('parameters/knn_grid_search.pkl', 'wb') as file:\n",
    "    pickle.dump(knn_grid_search, file)"
   ]
  },
  {
   "cell_type": "code",
   "execution_count": 12,
   "metadata": {},
   "outputs": [],
   "source": [
    "with open('parameters/knn_grid_search.pkl', 'rb') as file:\n",
    "        knn_grid_search = pickle.load(file)"
   ]
  },
  {
   "cell_type": "code",
   "execution_count": 13,
   "metadata": {},
   "outputs": [
    {
     "name": "stdout",
     "output_type": "stream",
     "text": [
      "{'n_neighbors': 20}\n"
     ]
    }
   ],
   "source": [
    "print(knn_grid_search.best_params_)"
   ]
  },
  {
   "cell_type": "code",
   "execution_count": null,
   "metadata": {},
   "outputs": [],
   "source": [
    "# Get the results in a DataFrame\n",
    "knn_results = pd.DataFrame(knn_grid_search.cv_results_)\n",
    "\n",
    "# Plot MAE vs n_neighbors using Seaborn\n",
    "fig=plt.figure(figsize=(5.5, 4))\n",
    "sns.lineplot(x=knn_results['param_n_neighbors'], y=-knn_results['mean_test_score'],color='navy')\n",
    "\n",
    "# Highlight the best parameter\n",
    "knn_best_param = knn_grid_search.best_params_['n_neighbors']\n",
    "plt.axvline(x=knn_best_param, color='red', linestyle='--', label=f'Best n_neighbors: {knn_best_param}')\n",
    "\n",
    "# Add labels and title\n",
    "plt.xlabel('Number of Neighbors (n_neighbors)')\n",
    "plt.ylabel('Root Mean Squared Error (RMSE)')\n",
    "#plt.title('RMSE vs n_neighbors with GridSearchCV')\n",
    "plt.legend()\n",
    "\n",
    "# Show the plot\n",
    "plt.show()\n",
    "# Save the plot as png\n",
    "#fig.savefig('../../plots/knn_grid_search.png')"
   ]
  },
  {
   "cell_type": "markdown",
   "metadata": {},
   "source": [
    "# Random Forest"
   ]
  },
  {
   "cell_type": "code",
   "execution_count": null,
   "metadata": {},
   "outputs": [],
   "source": [
    "n_estimators= [10,15,25,50,75,100, 250, 500]\n",
    "min_samples_split= [2, 11, 26, 51,76,101] #corrisponde a 1+n_min di medvet\n",
    "max_features= [math.floor(math.sqrt(X.shape[1])), X.shape[1] // 3]\n",
    "\n",
    "rf_param_grid = {\n",
    "    'n_estimators': n_estimators,\n",
    "    'min_samples_split': min_samples_split,\n",
    "    'max_features': [X.shape[1] // 3]\n",
    "}\n",
    "\n",
    "# Create KNeighborsRegressor\n",
    "rf = RandomForestRegressor(n_jobs=-1) #n_jobs=-1 means that the computation will be dispatched on all the CPUs of the computer.\n",
    "\n",
    "# Use GridSearchCV to find the best hyperparameters\n",
    "rf_grid_search = GridSearchCV(rf, rf_param_grid, cv=10, scoring=make_scorer(rmse_scorer),n_jobs=-1)\n",
    "rf_grid_search.fit(X, Y)\n",
    "\n",
    "# Print the best hyperparameters\n",
    "rf_best_params = rf_grid_search.best_params_"
   ]
  },
  {
   "cell_type": "code",
   "execution_count": null,
   "metadata": {},
   "outputs": [],
   "source": [
    "print(f\"Random forest Best hyperparameters: {rf_best_params}\")"
   ]
  },
  {
   "cell_type": "code",
   "execution_count": null,
   "metadata": {},
   "outputs": [],
   "source": [
    "# Save the best parameters to a file using pickle\n",
    "with open('parameters/rf_grid_search.pkl', 'wb') as file:\n",
    "    pickle.dump(rf_grid_search, file)"
   ]
  },
  {
   "cell_type": "code",
   "execution_count": null,
   "metadata": {},
   "outputs": [],
   "source": [
    "try:\n",
    "    with open('parameters/rf_grid_search.pkl', 'rb') as file:\n",
    "        rf_grid_search = pickle.load(file)\n",
    "except Exception as e:\n",
    "    print(f\"Error: {e}\")"
   ]
  },
  {
   "cell_type": "code",
   "execution_count": null,
   "metadata": {},
   "outputs": [],
   "source": [
    "# Get the results in a DataFrame\n",
    "rf_results = pd.DataFrame(rf_grid_search.cv_results_)\n",
    "\n",
    "# Create a 1x3 matrix of subplots\n",
    "fig, axes = plt.subplots(1, 3, figsize=(18, 6))\n",
    "\n",
    "# Plot MAE vs n_estimators\n",
    "sns.lineplot(x='param_n_estimators', y=-rf_results['mean_test_score'],\n",
    "             data=rf_results, ax=axes[0],errorbar=None,linewidth = 2.5,\n",
    "             color='navy')\n",
    "axes[0].set_xlabel('Number of Estimators (n_estimators)')\n",
    "axes[0].set_ylabel('Root Mean Squared Error (RMSE)')\n",
    "axes[0].set_title('RMSE vs n_estimators with GridSearchCV')\n",
    "\n",
    "# Plot MAE vs min_samples_split\n",
    "sns.lineplot(x='param_min_samples_split', y=-rf_results['mean_test_score'],\n",
    "             data=rf_results, ax=axes[1],errorbar=None,linewidth = 2.5,\n",
    "             color='#FF5733')\n",
    "axes[1].set_xlabel('Minimum Samples Split (min_samples_split)')\n",
    "axes[1].set_ylabel('Root Mean Squared Error (RMSE)')\n",
    "axes[1].set_title('RMSE vs min_samples_split with GridSearchCV')\n",
    "\n",
    "# Plot MAE vs max_features\n",
    "sns.barplot(x='param_max_features', y=-rf_results['mean_test_score'],\n",
    "             data=rf_results, ax=axes[2],errorbar=None,\n",
    "             color='#900C3F',width=0.02)\n",
    "axes[2].set_xlabel('Maximum Features (max_features)')\n",
    "axes[2].set_ylabel('Root Mean Squared Error (RMSE)')\n",
    "axes[2].set_title('RMSE vs max_features with GridSearchCV')\n",
    "\n",
    "# Adjust layout for better spacing\n",
    "plt.tight_layout()\n",
    "\n",
    "# Show the plots\n",
    "plt.show()\n",
    "# Save the plot as png\n",
    "fig.savefig('../../plots/rf_grid_search.png')"
   ]
  },
  {
   "cell_type": "code",
   "execution_count": null,
   "metadata": {},
   "outputs": [],
   "source": [
    "# Extracting necessary columns\n",
    "desired_columns = ['param_n_estimators', 'param_min_samples_split', 'param_max_features', 'mean_test_score']\n",
    "extracted_data = rf_results[desired_columns].copy()\n",
    "\n",
    "# Renaming columns for clarity\n",
    "extracted_data.columns = ['n_estimators', 'min_samples_split', 'max_features', 'rmse']\n",
    "\n",
    "# Converting negative mean test scores to positive MAE\n",
    "extracted_data['rmse'] = -extracted_data['rmse']\n",
    "\n",
    "extracted_data=extracted_data[extracted_data['max_features']==X.shape[1] // 3]"
   ]
  },
  {
   "cell_type": "code",
   "execution_count": null,
   "metadata": {},
   "outputs": [],
   "source": [
    "import matplotlib.pyplot as plt\n",
    "from mpl_toolkits.mplot3d import Axes3D\n",
    "import seaborn as sns\n",
    "\n",
    "# Assuming extracted_data is your DataFrame\n",
    "sns.set(style=\"whitegrid\")\n",
    "fig = plt.figure(figsize=(8, 7))\n",
    "ax = fig.add_subplot(111, projection='3d')\n",
    "\n",
    "# Scatter plot\n",
    "scatter = ax.scatter(extracted_data['n_estimators'], extracted_data['min_samples_split'], extracted_data['rmse'],\n",
    "                     c=extracted_data['rmse'], cmap='plasma', s=50)\n",
    "\n",
    "# Customize the plot\n",
    "ax.set_xlabel('n_estimators', labelpad=10, fontsize=9, fontweight='bold')\n",
    "ax.set_ylabel('min_samples_split', labelpad=10, fontsize=9, fontweight='bold')\n",
    "ax.set_zlabel('RMSE', labelpad=5, fontsize=9, fontweight='bold')\n",
    "ax.set_title('RMSE vs n_estimators and min_samples_split',\n",
    "             fontsize=15, fontweight='bold')\n",
    "\n",
    "# Add a colorbar\n",
    "cbar = plt.colorbar(scatter, ax=ax, label='RMSE', shrink=0.3, pad=.12)\n",
    "\n",
    "# Change the perspective\n",
    "ax.view_init(elev=30, azim=-40)  # Adjust the elevation and azimuthal angle as needed\n",
    "\n",
    "# Show the plot\n",
    "plt.show()\n",
    "#save as image\n",
    "fig.savefig('../../plots/rmse_vs_n_estimators_and_min_samples_split_POINTS.png')\n",
    "\n"
   ]
  },
  {
   "cell_type": "code",
   "execution_count": null,
   "metadata": {},
   "outputs": [],
   "source": [
    "import matplotlib.pyplot as plt\n",
    "from mpl_toolkits.mplot3d import Axes3D\n",
    "from mpl_toolkits.mplot3d.art3d import Poly3DCollection\n",
    "import seaborn as sns\n",
    "\n",
    "# Assuming extracted_data is your DataFrame\n",
    "sns.set(style=\"whitegrid\")\n",
    "fig = plt.figure(figsize=(8, 7))\n",
    "ax = fig.add_subplot(111, projection='3d')\n",
    "\n",
    "# Create a continuous surface\n",
    "surf = ax.plot_trisurf(extracted_data['n_estimators'], extracted_data['min_samples_split']-1,\n",
    "                       extracted_data['rmse'], cmap='plasma', linewidth=0, antialiased=True)\n",
    "\n",
    "# Customize the plot\n",
    "ax.set_xlabel('n_tree', labelpad=5, fontsize=12, fontweight='bold')\n",
    "ax.set_ylabel('n_min', labelpad=5, fontsize=12, fontweight='bold')\n",
    "# for z label i want the label text over the values\n",
    "ax.set_zlabel('RMSE', labelpad=5, fontsize=11, fontweight='bold', rotation=90)\n",
    "#ax.set_title('RMSE vs n_tree and n_min',fontsize=15, fontweight='bold')\n",
    "\n",
    "# Add a colorbar\n",
    "cbar = plt.colorbar(surf, ax=ax, label='RMSE', shrink=0.3, pad=.11)\n",
    "ax.view_init(elev=15, azim=-45) \n",
    "# Show the plot\n",
    "plt.show()\n",
    "plt.tight_layout()\n",
    "#save as image\n",
    "fig.savefig('../../plots/rmse_vs_n_estimators_and_min_samples_split_SURFACE.png')\n"
   ]
  },
  {
   "cell_type": "markdown",
   "metadata": {},
   "source": [
    "# SVR"
   ]
  },
  {
   "cell_type": "markdown",
   "metadata": {},
   "source": [
    "NB: instead of using the custom RMSE, we use neg_mean_squared_error as scoring ad later we'll compute its sqrt"
   ]
  },
  {
   "cell_type": "markdown",
   "metadata": {},
   "source": [
    "**Without scaling vars, svr is an asshole!**"
   ]
  },
  {
   "cell_type": "code",
   "execution_count": null,
   "metadata": {},
   "outputs": [],
   "source": [
    "svr_param_grid = {'kernel': ['linear', 'poly', 'rbf']}\n",
    "\n",
    "svr = SVR()\n",
    "\n",
    "# Use GridSearchCV to find the best hyperparameters\n",
    "svr_grid_search = GridSearchCV(svr, svr_param_grid, cv=10, scoring=make_scorer(rmse_scorer),n_jobs=-1)\n",
    "svr_grid_search.fit(X, Y)\n",
    "\n",
    "# Print the best hyperparameters\n",
    "svr_best_params = svr_grid_search.best_params_"
   ]
  },
  {
   "cell_type": "code",
   "execution_count": null,
   "metadata": {},
   "outputs": [],
   "source": [
    "print(f\"SVR best kernel: {svr_best_params}\")"
   ]
  },
  {
   "cell_type": "code",
   "execution_count": null,
   "metadata": {},
   "outputs": [],
   "source": [
    "# Save the best parameters to a file using pickle\n",
    "with open('parameters/svr_grid_search.pkl', 'wb') as file:\n",
    "    pickle.dump(svr_grid_search, file)"
   ]
  },
  {
   "cell_type": "code",
   "execution_count": null,
   "metadata": {},
   "outputs": [],
   "source": [
    "try:\n",
    "    with open('parameters/svr_grid_search.pkl', 'rb') as file:\n",
    "        svr_grid_search = pickle.load(file)\n",
    "except Exception as e:\n",
    "    print(f\"Error: {e}\")"
   ]
  },
  {
   "cell_type": "code",
   "execution_count": null,
   "metadata": {},
   "outputs": [],
   "source": [
    "# Get the results in a DataFrame\n",
    "svr_results = pd.DataFrame(svr_grid_search.cv_results_)\n",
    "\n",
    "# Plot MAE vs n_neighbors using Seaborn\n",
    "fig=plt.figure(figsize=(11,5))\n",
    "sns.barplot(x=svr_results['param_kernel'], y=-svr_results['mean_test_score'],color='navy',\n",
    "          errorbar=None,width=0.02)\n",
    "# # Add labels and title\n",
    "plt.xlabel('Kernel type')\n",
    "plt.ylabel('Root mean squared error (RMSE)')\n",
    "plt.title('RMSE vs kernel type with GridSearchCV')\n",
    "# Show the plot\n",
    "plt.show()\n",
    "# Save figure as png\n",
    "#fig.savefig('../../plots/svr_grid_search.png')"
   ]
  },
  {
   "cell_type": "markdown",
   "metadata": {},
   "source": [
    "## (1) SVR linear"
   ]
  },
  {
   "cell_type": "code",
   "execution_count": null,
   "metadata": {},
   "outputs": [],
   "source": [
    "svr_linear_param_grid = {'C': [0.001,0.003,0.005,0.01,0.03,0.05]}\n",
    "svr_linear = SVR(kernel='linear')\n",
    "\n",
    "# Use GridSearchCV to find the best hyperparameters\n",
    "svr_linear_grid_search = GridSearchCV(svr_linear, svr_linear_param_grid, cv=10, scoring=make_scorer(rmse_scorer),n_jobs=-1)\n",
    "svr_linear_grid_search.fit(X, Y)\n",
    "\n",
    "# Print the best hyperparameters\n",
    "svr_linear_best_params = svr_linear_grid_search.best_params_"
   ]
  },
  {
   "cell_type": "code",
   "execution_count": null,
   "metadata": {},
   "outputs": [],
   "source": [
    "print(f\"SVR linear best parameter: {svr_linear_best_params}\")"
   ]
  },
  {
   "cell_type": "code",
   "execution_count": null,
   "metadata": {},
   "outputs": [],
   "source": [
    "# Save the best parameters to a file using pickle\n",
    "with open('parameters/svr_linear_grid_search.pkl', 'wb') as file:\n",
    "    pickle.dump(svr_linear_grid_search, file)"
   ]
  },
  {
   "cell_type": "code",
   "execution_count": 14,
   "metadata": {},
   "outputs": [],
   "source": [
    "try:\n",
    "    with open('parameters/svr_linear_grid_search.pkl', 'rb') as file:\n",
    "        svr_linear_grid_search = pickle.load(file)\n",
    "except Exception as e:\n",
    "    print(f\"Error: {e}\")"
   ]
  },
  {
   "cell_type": "code",
   "execution_count": null,
   "metadata": {},
   "outputs": [],
   "source": [
    "# Get the results in a DataFrame\n",
    "svr_linear_results = pd.DataFrame(svr_linear_grid_search.cv_results_)\n",
    "\n",
    "# Plot MAE vs n_neighbors using Seaborn\n",
    "fig=plt.figure(figsize=(5.5, 4))\n",
    "sns.lineplot(x=svr_linear_results['param_C'], y=-(svr_linear_results['mean_test_score']),color='navy')\n",
    "\n",
    "# Highlight the best parameter\n",
    "svr_linear_best_param = svr_linear_grid_search.best_params_['C']\n",
    "plt.axvline(x=svr_linear_best_param, color='red', linestyle='--', label=f'Best C: {svr_linear_best_param}')\n",
    "\n",
    "# Add labels and title\n",
    "plt.xlabel('Regularization parameter (C)')\n",
    "plt.ylabel('Root Mean Squared Error (RMSE)')\n",
    "#plt.title('RMSE vs n_neighbors with GridSearchCV')\n",
    "plt.legend()\n",
    "\n",
    "# Show the plot\n",
    "plt.show()\n",
    "# Save the plot as png\n",
    "fig.savefig('../../plots/svr_linear_grid_search.png')"
   ]
  },
  {
   "cell_type": "markdown",
   "metadata": {},
   "source": [
    "## (2) SVR poly"
   ]
  },
  {
   "cell_type": "code",
   "execution_count": null,
   "metadata": {},
   "outputs": [],
   "source": [
    "svr_poly_param_grid = {'C': [0.001,0.005,0.03,0.05,0.1],\n",
    "                       'degree' : [2, 3, 4, 5, 6, 7]\n",
    "                       }\n",
    "\n",
    "svr_poly= SVR(kernel='poly')\n",
    "\n",
    "# Use GridSearchCV to find the best hyperparameters\n",
    "svr_poly_grid_search = GridSearchCV(svr_poly, svr_poly_param_grid, cv=10, scoring= make_scorer(rmse_scorer),n_jobs=-1)\n",
    "svr_poly_grid_search.fit(X, Y)\n",
    "\n",
    "# Print the best hyperparameters\n",
    "svr_poly_best_params = svr_poly_grid_search.best_params_\n",
    "print(f\"SVR poly best parameter: {svr_poly_best_params}\")"
   ]
  },
  {
   "cell_type": "code",
   "execution_count": null,
   "metadata": {},
   "outputs": [],
   "source": [
    "# Save the best parameters to a file using pickle\n",
    "with open('parameters/svr_poly_grid_search.pkl', 'wb') as file:\n",
    "    pickle.dump(svr_poly_grid_search, file)"
   ]
  },
  {
   "cell_type": "code",
   "execution_count": 16,
   "metadata": {},
   "outputs": [],
   "source": [
    "with open('parameters/svr_poly_grid_search.pkl', 'rb') as file:\n",
    "    svr_poly_grid_search = pickle.load(file)"
   ]
  },
  {
   "cell_type": "code",
   "execution_count": 17,
   "metadata": {},
   "outputs": [
    {
     "data": {
      "text/plain": [
       "{'C': 0.1, 'degree': 2}"
      ]
     },
     "execution_count": 17,
     "metadata": {},
     "output_type": "execute_result"
    }
   ],
   "source": [
    "svr_poly_grid_search.best_params_"
   ]
  },
  {
   "cell_type": "code",
   "execution_count": null,
   "metadata": {},
   "outputs": [],
   "source": [
    "import matplotlib.pyplot as plt\n",
    "from mpl_toolkits.mplot3d import Axes3D\n",
    "import seaborn as sns\n",
    "\n",
    "# Assuming svr_poly_results is your DataFrame\n",
    "sns.set(style=\"whitegrid\")\n",
    "\n",
    "# Create a 3D plot\n",
    "fig = plt.figure(figsize=(10, 8))\n",
    "ax = fig.add_subplot(111, projection='3d')\n",
    "\n",
    "\n",
    "# Create a continuous surface\n",
    "surf = ax.plot_trisurf(svr_poly_results['param_C'], svr_poly_results['param_degree'], -svr_poly_results['mean_test_score'],\n",
    "                     cmap='plasma', linewidth=0, antialiased=True)\n",
    "\n",
    "# Customize the plot\n",
    "ax.set_xlabel('Regularization parameter (C)', labelpad=10, fontsize=12, fontweight='bold')\n",
    "ax.set_ylabel('Degree', labelpad=10, fontsize=12, fontweight='bold')\n",
    "ax.set_zlabel('Root Mean Squared Error (RMSE)', labelpad=5, fontsize=12, fontweight='bold')\n",
    "ax.set_title('RMSE vs C and Degree', fontsize=15, fontweight='bold')\n",
    "\n",
    "# Add a colorbar\n",
    "cbar = plt.colorbar(surf, ax=ax, label='RMSE', shrink=0.6, pad=0.1)\n",
    "ax.view_init(elev=15, azim=-45) \n",
    "# Show the plot\n",
    "plt.show()"
   ]
  },
  {
   "cell_type": "markdown",
   "metadata": {},
   "source": [
    "## (3) SVR radial (gaussian)"
   ]
  },
  {
   "cell_type": "code",
   "execution_count": 5,
   "metadata": {},
   "outputs": [
    {
     "name": "stdout",
     "output_type": "stream",
     "text": [
      "SVR rbf best parameter: {'C': 5, 'gamma': 'scale'}\n"
     ]
    }
   ],
   "source": [
    "svr_rbf_param_grid = {'C': [0.1,0.5,1,1.5,5,10,15,25],\n",
    "                       'gamma' : ['scale','auto']\n",
    "                       }\n",
    "\n",
    "svr_rbf= SVR(kernel='rbf')\n",
    "\n",
    "# Use GridSearchCV to find the best hyperparameters\n",
    "svr_rbf_grid_search = GridSearchCV(svr_rbf, svr_rbf_param_grid, cv=10, scoring= make_scorer(rmse_scorer),n_jobs=-1)\n",
    "svr_rbf_grid_search.fit(X, Y)\n",
    "\n",
    "# Print the best hyperparameters\n",
    "svr_rbf_best_params = svr_rbf_grid_search.best_params_\n",
    "print(f\"SVR rbf best parameter: {svr_rbf_best_params}\")"
   ]
  },
  {
   "cell_type": "code",
   "execution_count": 6,
   "metadata": {},
   "outputs": [],
   "source": [
    "# Save the best parameters to a file using pickle\n",
    "with open('parameters/svr_rbf_grid_search.pkl', 'wb') as file:\n",
    "    pickle.dump(svr_rbf_grid_search, file)"
   ]
  },
  {
   "cell_type": "code",
   "execution_count": 9,
   "metadata": {},
   "outputs": [
    {
     "data": {
      "image/png": "[encoded data removed]",
      "text/plain": [
       "<Figure size 550x400 with 1 Axes>"
      ]
     },
     "metadata": {},
     "output_type": "display_data"
    }
   ],
   "source": [
    "# Get the results in a DataFrame\n",
    "svr_rbf_results = pd.DataFrame(svr_rbf_grid_search.cv_results_)\n",
    "\n",
    "sns.set(style=\"whitegrid\")\n",
    "\n",
    "fig= plt.figure(figsize=(5.5, 4))\n",
    "sns.lineplot(x=svr_rbf_results['param_C'], y=-svr_rbf_results['mean_test_score'],color='navy',errorbar=None)\n",
    "\n",
    "# Highlight the best parameter\n",
    "svr_rbf_bestC = svr_rbf_grid_search.best_params_['C']\n",
    "plt.axvline(x=svr_rbf_bestC, color='red', linestyle='--', label=f'Best C: {svr_rbf_bestC}')\n",
    "\n",
    "# Add labels and title\n",
    "plt.xlabel('Regularization parameter (C)')\n",
    "plt.ylabel('Root Mean Squared Error (RMSE)')\n",
    "#plt.title('RMSE vs n_neighbors with GridSearchCV')\n",
    "plt.legend()\n",
    "\n",
    "# Show the plot\n",
    "plt.show()\n",
    "# Save the plot as png\n",
    "fig.savefig('../../plots/svr_rbf_grid_search.png')"
   ]
  }
 ],
 "metadata": {
  "kernelspec": {
   "display_name": "base",
   "language": "python",
   "name": "python3"
  },
  "language_info": {
   "codemirror_mode": {
    "name": "ipython",
    "version": 3
   },
   "file_extension": ".py",
   "mimetype": "text/x-python",
   "name": "python",
   "nbconvert_exporter": "python",
   "pygments_lexer": "ipython3",
   "version": "3.11.5"
  }
 },
 "nbformat": 4,
 "nbformat_minor": 2
}
