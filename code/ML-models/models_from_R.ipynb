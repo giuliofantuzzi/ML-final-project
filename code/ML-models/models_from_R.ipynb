{
 "cells": [
  {
   "cell_type": "markdown",
   "metadata": {},
   "source": [
    "# Models from the R stemming process"
   ]
  },
  {
   "cell_type": "code",
   "execution_count": 1,
   "metadata": {},
   "outputs": [],
   "source": [
    "import pandas as pd\n",
    "import numpy as np\n",
    "import seaborn as sns\n",
    "import matplotlib.pyplot as plt\n",
    "from sklearn.feature_extraction.text import TfidfVectorizer\n",
    "from sklearn.model_selection import KFold\n",
    "from sklearn.ensemble import RandomForestRegressor\n",
    "from sklearn.tree import DecisionTreeRegressor\n",
    "from sklearn.svm import SVR\n",
    "from sklearn.dummy import DummyRegressor\n",
    "from sklearn.neighbors import KNeighborsRegressor\n",
    "from sklearn.metrics import mean_squared_error, mean_absolute_error, mean_absolute_percentage_error, r2_score"
   ]
  },
  {
   "cell_type": "code",
   "execution_count": null,
   "metadata": {},
   "outputs": [],
   "source": [
    "reg_metrics_text = pd.DataFrame(columns=['Model', 'MAE', 'RMSE', 'MAPE', 'R2'])"
   ]
  },
  {
   "cell_type": "code",
   "execution_count": null,
   "metadata": {},
   "outputs": [],
   "source": [
    "dummy_kfolds = KFold(n_splits=10, shuffle=True)\n",
    "for train_idx, test_idx in dummy_kfolds.split(X):\n",
    "    dummy_regressor = DummyRegressor()\n",
    "    dummy_regressor.fit(X.iloc[train_idx], Y.iloc[train_idx])\n",
    "    y_dummy_reg = dummy_regressor.predict(X.iloc[test_idx])\n",
    "    current_dummy_mae = mean_absolute_error(Y.iloc[test_idx], y_dummy_reg)\n",
    "    current_dummy_mse = mean_squared_error(Y.iloc[test_idx], y_dummy_reg)\n",
    "    current_dummy_rmse = np.sqrt(current_dummy_mse)\n",
    "    current_dummy_mape = mean_absolute_percentage_error(Y.iloc[test_idx], y_dummy_reg)\n",
    "    current_dummy_r2 = r2_score(Y.iloc[test_idx], y_dummy_reg)\n",
    "    reg_metrics_text.loc[len(reg_metrics_text)] = ['DUMMY', current_dummy_mae, current_dummy_rmse, current_dummy_mape, current_dummy_r2]\n",
    "\n",
    "#Scatterplot of Y\n",
    "mean_y = np.mean(Y)\n",
    "plt.scatter(np.arange(len(Y)), Y, label='Y')\n",
    "plt.axhline(y=mean_y, color='r', linestyle='--', label='mean')    # Plot the mean\n",
    "plt.title('Scatterplot of Y')\n",
    "plt.xlabel('Sample index')\n",
    "plt.ylabel('Y')\n",
    "plt.legend()\n",
    "plt.show()"
   ]
  },
  {
   "cell_type": "code",
   "execution_count": null,
   "metadata": {},
   "outputs": [],
   "source": [
    "# Decision Tree Regressor\n",
    "# Initialize a decision tree regressor instance\n",
    "tree_kfolds = KFold(n_splits=10, shuffle=True)\n",
    "for train_idx, test_idx in tree_kfolds.split(X):\n",
    "    tree_regressor = DecisionTreeRegressor()\n",
    "    tree_regressor.fit(X.iloc[train_idx], Y.iloc[train_idx])\n",
    "    y_tree_reg = tree_regressor.predict(X.iloc[test_idx])\n",
    "    current_tree_mae = mean_absolute_error(Y.iloc[test_idx], y_tree_reg)\n",
    "    current_tree_mse = mean_squared_error(Y.iloc[test_idx], y_tree_reg)\n",
    "    current_tree_rmse = np.sqrt(current_tree_mse)\n",
    "    current_tree_mape = mean_absolute_percentage_error(Y.iloc[test_idx], y_tree_reg)\n",
    "    current_tree_r2 = r2_score(Y.iloc[test_idx], y_tree_reg)\n",
    "    reg_metrics_text.loc[len(reg_metrics_text)] = ['TREE', current_tree_mae, current_tree_rmse, current_tree_mape, current_tree_r2]"
   ]
  },
  {
   "cell_type": "code",
   "execution_count": null,
   "metadata": {},
   "outputs": [],
   "source": [
    "# Random Forest Regressor\n",
    "# Initialize a random forest regressor instance\n",
    "rf_kfolds = KFold(n_splits=10, shuffle=True)\n",
    "for train_idx, test_idx in rf_kfolds.split(X):\n",
    "    rf_regressor = RandomForestRegressor(n_estimators=100, min_samples_leaf=100, random_state=42)\n",
    "    rf_regressor.fit(X.iloc[train_idx], Y.iloc[train_idx])\n",
    "    y_rf_reg = rf_regressor.predict(X.iloc[test_idx])\n",
    "    current_rf_mae = mean_absolute_error(Y.iloc[test_idx], y_rf_reg)\n",
    "    current_rf_mse = mean_squared_error(Y.iloc[test_idx], y_rf_reg)\n",
    "    current_rf_rmse = np.sqrt(current_rf_mse)\n",
    "    current_rf_mape = mean_absolute_percentage_error(Y.iloc[test_idx], y_rf_reg)\n",
    "    current_rf_r2 = r2_score(Y.iloc[test_idx], y_rf_reg)\n",
    "    reg_metrics_text.loc[len(reg_metrics_text)] = ['RF', current_rf_mae, current_rf_rmse, current_rf_mape, current_rf_r2]"
   ]
  },
  {
   "cell_type": "code",
   "execution_count": null,
   "metadata": {},
   "outputs": [],
   "source": [
    "sv_kfolds = KFold(n_splits=10, shuffle=True)\n",
    "for train_idx, test_idx in sv_kfolds.split(X):\n",
    "    sv_regressor = SVR()\n",
    "    sv_regressor.fit(X.iloc[train_idx], Y.iloc[train_idx])\n",
    "    y_sv_reg = sv_regressor.predict(X.iloc[test_idx])\n",
    "    current_sv_mae = mean_absolute_error(Y.iloc[test_idx], y_sv_reg)\n",
    "    current_sv_mse = mean_squared_error(Y.iloc[test_idx], y_sv_reg)\n",
    "    current_sv_rmse = np.sqrt(current_sv_mse)\n",
    "    current_sv_mape = mean_absolute_percentage_error(Y.iloc[test_idx], y_sv_reg)\n",
    "    current_sv_r2 = r2_score(Y.iloc[test_idx], y_sv_reg)\n",
    "    reg_metrics_text.loc[len(reg_metrics_text)] = ['SVM', current_sv_mae, current_sv_rmse, current_sv_mape, current_sv_r2]"
   ]
  },
  {
   "cell_type": "code",
   "execution_count": null,
   "metadata": {},
   "outputs": [],
   "source": [
    "knn_kfolds = KFold(n_splits=10, shuffle=True)\n",
    "for train_idx, test_idx in knn_kfolds.split(X):\n",
    "    knn_regressor = KNeighborsRegressor()\n",
    "    knn_regressor.fit(X.iloc[train_idx], Y.iloc[train_idx])\n",
    "    y_knn_reg = knn_regressor.predict(X.iloc[test_idx])\n",
    "    current_knn_mae = mean_absolute_error(Y.iloc[test_idx], y_knn_reg)\n",
    "    current_knn_mse = mean_squared_error(Y.iloc[test_idx], y_knn_reg)\n",
    "    current_knn_rmse = np.sqrt(current_knn_mse)\n",
    "    current_knn_mape = mean_absolute_percentage_error(Y.iloc[test_idx], y_knn_reg)\n",
    "    current_knn_r2 = r2_score(Y.iloc[test_idx], y_knn_reg)\n",
    "    reg_metrics_text.loc[len(reg_metrics_text)] = ['KNN', current_knn_mae, current_knn_rmse, current_knn_mape, current_knn_r2]"
   ]
  }
 ],
 "metadata": {
  "kernelspec": {
   "display_name": "base",
   "language": "python",
   "name": "python3"
  },
  "language_info": {
   "codemirror_mode": {
    "name": "ipython",
    "version": 3
   },
   "file_extension": ".py",
   "mimetype": "text/x-python",
   "name": "python",
   "nbconvert_exporter": "python",
   "pygments_lexer": "ipython3",
   "version": "3.9.18"
  }
 },
 "nbformat": 4,
 "nbformat_minor": 2
}
